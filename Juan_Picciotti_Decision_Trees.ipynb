{
  "cells": [
    {
      "cell_type": "markdown",
      "metadata": {
        "id": "JSYuwqlVxLMy"
      },
      "source": [
        "# Project: Decision trees"
      ]
    },
    {
      "cell_type": "markdown",
      "metadata": {
        "id": "QB73_MRtsmd5"
      },
      "source": [
        "#<font color='teal'>Index</font>\n",
        "\n",
        "- [Basic operations](#basic)\n",
        "- [Merging the additional data with our two main dataframes](#merging)\n",
        "- [Further data processing](#further)\n",
        "- [Models!](#models)\n",
        "\n",
        "\n"
      ]
    },
    {
      "cell_type": "markdown",
      "metadata": {
        "id": "DAIjfH7YwptA"
      },
      "source": [
        "<a name=\"basic\"></a>\n",
        "# <font color='blue'> Basic operations:</font>\n",
        "\n",
        "<font color='red'>*You can skip this section and directly load the prepared data*</font>\n",
        "\n",
        "In this group of blocks, we:\n",
        "- Import packages\n",
        "- Load the different files containing the data\n",
        "- Do a quick analysis on the case\n",
        "- Make data management simpler\n",
        "- Deal with datetime columns\n",
        "\n",
        "\n"
      ]
    },
    {
      "cell_type": "markdown",
      "metadata": {
        "id": "YR6m4inUwptB"
      },
      "source": [
        "## Importing main packages:"
      ]
    },
    {
      "cell_type": "code",
      "execution_count": null,
      "metadata": {
        "colab": {
          "base_uri": "https://localhost:8080/"
        },
        "id": "eCDu75jWwptB",
        "outputId": "c466b5b4-8e35-4369-a610-4298364d1c1a"
      },
      "outputs": [
        {
          "name": "stdout",
          "output_type": "stream",
          "text": [
            "Drive already mounted at /content/drive; to attempt to forcibly remount, call drive.mount(\"/content/drive\", force_remount=True).\n"
          ]
        }
      ],
      "source": [
        "from google.colab import drive\n",
        "drive.mount('/content/drive')\n",
        "\n",
        "import os\n",
        "os.chdir('/content/drive/My Drive/CM1_CM2_learning/CML_materials/ensembles/kaggle')\n",
        "\n",
        "import pandas as pd\n",
        "import numpy as np\n",
        "import matplotlib.pyplot as plt \n",
        "\n",
        "import datetime as dt\n",
        "from dateutil.relativedelta import relativedelta\n",
        "\n",
        "\n",
        "import itertools\n",
        "from math import floor"
      ]
    },
    {
      "cell_type": "markdown",
      "metadata": {
        "id": "ejuG58xlwptC"
      },
      "source": [
        "## Loading the data:"
      ]
    },
    {
      "cell_type": "markdown",
      "metadata": {
        "id": "XF8rU-HzwptC"
      },
      "source": [
        "We call:\n",
        "- Train set = data\n",
        "- Test set = test_data\n",
        "- Additional info = comorbidities"
      ]
    },
    {
      "cell_type": "code",
      "execution_count": null,
      "metadata": {
        "id": "jX3qSwwnwptC"
      },
      "outputs": [],
      "source": [
        "data = pd.read_csv('mimic_train.csv')\n",
        "test_data = pd.read_csv('mimic_test_los.csv')\n",
        "comorbidities = pd.read_csv('extra_data/MIMIC_diagnoses.csv')"
      ]
    },
    {
      "cell_type": "markdown",
      "metadata": {
        "id": "D2Q7s1eXIqAs"
      },
      "source": [
        "## Quick analysis:"
      ]
    },
    {
      "cell_type": "markdown",
      "metadata": {
        "id": "PEX3P9naJ3-y"
      },
      "source": [
        "How does `LOS` look like?\n",
        "\n"
      ]
    },
    {
      "cell_type": "code",
      "execution_count": null,
      "metadata": {
        "colab": {
          "base_uri": "https://localhost:8080/",
          "height": 316
        },
        "id": "51UKOpGpJ2_3",
        "outputId": "a1f5a5df-50c9-4fa8-a7a6-900efadfc22d"
      },
      "outputs": [
        {
          "data": {
            "text/plain": [
              "array([[<matplotlib.axes._subplots.AxesSubplot object at 0x7f5ea0580910>]],\n",
              "      dtype=object)"
            ]
          },
          "execution_count": 3,
          "metadata": {},
          "output_type": "execute_result"
        },
        {
          "data": {
            "image/png": "[encoded data removed]",
            "text/plain": [
              "<Figure size 432x288 with 1 Axes>"
            ]
          },
          "metadata": {
            "needs_background": "light"
          },
          "output_type": "display_data"
        }
      ],
      "source": [
        "data.hist(column=\"LOS\", bins = 100, range = (0, 5), density = True)"
      ]
    },
    {
      "cell_type": "code",
      "execution_count": null,
      "metadata": {
        "colab": {
          "base_uri": "https://localhost:8080/"
        },
        "id": "65RKQlKX_goY",
        "outputId": "8eaff3ca-f253-4b48-8643-3dee86b97f84"
      },
      "outputs": [
        {
          "data": {
            "text/plain": [
              "count    20885.000000\n",
              "mean         3.701046\n",
              "std          5.175721\n",
              "min          0.056600\n",
              "25%          1.165400\n",
              "50%          2.020800\n",
              "75%          3.915800\n",
              "max        101.739000\n",
              "Name: LOS, dtype: float64"
            ]
          },
          "execution_count": 4,
          "metadata": {},
          "output_type": "execute_result"
        }
      ],
      "source": [
        "data[\"LOS\"].describe()"
      ]
    },
    {
      "cell_type": "markdown",
      "metadata": {
        "id": "cLv0EcqxK4R3"
      },
      "source": [
        "Is the chance of dying a feature that would be nice to have?"
      ]
    },
    {
      "cell_type": "code",
      "execution_count": null,
      "metadata": {
        "colab": {
          "base_uri": "https://localhost:8080/",
          "height": 265
        },
        "id": "xdddzTM52V1w",
        "outputId": "0603f4b6-3d1d-44c0-ca99-3845bb102f5d"
      },
      "outputs": [
        {
          "data": {
            "image/png": "[encoded data removed]",
            "text/plain": [
              "<Figure size 432x288 with 1 Axes>"
            ]
          },
          "metadata": {
            "needs_background": "light"
          },
          "output_type": "display_data"
        }
      ],
      "source": [
        "dies = data[data[\"HOSPITAL_EXPIRE_FLAG\"] ==1][\"LOS\"]\n",
        "surv = data[data[\"HOSPITAL_EXPIRE_FLAG\"] ==0][\"LOS\"]\n",
        "plt.hist(dies, alpha=0.4, density= True, bins = 500, color = \"red\")\n",
        "plt.hist(surv, alpha=0.5, density= True, bins = 2500, color = \"green\")\n",
        "plt.xlim(0,5)\n",
        "plt.show()\n"
      ]
    },
    {
      "cell_type": "markdown",
      "metadata": {
        "id": "_0D3K6ciSDh4"
      },
      "source": [
        "Yes, since the distributions are quite different."
      ]
    },
    {
      "cell_type": "markdown",
      "metadata": {
        "id": "RCn5fli5LCur"
      },
      "source": [
        "Is the fact that the patient has come before a feature that we would like to have?"
      ]
    },
    {
      "cell_type": "code",
      "execution_count": null,
      "metadata": {
        "colab": {
          "base_uri": "https://localhost:8080/",
          "height": 265
        },
        "id": "CwMksCev-RM8",
        "outputId": "a9a15687-5c96-47c1-c47b-b36c79930d3b"
      },
      "outputs": [
        {
          "data": {
            "image/png": "[encoded data removed]",
            "text/plain": [
              "<Figure size 432x288 with 1 Axes>"
            ]
          },
          "metadata": {
            "needs_background": "light"
          },
          "output_type": "display_data"
        }
      ],
      "source": [
        "data0 = data.sort_values([\"subject_id\", \"ADMITTIME\"])\n",
        "\n",
        "rep = data0[data0[\"subject_id\"].map(data0[\"subject_id\"].value_counts()) >1]\n",
        "non_rep = data0[data0[\"subject_id\"].map(data0[\"subject_id\"].value_counts()) == 1]\n",
        "\n",
        "\n",
        "plt.hist(rep[\"LOS\"], alpha=0.5, density= True, bins = 1000, color = \"blue\")\n",
        "plt.hist(non_rep[\"LOS\"], alpha=0.5, density= True, bins = 1000, color = \"green\")\n",
        "plt.xlim(0,5)\n",
        "plt.show()"
      ]
    },
    {
      "cell_type": "markdown",
      "metadata": {
        "id": "4iyUDLIsSYMh"
      },
      "source": [
        "Yes, repeat patients seem to have longer lengths of stay, the effect is more subtle than deaths though."
      ]
    },
    {
      "cell_type": "markdown",
      "metadata": {
        "id": "ERayXkXQwptC"
      },
      "source": [
        "## Making data management simpler:"
      ]
    },
    {
      "cell_type": "markdown",
      "metadata": {
        "id": "5Toy9GWTwptC"
      },
      "source": [
        "We rename some columns:"
      ]
    },
    {
      "cell_type": "code",
      "execution_count": null,
      "metadata": {
        "id": "E7DiYIQUwptC"
      },
      "outputs": [],
      "source": [
        "data.rename(columns={'ICD9_diagnosis': 'ICD9_CODE'}, inplace=True)\n",
        "test_data.rename(columns={'ICD9_diagnosis': 'ICD9_CODE'}, inplace=True)\n",
        "\n",
        "data.rename(columns={'hadm_id': 'HADM_ID'}, inplace=True)\n",
        "test_data.rename(columns={'hadm_id': 'HADM_ID'}, inplace=True)"
      ]
    },
    {
      "cell_type": "markdown",
      "metadata": {
        "id": "hVMG_p8UV56z"
      },
      "source": [
        "We remove from the extra data, that which is about patients we do not have in our train or test sets."
      ]
    },
    {
      "cell_type": "code",
      "execution_count": null,
      "metadata": {
        "id": "78ZevRgVV0ew"
      },
      "outputs": [],
      "source": [
        "unique_patients_in_data = list(data['subject_id'].unique())\n",
        "unique_patients_in_test_data = list(test_data['subject_id'].unique())\n",
        "unique_patients = unique_patients_in_data + unique_patients_in_test_data\n",
        "comorbidities = comorbidities.loc[comorbidities['SUBJECT_ID'].isin(unique_patients)]"
      ]
    },
    {
      "cell_type": "markdown",
      "metadata": {
        "id": "fD7_2WrGwptD"
      },
      "source": [
        "## Dealing with datetime columns:"
      ]
    },
    {
      "cell_type": "markdown",
      "metadata": {
        "id": "CXoxpn6HwptD"
      },
      "source": [
        "### We generate a column for the patient's age at admission time:"
      ]
    },
    {
      "cell_type": "code",
      "execution_count": null,
      "metadata": {
        "id": "wESQTQAUwptD"
      },
      "outputs": [],
      "source": [
        "# Function to compute and create a column for Age:\n",
        "def get_age(df):\n",
        "\n",
        "  a = list(range(0, df.shape[0], 1))\n",
        "  age_col = []\n",
        "  for i in a:\n",
        "    dif1 = relativedelta(pd.to_datetime(df['ADMITTIME'][i]), pd.to_datetime(df['DOB'][i])).years\n",
        "    dif2 = relativedelta(pd.to_datetime(df['ADMITTIME'][i]), pd.to_datetime(df['DOB'][i])).months\n",
        "    dif3 = relativedelta(pd.to_datetime(df['ADMITTIME'][i]), pd.to_datetime(df['DOB'][i])).days\n",
        "    dif = dif1 + dif2/12+dif3/365.25\n",
        "    if dif > 120: #to normalize those with odd DOBs, who are 90 or older\n",
        "      dif = 90\n",
        "    age_col.append(dif)\n",
        "  \n",
        "  df['Age'] = age_col\n",
        "  \n",
        "  return df\n",
        "\n",
        "for i in [data, test_data]:\n",
        "  get_age(i)"
      ]
    },
    {
      "cell_type": "markdown",
      "metadata": {
        "id": "3lIRgR5ZpFYq"
      },
      "source": [
        "### We correct the datetime offset:"
      ]
    },
    {
      "cell_type": "code",
      "execution_count": null,
      "metadata": {
        "id": "u8tYGQ_ppWOY"
      },
      "outputs": [],
      "source": [
        "# Function to solve the datetimes offset:\n",
        "def datetime_diff(df):\n",
        "  \n",
        "  df[\"DOB\"] = pd.to_datetime(df[\"DOB\"])\n",
        "  df[\"DOB\"] = df.apply(lambda x: x[\"DOB\"] + pd.DateOffset(days=x[\"Diff\"]), axis=1)\n",
        "  df[\"DOB\"] = df[\"DOB\"].dt.floor(\"Min\").dt.strftime(\"%Y-%m-%d %H:%M\")\n",
        "\n",
        "  df[\"ADMITTIME\"] = pd.to_datetime(df[\"ADMITTIME\"])\n",
        "  df[\"ADMITTIME\"] = df.apply(lambda x: x[\"ADMITTIME\"] + pd.DateOffset(days=x[\"Diff\"]), axis=1)\n",
        "  df[\"ADMITTIME\"] = df[\"ADMITTIME\"].dt.floor(\"Min\").dt.strftime(\"%Y-%m-%d %H:%M\")\n",
        "\n",
        "  return df\n",
        "\n",
        "for i in [data, test_data]:\n",
        "  datetime_diff(i)"
      ]
    },
    {
      "cell_type": "markdown",
      "metadata": {
        "id": "3c6rMEEOqf5a"
      },
      "source": [
        "### We generate more features out of `ADMITTIME`:\n",
        "\n",
        "| New Feature | What is the idea?\n",
        "|----------|---------------|\n",
        "|Season of admission | Do patients stay longer in winter?         |        \n",
        "|Year of admission | Are there specially complicated years?           |    \n",
        "|Month of admission| Do doctors still have energy by July?       |    \n",
        "|Weekday of admission | Is it more dangerous to be admitted a Sunday than a Wednesday?        |           \n",
        "|Hour of admission | Is it more likely to have to stay a few extra hours if you were admitted at 3am?        |"
      ]
    },
    {
      "cell_type": "code",
      "execution_count": null,
      "metadata": {
        "id": "lmrD-Fr9wptD"
      },
      "outputs": [],
      "source": [
        "def season(month):\n",
        "   seasons = [\"Winter\", \"Spring\", \"Summer\", \"Autumn\"]\n",
        "   return seasons[np.floor((month-1)/3)]\n",
        "\n",
        "def time_cols(df):\n",
        "  df[\"ADM_year\"] = pd.DatetimeIndex(df[\"ADMITTIME\"]).year\n",
        "  df[\"ADM_month\"] = pd.DatetimeIndex(df[\"ADMITTIME\"]).month\n",
        "  df[\"ADM_weekday\"] = pd.DatetimeIndex(df[\"ADMITTIME\"]).weekday\n",
        "  df[\"ADM_hour\"] = pd.DatetimeIndex(df[\"ADMITTIME\"]).hour \n",
        "\n",
        "  df[\"ADM_season\"] = df.apply(lambda x: season(x.ADM_month),axis=1)\n",
        "\n",
        "for df in [data, test_data]:\n",
        "  time_cols(df)"
      ]
    },
    {
      "cell_type": "markdown",
      "metadata": {
        "id": "s6F7gWNMqaga"
      },
      "source": [
        "### Patients that have been in hospital before:"
      ]
    },
    {
      "cell_type": "code",
      "execution_count": null,
      "metadata": {
        "id": "pOYgWZECrFHW"
      },
      "outputs": [],
      "source": [
        "#this generates a new column with a 0 if this is the first time the patient is admitted or a 1 if it is not.\n",
        "def rep(df):\n",
        "  data0 = df.sort_values([\"subject_id\", \"ADMITTIME\"])\n",
        "\n",
        "  listita = [0]\n",
        "  for i in list(range(1, df.shape[0])):\n",
        "    if data0.iloc[i,1] == data0.iloc[i-1,1]:\n",
        "      listita.append(1)\n",
        "    else:\n",
        "      listita.append(0)\n",
        "\n",
        "  data0[\"repeat\"] = listita\n",
        "\n",
        "  df = data0\n",
        "  return df.sort_values([\"subject_id\", \"ADMITTIME\"]).sort_index(axis = 0)\n",
        " \n",
        "data = rep(data)\n",
        "test_data = rep(test_data)"
      ]
    },
    {
      "cell_type": "markdown",
      "metadata": {
        "id": "G0iOVx7KtXS8"
      },
      "source": [
        "### Expanding `LOS` to get more features:\n",
        "\n",
        "Of course, `LOS` is what we want to predict. But would it be a good idea to split the prediction into two? For instance:\n",
        "\n",
        "- One model predicts how many days the patient is going to stay.\n",
        "- Another predicts time of discharge.\n",
        "\n",
        "You then join the two for your final `LOS` prediction."
      ]
    },
    {
      "cell_type": "code",
      "execution_count": null,
      "metadata": {
        "id": "g5698rs7tSb3"
      },
      "outputs": [],
      "source": [
        "def open_LOS(df):\n",
        "\n",
        "  df[\"ADMITTIME\"] = pd.to_datetime(df[\"ADMITTIME\"])\n",
        "  df[\"DISCHARGE\"] = df.apply(lambda x: x[\"ADMITTIME\"] + pd.DateOffset(days=x[\"LOS\"]), axis=1)\n",
        "  df[\"DISCHARGE\"] = df[\"DISCHARGE\"].dt.floor(\"Min\").dt.strftime(\"%Y-%m-%d %H:%M\")\n",
        "  df[\"DIS_weekday\"] = pd.DatetimeIndex(df[\"ADMITTIME\"]).weekday\n",
        "  df[\"DIS_hour\"] = pd.DatetimeIndex(df[\"ADMITTIME\"]).hour \n",
        "\n",
        "open_LOS(data)"
      ]
    },
    {
      "cell_type": "code",
      "execution_count": null,
      "metadata": {
        "colab": {
          "base_uri": "https://localhost:8080/",
          "height": 298
        },
        "id": "2p7yg8kPwptE",
        "outputId": "8dbb618b-6ca9-473d-c8ba-d5ecc1d4fbf2"
      },
      "outputs": [
        {
          "data": {
            "text/plain": [
              "1.0365437158469946"
            ]
          },
          "execution_count": 14,
          "metadata": {},
          "output_type": "execute_result"
        },
        {
          "data": {
            "image/png": "[encoded data removed]",
            "text/plain": [
              "<Figure size 432x288 with 1 Axes>"
            ]
          },
          "metadata": {
            "needs_background": "light"
          },
          "output_type": "display_data"
        }
      ],
      "source": [
        "data.hist(column=\"DIS_weekday\",bins = 7)\n",
        "max(data[\"DIS_weekday\"].value_counts())/min(data[\"DIS_weekday\"].value_counts())"
      ]
    },
    {
      "cell_type": "markdown",
      "metadata": {
        "id": "oxzRxLh-xf-L"
      },
      "source": [
        "There does not seem to be a day of the week in which being discharged is significantly more/less likely."
      ]
    },
    {
      "cell_type": "code",
      "execution_count": null,
      "metadata": {
        "colab": {
          "base_uri": "https://localhost:8080/",
          "height": 298
        },
        "id": "qloiKaygxvYt",
        "outputId": "b6801463-847a-4eca-8ff3-2b3b5076d739"
      },
      "outputs": [
        {
          "data": {
            "text/plain": [
              "1.1383108935128519"
            ]
          },
          "execution_count": 15,
          "metadata": {},
          "output_type": "execute_result"
        },
        {
          "data": {
            "image/png": "[encoded data removed]",
            "text/plain": [
              "<Figure size 432x288 with 1 Axes>"
            ]
          },
          "metadata": {
            "needs_background": "light"
          },
          "output_type": "display_data"
        }
      ],
      "source": [
        "data.hist(column=\"DIS_hour\", bins=6)\n",
        "max(data[\"DIS_hour\"].value_counts())/min(data[\"DIS_hour\"].value_counts())"
      ]
    },
    {
      "cell_type": "markdown",
      "metadata": {
        "id": "f68d2rf77Lde"
      },
      "source": [
        "Although there is a 13% difference between the less and most frequent hour of discharge, the histogram does not seem to indicate that there is a signal there. We therefore abbandon this idea."
      ]
    },
    {
      "cell_type": "markdown",
      "metadata": {
        "id": "iunVvv5SwptE"
      },
      "source": [
        "<a name=\"merging\"></a>\n",
        "\n",
        "# <font color='blue'> Merging the additional data (comorbidities) with our two main dataframes:</font>\n",
        "\n",
        "<font color='red'>*You can skip this section and directly load the prepared data*\n",
        "\n",
        "In this section, we:\n",
        "- Build the dataframes with the data to merge.\n",
        "- Merge the dataframes and further clean.\n"
      ]
    },
    {
      "cell_type": "markdown",
      "metadata": {
        "id": "K6yIig4pAcjm"
      },
      "source": [
        "### Adding the number of comorbidities a patient has. `SEQ_NUM`"
      ]
    },
    {
      "cell_type": "code",
      "execution_count": null,
      "metadata": {
        "colab": {
          "base_uri": "https://localhost:8080/"
        },
        "id": "m9GtLC9cwptE",
        "outputId": "a89a9658-02b7-4bba-e1ae-3026b109e03d"
      },
      "outputs": [
        {
          "name": "stdout",
          "output_type": "stream",
          "text": [
            "(20885, 52)\n",
            "(5221, 47)\n"
          ]
        }
      ],
      "source": [
        "dseq = comorbidities[[\"HADM_ID\", \"SEQ_NUM\"]]\n",
        "dseq = dseq.groupby(['HADM_ID'], as_index=False).max()\n",
        "data = data.merge(dseq, on='HADM_ID', how='left')\n",
        "test_data = test_data.merge(dseq, on='HADM_ID', how='left')\n",
        "print(data.shape)\n",
        "print(test_data.shape)"
      ]
    },
    {
      "cell_type": "markdown",
      "metadata": {
        "id": "teAp7k_DDCnz"
      },
      "source": [
        "## Building the dataframes to later merge:"
      ]
    },
    {
      "cell_type": "markdown",
      "metadata": {
        "id": "4onTWNa9Ehqh"
      },
      "source": [
        "The additional data offers the comorbidities people had at the time of admission. \n",
        "\n",
        "We will add this information to our main dataframes considering two types of comorbidities:\n",
        "\n",
        "- Those that help predict probability of death. Here, we consider single comorbidities and also try to capture the synergic effect they have when simultaneously present.\n",
        "\n",
        "- Those that help predict `LOS`, which are not necessarily the same ones."
      ]
    },
    {
      "cell_type": "markdown",
      "metadata": {
        "id": "yeIGEzjewptF"
      },
      "source": [
        "###Single comorbidities:\n",
        "\n",
        "We construct a df of the form:\n",
        "- HADM_ID\n",
        "- Dummified 5849 comorbs"
      ]
    },
    {
      "cell_type": "code",
      "execution_count": null,
      "metadata": {
        "colab": {
          "base_uri": "https://localhost:8080/"
        },
        "id": "xSWj2Po7wptF",
        "outputId": "191a5620-d509-4261-c3a8-6c2a499735ea"
      },
      "outputs": [
        {
          "name": "stdout",
          "output_type": "stream",
          "text": [
            "(385240, 5852)\n"
          ]
        }
      ],
      "source": [
        "de = pd.get_dummies(comorbidities)\n",
        "print(de.shape)"
      ]
    },
    {
      "cell_type": "code",
      "execution_count": null,
      "metadata": {
        "id": "ETGQBl3hhA8e"
      },
      "outputs": [],
      "source": [
        "de = de.drop([\"SUBJECT_ID\", \"SEQ_NUM\"], axis=1)"
      ]
    },
    {
      "cell_type": "markdown",
      "metadata": {
        "id": "uVOO1MbdaXOn"
      },
      "source": [
        "The following avoids the program crashing due to RAM limitations:"
      ]
    },
    {
      "cell_type": "code",
      "execution_count": null,
      "metadata": {
        "id": "M590j-9EwptF"
      },
      "outputs": [],
      "source": [
        "names = []\n",
        "for i in list(range(1, len(list(de.columns)))):\n",
        "  names.append(list(de.columns)[i][10:])\n",
        "\n",
        "dic = dict(zip(list(de.columns)[1:], names))\n",
        "de = de.rename(columns=dic)"
      ]
    },
    {
      "cell_type": "code",
      "execution_count": null,
      "metadata": {
        "id": "9siiUFfRwptG"
      },
      "outputs": [],
      "source": [
        "de_1 = de.head(30000)\n",
        "de_1 = de_1.groupby(['HADM_ID'], as_index=False).sum()"
      ]
    },
    {
      "cell_type": "code",
      "execution_count": null,
      "metadata": {
        "id": "mYO1kEoHwptG"
      },
      "outputs": [],
      "source": [
        "de_2 = de[30000:60000]\n",
        "de_2 = de_2.groupby(['HADM_ID'], as_index=False).sum()"
      ]
    },
    {
      "cell_type": "code",
      "execution_count": null,
      "metadata": {
        "id": "XpdYBtfuwptG"
      },
      "outputs": [],
      "source": [
        "de_3 = de[60000:100000]\n",
        "de_3 = de_3.groupby(['HADM_ID'], as_index=False).sum()"
      ]
    },
    {
      "cell_type": "code",
      "execution_count": null,
      "metadata": {
        "id": "ypyRsnSMwptG"
      },
      "outputs": [],
      "source": [
        "de_4 = de[100000:150000]\n",
        "de_4 = de_4.groupby(['HADM_ID'], as_index=False).sum()"
      ]
    },
    {
      "cell_type": "code",
      "execution_count": null,
      "metadata": {
        "id": "fwlRNJMNiXMP"
      },
      "outputs": [],
      "source": [
        "de_5 = de[150000:200000]\n",
        "de_5 = de_5.groupby(['HADM_ID'], as_index=False).sum()"
      ]
    },
    {
      "cell_type": "code",
      "execution_count": null,
      "metadata": {
        "id": "2dTJeOehidtt"
      },
      "outputs": [],
      "source": [
        "de_6 = de[200000:250000]\n",
        "de_6 = de_6.groupby(['HADM_ID'], as_index=False).sum()"
      ]
    },
    {
      "cell_type": "code",
      "execution_count": null,
      "metadata": {
        "id": "AjhDOjcCii7t"
      },
      "outputs": [],
      "source": [
        "de_7 = de[250000:300000]\n",
        "de_7 = de_7.groupby(['HADM_ID'], as_index=False).sum()"
      ]
    },
    {
      "cell_type": "code",
      "execution_count": null,
      "metadata": {
        "id": "OrFv8H0_iofb"
      },
      "outputs": [],
      "source": [
        "de_8 = de[300000:]\n",
        "de_8 = de_8.groupby(['HADM_ID'], as_index=False).sum()"
      ]
    },
    {
      "cell_type": "code",
      "execution_count": null,
      "metadata": {
        "colab": {
          "base_uri": "https://localhost:8080/"
        },
        "id": "sNSsfoLlwptG",
        "outputId": "48305c63-96c0-4c4c-f15b-44ceb817e2eb"
      },
      "outputs": [
        {
          "data": {
            "text/plain": [
              "(27558, 5850)"
            ]
          },
          "execution_count": 28,
          "metadata": {},
          "output_type": "execute_result"
        }
      ],
      "source": [
        "de = pd.concat([de_1, de_2, de_3, de_4, de_5, de_6, de_7, de_8])\n",
        "de = de.groupby(['HADM_ID'], as_index=False).sum()\n",
        "de.shape"
      ]
    },
    {
      "cell_type": "code",
      "execution_count": null,
      "metadata": {
        "colab": {
          "base_uri": "https://localhost:8080/",
          "height": 273
        },
        "id": "DnwPavPFi_qk",
        "outputId": "6bbebf4c-4923-497c-89e6-497dd5505f7f"
      },
      "outputs": [
        {
          "name": "stdout",
          "output_type": "stream",
          "text": [
            "(27558, 5850)\n"
          ]
        },
        {
          "data": {
            "text/html": [
              "<div>\n",
              "<style scoped>\n",
              "    .dataframe tbody tr th:only-of-type {\n",
              "        vertical-align: middle;\n",
              "    }\n",
              "\n",
              "    .dataframe tbody tr th {\n",
              "        vertical-align: top;\n",
              "    }\n",
              "\n",
              "    .dataframe thead th {\n",
              "        text-align: right;\n",
              "    }\n",
              "</style>\n",
              "<table border=\"1\" class=\"dataframe\">\n",
              "  <thead>\n",
              "    <tr style=\"text-align: right;\">\n",
              "      <th></th>\n",
              "      <th>HADM_ID</th>\n",
              "      <th>0030</th>\n",
              "      <th>0031</th>\n",
              "      <th>0038</th>\n",
              "      <th>0039</th>\n",
              "      <th>0041</th>\n",
              "      <th>00581</th>\n",
              "      <th>0059</th>\n",
              "      <th>0071</th>\n",
              "      <th>0074</th>\n",
              "      <th>00804</th>\n",
              "      <th>00841</th>\n",
              "      <th>00843</th>\n",
              "      <th>00845</th>\n",
              "      <th>00847</th>\n",
              "      <th>0085</th>\n",
              "      <th>00862</th>\n",
              "      <th>00863</th>\n",
              "      <th>00869</th>\n",
              "      <th>0088</th>\n",
              "      <th>0090</th>\n",
              "      <th>0091</th>\n",
              "      <th>0092</th>\n",
              "      <th>0093</th>\n",
              "      <th>01123</th>\n",
              "      <th>01164</th>\n",
              "      <th>01186</th>\n",
              "      <th>01190</th>\n",
              "      <th>01194</th>\n",
              "      <th>01205</th>\n",
              "      <th>01300</th>\n",
              "      <th>01304</th>\n",
              "      <th>01325</th>\n",
              "      <th>01330</th>\n",
              "      <th>01354</th>\n",
              "      <th>01402</th>\n",
              "      <th>01405</th>\n",
              "      <th>01485</th>\n",
              "      <th>01504</th>\n",
              "      <th>01505</th>\n",
              "      <th>...</th>\n",
              "      <th>V8489</th>\n",
              "      <th>V850</th>\n",
              "      <th>V851</th>\n",
              "      <th>V8521</th>\n",
              "      <th>V8522</th>\n",
              "      <th>V8523</th>\n",
              "      <th>V8524</th>\n",
              "      <th>V8525</th>\n",
              "      <th>V8530</th>\n",
              "      <th>V8531</th>\n",
              "      <th>V8532</th>\n",
              "      <th>V8533</th>\n",
              "      <th>V8534</th>\n",
              "      <th>V8535</th>\n",
              "      <th>V8536</th>\n",
              "      <th>V8537</th>\n",
              "      <th>V8538</th>\n",
              "      <th>V8539</th>\n",
              "      <th>V854</th>\n",
              "      <th>V8541</th>\n",
              "      <th>V8542</th>\n",
              "      <th>V8543</th>\n",
              "      <th>V8544</th>\n",
              "      <th>V8545</th>\n",
              "      <th>V860</th>\n",
              "      <th>V861</th>\n",
              "      <th>V8709</th>\n",
              "      <th>V872</th>\n",
              "      <th>V8741</th>\n",
              "      <th>V8745</th>\n",
              "      <th>V8801</th>\n",
              "      <th>V8811</th>\n",
              "      <th>V8812</th>\n",
              "      <th>V8821</th>\n",
              "      <th>V9010</th>\n",
              "      <th>V902</th>\n",
              "      <th>V9039</th>\n",
              "      <th>V9081</th>\n",
              "      <th>V9089</th>\n",
              "      <th>V9103</th>\n",
              "    </tr>\n",
              "  </thead>\n",
              "  <tbody>\n",
              "    <tr>\n",
              "      <th>0</th>\n",
              "      <td>100001</td>\n",
              "      <td>0</td>\n",
              "      <td>0</td>\n",
              "      <td>0</td>\n",
              "      <td>0</td>\n",
              "      <td>0</td>\n",
              "      <td>0</td>\n",
              "      <td>0</td>\n",
              "      <td>0</td>\n",
              "      <td>0</td>\n",
              "      <td>0</td>\n",
              "      <td>0</td>\n",
              "      <td>0</td>\n",
              "      <td>0</td>\n",
              "      <td>0</td>\n",
              "      <td>0</td>\n",
              "      <td>0</td>\n",
              "      <td>0</td>\n",
              "      <td>0</td>\n",
              "      <td>0</td>\n",
              "      <td>0</td>\n",
              "      <td>0</td>\n",
              "      <td>0</td>\n",
              "      <td>0</td>\n",
              "      <td>0</td>\n",
              "      <td>0</td>\n",
              "      <td>0</td>\n",
              "      <td>0</td>\n",
              "      <td>0</td>\n",
              "      <td>0</td>\n",
              "      <td>0</td>\n",
              "      <td>0</td>\n",
              "      <td>0</td>\n",
              "      <td>0</td>\n",
              "      <td>0</td>\n",
              "      <td>0</td>\n",
              "      <td>0</td>\n",
              "      <td>0</td>\n",
              "      <td>0</td>\n",
              "      <td>0</td>\n",
              "      <td>...</td>\n",
              "      <td>0</td>\n",
              "      <td>0</td>\n",
              "      <td>0</td>\n",
              "      <td>0</td>\n",
              "      <td>0</td>\n",
              "      <td>0</td>\n",
              "      <td>0</td>\n",
              "      <td>0</td>\n",
              "      <td>0</td>\n",
              "      <td>0</td>\n",
              "      <td>0</td>\n",
              "      <td>0</td>\n",
              "      <td>0</td>\n",
              "      <td>0</td>\n",
              "      <td>0</td>\n",
              "      <td>0</td>\n",
              "      <td>0</td>\n",
              "      <td>0</td>\n",
              "      <td>0</td>\n",
              "      <td>0</td>\n",
              "      <td>0</td>\n",
              "      <td>0</td>\n",
              "      <td>0</td>\n",
              "      <td>0</td>\n",
              "      <td>0</td>\n",
              "      <td>0</td>\n",
              "      <td>0</td>\n",
              "      <td>0</td>\n",
              "      <td>0</td>\n",
              "      <td>0</td>\n",
              "      <td>0</td>\n",
              "      <td>0</td>\n",
              "      <td>0</td>\n",
              "      <td>0</td>\n",
              "      <td>0</td>\n",
              "      <td>0</td>\n",
              "      <td>0</td>\n",
              "      <td>0</td>\n",
              "      <td>0</td>\n",
              "      <td>0</td>\n",
              "    </tr>\n",
              "    <tr>\n",
              "      <th>1</th>\n",
              "      <td>100003</td>\n",
              "      <td>0</td>\n",
              "      <td>0</td>\n",
              "      <td>0</td>\n",
              "      <td>0</td>\n",
              "      <td>0</td>\n",
              "      <td>0</td>\n",
              "      <td>0</td>\n",
              "      <td>0</td>\n",
              "      <td>0</td>\n",
              "      <td>0</td>\n",
              "      <td>0</td>\n",
              "      <td>0</td>\n",
              "      <td>0</td>\n",
              "      <td>0</td>\n",
              "      <td>0</td>\n",
              "      <td>0</td>\n",
              "      <td>0</td>\n",
              "      <td>0</td>\n",
              "      <td>0</td>\n",
              "      <td>0</td>\n",
              "      <td>0</td>\n",
              "      <td>0</td>\n",
              "      <td>0</td>\n",
              "      <td>0</td>\n",
              "      <td>0</td>\n",
              "      <td>0</td>\n",
              "      <td>0</td>\n",
              "      <td>0</td>\n",
              "      <td>0</td>\n",
              "      <td>0</td>\n",
              "      <td>0</td>\n",
              "      <td>0</td>\n",
              "      <td>0</td>\n",
              "      <td>0</td>\n",
              "      <td>0</td>\n",
              "      <td>0</td>\n",
              "      <td>0</td>\n",
              "      <td>0</td>\n",
              "      <td>0</td>\n",
              "      <td>...</td>\n",
              "      <td>0</td>\n",
              "      <td>0</td>\n",
              "      <td>0</td>\n",
              "      <td>0</td>\n",
              "      <td>0</td>\n",
              "      <td>0</td>\n",
              "      <td>0</td>\n",
              "      <td>0</td>\n",
              "      <td>0</td>\n",
              "      <td>0</td>\n",
              "      <td>0</td>\n",
              "      <td>0</td>\n",
              "      <td>0</td>\n",
              "      <td>0</td>\n",
              "      <td>0</td>\n",
              "      <td>0</td>\n",
              "      <td>0</td>\n",
              "      <td>0</td>\n",
              "      <td>0</td>\n",
              "      <td>0</td>\n",
              "      <td>0</td>\n",
              "      <td>0</td>\n",
              "      <td>0</td>\n",
              "      <td>0</td>\n",
              "      <td>0</td>\n",
              "      <td>0</td>\n",
              "      <td>0</td>\n",
              "      <td>0</td>\n",
              "      <td>0</td>\n",
              "      <td>0</td>\n",
              "      <td>0</td>\n",
              "      <td>0</td>\n",
              "      <td>0</td>\n",
              "      <td>0</td>\n",
              "      <td>0</td>\n",
              "      <td>0</td>\n",
              "      <td>0</td>\n",
              "      <td>0</td>\n",
              "      <td>0</td>\n",
              "      <td>0</td>\n",
              "    </tr>\n",
              "    <tr>\n",
              "      <th>2</th>\n",
              "      <td>100009</td>\n",
              "      <td>0</td>\n",
              "      <td>0</td>\n",
              "      <td>0</td>\n",
              "      <td>0</td>\n",
              "      <td>0</td>\n",
              "      <td>0</td>\n",
              "      <td>0</td>\n",
              "      <td>0</td>\n",
              "      <td>0</td>\n",
              "      <td>0</td>\n",
              "      <td>0</td>\n",
              "      <td>0</td>\n",
              "      <td>0</td>\n",
              "      <td>0</td>\n",
              "      <td>0</td>\n",
              "      <td>0</td>\n",
              "      <td>0</td>\n",
              "      <td>0</td>\n",
              "      <td>0</td>\n",
              "      <td>0</td>\n",
              "      <td>0</td>\n",
              "      <td>0</td>\n",
              "      <td>0</td>\n",
              "      <td>0</td>\n",
              "      <td>0</td>\n",
              "      <td>0</td>\n",
              "      <td>0</td>\n",
              "      <td>0</td>\n",
              "      <td>0</td>\n",
              "      <td>0</td>\n",
              "      <td>0</td>\n",
              "      <td>0</td>\n",
              "      <td>0</td>\n",
              "      <td>0</td>\n",
              "      <td>0</td>\n",
              "      <td>0</td>\n",
              "      <td>0</td>\n",
              "      <td>0</td>\n",
              "      <td>0</td>\n",
              "      <td>...</td>\n",
              "      <td>0</td>\n",
              "      <td>0</td>\n",
              "      <td>0</td>\n",
              "      <td>0</td>\n",
              "      <td>0</td>\n",
              "      <td>0</td>\n",
              "      <td>0</td>\n",
              "      <td>0</td>\n",
              "      <td>0</td>\n",
              "      <td>0</td>\n",
              "      <td>0</td>\n",
              "      <td>0</td>\n",
              "      <td>0</td>\n",
              "      <td>1</td>\n",
              "      <td>0</td>\n",
              "      <td>0</td>\n",
              "      <td>0</td>\n",
              "      <td>0</td>\n",
              "      <td>0</td>\n",
              "      <td>0</td>\n",
              "      <td>0</td>\n",
              "      <td>0</td>\n",
              "      <td>0</td>\n",
              "      <td>0</td>\n",
              "      <td>0</td>\n",
              "      <td>0</td>\n",
              "      <td>0</td>\n",
              "      <td>0</td>\n",
              "      <td>0</td>\n",
              "      <td>0</td>\n",
              "      <td>0</td>\n",
              "      <td>0</td>\n",
              "      <td>0</td>\n",
              "      <td>0</td>\n",
              "      <td>0</td>\n",
              "      <td>0</td>\n",
              "      <td>0</td>\n",
              "      <td>0</td>\n",
              "      <td>0</td>\n",
              "      <td>0</td>\n",
              "    </tr>\n",
              "    <tr>\n",
              "      <th>3</th>\n",
              "      <td>100010</td>\n",
              "      <td>0</td>\n",
              "      <td>0</td>\n",
              "      <td>0</td>\n",
              "      <td>0</td>\n",
              "      <td>0</td>\n",
              "      <td>0</td>\n",
              "      <td>0</td>\n",
              "      <td>0</td>\n",
              "      <td>0</td>\n",
              "      <td>0</td>\n",
              "      <td>0</td>\n",
              "      <td>0</td>\n",
              "      <td>0</td>\n",
              "      <td>0</td>\n",
              "      <td>0</td>\n",
              "      <td>0</td>\n",
              "      <td>0</td>\n",
              "      <td>0</td>\n",
              "      <td>0</td>\n",
              "      <td>0</td>\n",
              "      <td>0</td>\n",
              "      <td>0</td>\n",
              "      <td>0</td>\n",
              "      <td>0</td>\n",
              "      <td>0</td>\n",
              "      <td>0</td>\n",
              "      <td>0</td>\n",
              "      <td>0</td>\n",
              "      <td>0</td>\n",
              "      <td>0</td>\n",
              "      <td>0</td>\n",
              "      <td>0</td>\n",
              "      <td>0</td>\n",
              "      <td>0</td>\n",
              "      <td>0</td>\n",
              "      <td>0</td>\n",
              "      <td>0</td>\n",
              "      <td>0</td>\n",
              "      <td>0</td>\n",
              "      <td>...</td>\n",
              "      <td>0</td>\n",
              "      <td>0</td>\n",
              "      <td>0</td>\n",
              "      <td>0</td>\n",
              "      <td>0</td>\n",
              "      <td>0</td>\n",
              "      <td>0</td>\n",
              "      <td>0</td>\n",
              "      <td>0</td>\n",
              "      <td>0</td>\n",
              "      <td>0</td>\n",
              "      <td>0</td>\n",
              "      <td>0</td>\n",
              "      <td>0</td>\n",
              "      <td>0</td>\n",
              "      <td>0</td>\n",
              "      <td>0</td>\n",
              "      <td>0</td>\n",
              "      <td>0</td>\n",
              "      <td>0</td>\n",
              "      <td>0</td>\n",
              "      <td>0</td>\n",
              "      <td>0</td>\n",
              "      <td>0</td>\n",
              "      <td>0</td>\n",
              "      <td>0</td>\n",
              "      <td>0</td>\n",
              "      <td>0</td>\n",
              "      <td>0</td>\n",
              "      <td>0</td>\n",
              "      <td>0</td>\n",
              "      <td>0</td>\n",
              "      <td>0</td>\n",
              "      <td>0</td>\n",
              "      <td>0</td>\n",
              "      <td>0</td>\n",
              "      <td>0</td>\n",
              "      <td>0</td>\n",
              "      <td>0</td>\n",
              "      <td>0</td>\n",
              "    </tr>\n",
              "    <tr>\n",
              "      <th>4</th>\n",
              "      <td>100011</td>\n",
              "      <td>0</td>\n",
              "      <td>0</td>\n",
              "      <td>0</td>\n",
              "      <td>0</td>\n",
              "      <td>0</td>\n",
              "      <td>0</td>\n",
              "      <td>0</td>\n",
              "      <td>0</td>\n",
              "      <td>0</td>\n",
              "      <td>0</td>\n",
              "      <td>0</td>\n",
              "      <td>0</td>\n",
              "      <td>0</td>\n",
              "      <td>0</td>\n",
              "      <td>0</td>\n",
              "      <td>0</td>\n",
              "      <td>0</td>\n",
              "      <td>0</td>\n",
              "      <td>0</td>\n",
              "      <td>0</td>\n",
              "      <td>0</td>\n",
              "      <td>0</td>\n",
              "      <td>0</td>\n",
              "      <td>0</td>\n",
              "      <td>0</td>\n",
              "      <td>0</td>\n",
              "      <td>0</td>\n",
              "      <td>0</td>\n",
              "      <td>0</td>\n",
              "      <td>0</td>\n",
              "      <td>0</td>\n",
              "      <td>0</td>\n",
              "      <td>0</td>\n",
              "      <td>0</td>\n",
              "      <td>0</td>\n",
              "      <td>0</td>\n",
              "      <td>0</td>\n",
              "      <td>0</td>\n",
              "      <td>0</td>\n",
              "      <td>...</td>\n",
              "      <td>0</td>\n",
              "      <td>0</td>\n",
              "      <td>0</td>\n",
              "      <td>0</td>\n",
              "      <td>0</td>\n",
              "      <td>0</td>\n",
              "      <td>0</td>\n",
              "      <td>0</td>\n",
              "      <td>0</td>\n",
              "      <td>0</td>\n",
              "      <td>0</td>\n",
              "      <td>0</td>\n",
              "      <td>0</td>\n",
              "      <td>0</td>\n",
              "      <td>0</td>\n",
              "      <td>0</td>\n",
              "      <td>0</td>\n",
              "      <td>0</td>\n",
              "      <td>0</td>\n",
              "      <td>0</td>\n",
              "      <td>0</td>\n",
              "      <td>0</td>\n",
              "      <td>0</td>\n",
              "      <td>0</td>\n",
              "      <td>0</td>\n",
              "      <td>0</td>\n",
              "      <td>0</td>\n",
              "      <td>0</td>\n",
              "      <td>0</td>\n",
              "      <td>0</td>\n",
              "      <td>0</td>\n",
              "      <td>0</td>\n",
              "      <td>0</td>\n",
              "      <td>0</td>\n",
              "      <td>0</td>\n",
              "      <td>0</td>\n",
              "      <td>0</td>\n",
              "      <td>0</td>\n",
              "      <td>0</td>\n",
              "      <td>0</td>\n",
              "    </tr>\n",
              "  </tbody>\n",
              "</table>\n",
              "<p>5 rows × 5850 columns</p>\n",
              "</div>"
            ],
            "text/plain": [
              "   HADM_ID  0030  0031  0038  0039  ...  V902  V9039  V9081  V9089  V9103\n",
              "0   100001     0     0     0     0  ...     0      0      0      0      0\n",
              "1   100003     0     0     0     0  ...     0      0      0      0      0\n",
              "2   100009     0     0     0     0  ...     0      0      0      0      0\n",
              "3   100010     0     0     0     0  ...     0      0      0      0      0\n",
              "4   100011     0     0     0     0  ...     0      0      0      0      0\n",
              "\n",
              "[5 rows x 5850 columns]"
            ]
          },
          "execution_count": 29,
          "metadata": {},
          "output_type": "execute_result"
        }
      ],
      "source": [
        "print(de.shape)\n",
        "de.head(5)"
      ]
    },
    {
      "cell_type": "markdown",
      "metadata": {
        "id": "4dZKxGUwwptG"
      },
      "source": [
        "### Pairwise interactions - Used for Death prediction:\n",
        "\n",
        "We construct a dataframe of the form:\n",
        "- HADM_ID\n",
        "- Dummified possible combinations between the top 100 deadliest comorbidities (4950 features).\n",
        "- named: de_pair"
      ]
    },
    {
      "cell_type": "code",
      "execution_count": null,
      "metadata": {
        "colab": {
          "base_uri": "https://localhost:8080/"
        },
        "id": "ZvZQW-s1wptG",
        "outputId": "60d0b17d-8bf2-4d78-a3be-94dcd44185d0"
      },
      "outputs": [
        {
          "name": "stderr",
          "output_type": "stream",
          "text": [
            "100% (4950 of 4950) |####################| Elapsed Time: 0:00:28 Time:  0:00:28\n"
          ]
        }
      ],
      "source": [
        "n = 100\n",
        "died = data.loc[data['HOSPITAL_EXPIRE_FLAG'] == 1]\n",
        "who_died = died['HADM_ID']\n",
        "\n",
        "what_kills = comorbidities.loc[comorbidities['HADM_ID'].isin(who_died)]\n",
        "\n",
        "top_killers = what_kills['ICD9_CODE'].value_counts()[:n].index.tolist()\n",
        "\n",
        "all_combinations = list(itertools.combinations(top_killers, 2))\n",
        "\n",
        "\n",
        "name_col = []\n",
        "col_1 = []\n",
        "col_2 = []\n",
        "for (i, j) in all_combinations:\n",
        "  \n",
        "  name_col.append(i+\"+\"+j)\n",
        "  col_1.append(i)\n",
        "  col_2.append(j)\n",
        "dic = {'Pair': name_col, '1': col_1, '2': col_2}\n",
        "\n",
        "dic = pd.DataFrame(dic)\n",
        "\n",
        "num = list(range(0, len(dic['Pair']),1))\n",
        "\n",
        "from progressbar import ProgressBar\n",
        "pbar = ProgressBar()\n",
        "\n",
        "de_pair = de.copy()\n",
        "\n",
        "for i in pbar(num):\n",
        "\n",
        "  de_pair[dic['Pair'][i]] = np.where(de[dic['1'][i]] + de[dic['2'][i]] == 2, 1, 0)\n",
        " "
      ]
    },
    {
      "cell_type": "markdown",
      "metadata": {
        "id": "zGjcUlLuwptG"
      },
      "source": [
        "### Single comorbidities for Death prediction:\n",
        "Dataframe of the form:\n",
        "- HADM_ID\n",
        "- Dummified top 100 most present comorbilities in those who die\n",
        "- Named: de1"
      ]
    },
    {
      "cell_type": "code",
      "execution_count": null,
      "metadata": {
        "id": "DGPQ_pxEwptG"
      },
      "outputs": [],
      "source": [
        "top = 100\n",
        "de1 = de[list(what_kills.ICD9_CODE.value_counts().index)[:top]+[\"HADM_ID\"]]"
      ]
    },
    {
      "cell_type": "markdown",
      "metadata": {
        "id": "_RNBFqC5Zqph"
      },
      "source": [
        "### Single comorbidities for LOS prediction:\n",
        "We identify the top 150 most relevant comorbidities for LOS. \n",
        "\n",
        "To do so, we divide LOS into Short and Long Stays, considering the median as the threshold: 50% of observations will be of each type.\n"
      ]
    },
    {
      "cell_type": "code",
      "execution_count": null,
      "metadata": {
        "colab": {
          "base_uri": "https://localhost:8080/"
        },
        "id": "RC983gZzTUsA",
        "outputId": "dc176de0-25f7-42bd-9266-567ce8b31f53"
      },
      "outputs": [
        {
          "name": "stderr",
          "output_type": "stream",
          "text": [
            "/usr/local/lib/python3.7/dist-packages/ipykernel_launcher.py:3: SettingWithCopyWarning: \n",
            "A value is trying to be set on a copy of a slice from a DataFrame.\n",
            "Try using .loc[row_indexer,col_indexer] = value instead\n",
            "\n",
            "See the caveats in the documentation: https://pandas.pydata.org/pandas-docs/stable/user_guide/indexing.html#returning-a-view-versus-a-copy\n",
            "  This is separate from the ipykernel package so we can avoid doing imports until\n"
          ]
        },
        {
          "name": "stdout",
          "output_type": "stream",
          "text": [
            "proportion of short stays:  0.4999281781182667\n"
          ]
        }
      ],
      "source": [
        "data1 = data\n",
        "data1 = data1[[\"HADM_ID\", \"LOS\"]]\n",
        "data1[\"Short_stay\"] = np.where(data1[\"LOS\"] < 2.0208, 1, 0)\n",
        "print(\"proportion of short stays: \", sum(data1[\"Short_stay\"])/len(data1[\"Short_stay\"]))\n",
        "data1 = data1.merge(de, on='HADM_ID', how='left')\n",
        "\n",
        "def most_freq(a):\n",
        "  data2 = data1[data1[\"Short_stay\"] == a]\n",
        "\n",
        "\n",
        "  freqs = []\n",
        "  comorb = list(data2.columns)[3:]\n",
        "  for i in comorb:\n",
        "    freqs.append(sum(data2[i]))\n",
        "\n",
        "\n",
        "  zipped = list(zip(comorb, freqs))\n",
        "  comorb_in_short_stays = pd.DataFrame(zipped, columns=['Comorb', 'Freq'])\n",
        "  \n",
        "  return comorb_in_short_stays\n",
        "\n",
        "ss = most_freq(1)\n",
        "ls = most_freq(0)"
      ]
    },
    {
      "cell_type": "markdown",
      "metadata": {
        "id": "Z63GR9Kbk8H1"
      },
      "source": [
        "We now analyse which comorbidities are more present in short and long stays. \n",
        "\n",
        "Since some comorbidities are present in both cases, we generate a ratio between frequencies.\n",
        "We keep only those comorbidities that are 75% more likely to be present in short or long stays:\n",
        "\n",
        "- 10 comorbidities are more likely when the stay is short.\n",
        "- 140 when the stay is long."
      ]
    },
    {
      "cell_type": "code",
      "execution_count": null,
      "metadata": {
        "colab": {
          "base_uri": "https://localhost:8080/"
        },
        "id": "teyydwJdVd58",
        "outputId": "3d7ce210-98bb-4e69-fcb9-ae1b5ffeffd8"
      },
      "outputs": [
        {
          "name": "stdout",
          "output_type": "stream",
          "text": [
            "(698, 5)\n"
          ]
        }
      ],
      "source": [
        "ss.rename(columns={'Freq': 'Freq_ss'}, inplace=True)\n",
        "ls.rename(columns={'Freq': 'Freq_ls'}, inplace=True)\n",
        "ls1 = ls.drop([\"Comorb\"], axis=1)\n",
        "top_comorbs = pd.concat([ss, ls1], axis=1)\n",
        "top_comorbs = top_comorbs[top_comorbs[\"Freq_ss\"]>25] # to remove infrequent comorbidities\n",
        "top_comorbs = top_comorbs[top_comorbs[\"Freq_ls\"]>25] # to remove infrequent comorbidities\n",
        "top_comorbs[\"sum\"] = top_comorbs[\"Freq_ss\"] + top_comorbs[\"Freq_ls\"]\n",
        "\n",
        "top_comorbs[\"ratio\"] = (top_comorbs[\"Freq_ss\"] / top_comorbs[\"Freq_ls\"])\n",
        "top_comorbs = top_comorbs.sort_values(by=['ratio'], ascending=False)\n",
        "\n",
        "print(top_comorbs.shape)\n",
        "\n",
        "x = 10\n",
        "\n",
        "top_comorbs_ss = list(top_comorbs.head(x)[\"Comorb\"])\n",
        "top_comorbs_ls = list(top_comorbs.tail(150-x)[\"Comorb\"])\n",
        "\n",
        "top_comorbs_stay = top_comorbs_ss + top_comorbs_ls #these are the most relevant comorbidities for LOS prediction"
      ]
    },
    {
      "cell_type": "markdown",
      "metadata": {
        "id": "1T8J6WJAF3Is"
      },
      "source": [
        "### Pairwise comorbidities for Death prediction:\n",
        "Dataframe of the form:\n",
        "- HADM_ID\n",
        "- Dummified top 100 most present pair of comorbilities in those who die\n",
        "- Named: de_pair"
      ]
    },
    {
      "cell_type": "code",
      "execution_count": null,
      "metadata": {
        "colab": {
          "base_uri": "https://localhost:8080/"
        },
        "id": "mRPhZGNhwptH",
        "outputId": "11256ca3-22a2-4a95-ef58-6dd73bcbd198"
      },
      "outputs": [
        {
          "data": {
            "text/html": [
              "<div>\n",
              "<style scoped>\n",
              "    .dataframe tbody tr th:only-of-type {\n",
              "        vertical-align: middle;\n",
              "    }\n",
              "\n",
              "    .dataframe tbody tr th {\n",
              "        vertical-align: top;\n",
              "    }\n",
              "\n",
              "    .dataframe thead th {\n",
              "        text-align: right;\n",
              "    }\n",
              "</style>\n",
              "<table border=\"1\" class=\"dataframe\">\n",
              "  <thead>\n",
              "    <tr style=\"text-align: right;\">\n",
              "      <th></th>\n",
              "      <th>HADM_ID</th>\n",
              "      <th>0030</th>\n",
              "      <th>0031</th>\n",
              "      <th>0038</th>\n",
              "      <th>0039</th>\n",
              "      <th>0041</th>\n",
              "      <th>00581</th>\n",
              "      <th>0059</th>\n",
              "      <th>0071</th>\n",
              "      <th>0074</th>\n",
              "      <th>00804</th>\n",
              "      <th>00841</th>\n",
              "      <th>00843</th>\n",
              "      <th>00845</th>\n",
              "      <th>00847</th>\n",
              "      <th>0085</th>\n",
              "      <th>00862</th>\n",
              "      <th>00863</th>\n",
              "      <th>00869</th>\n",
              "      <th>0088</th>\n",
              "      <th>0090</th>\n",
              "      <th>0091</th>\n",
              "      <th>0092</th>\n",
              "      <th>0093</th>\n",
              "      <th>01123</th>\n",
              "      <th>01164</th>\n",
              "      <th>01186</th>\n",
              "      <th>01190</th>\n",
              "      <th>01194</th>\n",
              "      <th>01205</th>\n",
              "      <th>01300</th>\n",
              "      <th>01304</th>\n",
              "      <th>01325</th>\n",
              "      <th>01330</th>\n",
              "      <th>01354</th>\n",
              "      <th>01402</th>\n",
              "      <th>01405</th>\n",
              "      <th>01485</th>\n",
              "      <th>01504</th>\n",
              "      <th>01505</th>\n",
              "      <th>...</th>\n",
              "      <th>5722+V1254</th>\n",
              "      <th>5722+42832</th>\n",
              "      <th>5722+30000</th>\n",
              "      <th>5722+79092</th>\n",
              "      <th>99591+43491</th>\n",
              "      <th>99591+2930</th>\n",
              "      <th>99591+V103</th>\n",
              "      <th>99591+2639</th>\n",
              "      <th>99591+V1254</th>\n",
              "      <th>99591+42832</th>\n",
              "      <th>99591+30000</th>\n",
              "      <th>99591+79092</th>\n",
              "      <th>43491+2930</th>\n",
              "      <th>43491+V103</th>\n",
              "      <th>43491+2639</th>\n",
              "      <th>43491+V1254</th>\n",
              "      <th>43491+42832</th>\n",
              "      <th>43491+30000</th>\n",
              "      <th>43491+79092</th>\n",
              "      <th>2930+V103</th>\n",
              "      <th>2930+2639</th>\n",
              "      <th>2930+V1254</th>\n",
              "      <th>2930+42832</th>\n",
              "      <th>2930+30000</th>\n",
              "      <th>2930+79092</th>\n",
              "      <th>V103+2639</th>\n",
              "      <th>V103+V1254</th>\n",
              "      <th>V103+42832</th>\n",
              "      <th>V103+30000</th>\n",
              "      <th>V103+79092</th>\n",
              "      <th>2639+V1254</th>\n",
              "      <th>2639+42832</th>\n",
              "      <th>2639+30000</th>\n",
              "      <th>2639+79092</th>\n",
              "      <th>V1254+42832</th>\n",
              "      <th>V1254+30000</th>\n",
              "      <th>V1254+79092</th>\n",
              "      <th>42832+30000</th>\n",
              "      <th>42832+79092</th>\n",
              "      <th>30000+79092</th>\n",
              "    </tr>\n",
              "  </thead>\n",
              "  <tbody>\n",
              "    <tr>\n",
              "      <th>23</th>\n",
              "      <td>100061</td>\n",
              "      <td>0</td>\n",
              "      <td>0</td>\n",
              "      <td>0</td>\n",
              "      <td>0</td>\n",
              "      <td>0</td>\n",
              "      <td>0</td>\n",
              "      <td>0</td>\n",
              "      <td>0</td>\n",
              "      <td>0</td>\n",
              "      <td>0</td>\n",
              "      <td>0</td>\n",
              "      <td>0</td>\n",
              "      <td>0</td>\n",
              "      <td>0</td>\n",
              "      <td>0</td>\n",
              "      <td>0</td>\n",
              "      <td>0</td>\n",
              "      <td>0</td>\n",
              "      <td>0</td>\n",
              "      <td>0</td>\n",
              "      <td>0</td>\n",
              "      <td>0</td>\n",
              "      <td>0</td>\n",
              "      <td>0</td>\n",
              "      <td>0</td>\n",
              "      <td>0</td>\n",
              "      <td>0</td>\n",
              "      <td>0</td>\n",
              "      <td>0</td>\n",
              "      <td>0</td>\n",
              "      <td>0</td>\n",
              "      <td>0</td>\n",
              "      <td>0</td>\n",
              "      <td>0</td>\n",
              "      <td>0</td>\n",
              "      <td>0</td>\n",
              "      <td>0</td>\n",
              "      <td>0</td>\n",
              "      <td>0</td>\n",
              "      <td>...</td>\n",
              "      <td>0</td>\n",
              "      <td>0</td>\n",
              "      <td>0</td>\n",
              "      <td>0</td>\n",
              "      <td>0</td>\n",
              "      <td>0</td>\n",
              "      <td>0</td>\n",
              "      <td>0</td>\n",
              "      <td>0</td>\n",
              "      <td>0</td>\n",
              "      <td>0</td>\n",
              "      <td>0</td>\n",
              "      <td>0</td>\n",
              "      <td>0</td>\n",
              "      <td>0</td>\n",
              "      <td>0</td>\n",
              "      <td>0</td>\n",
              "      <td>0</td>\n",
              "      <td>0</td>\n",
              "      <td>0</td>\n",
              "      <td>0</td>\n",
              "      <td>0</td>\n",
              "      <td>0</td>\n",
              "      <td>0</td>\n",
              "      <td>0</td>\n",
              "      <td>0</td>\n",
              "      <td>0</td>\n",
              "      <td>0</td>\n",
              "      <td>0</td>\n",
              "      <td>0</td>\n",
              "      <td>0</td>\n",
              "      <td>0</td>\n",
              "      <td>0</td>\n",
              "      <td>0</td>\n",
              "      <td>0</td>\n",
              "      <td>0</td>\n",
              "      <td>0</td>\n",
              "      <td>0</td>\n",
              "      <td>0</td>\n",
              "      <td>0</td>\n",
              "    </tr>\n",
              "    <tr>\n",
              "      <th>28</th>\n",
              "      <td>100074</td>\n",
              "      <td>0</td>\n",
              "      <td>0</td>\n",
              "      <td>0</td>\n",
              "      <td>0</td>\n",
              "      <td>0</td>\n",
              "      <td>0</td>\n",
              "      <td>0</td>\n",
              "      <td>0</td>\n",
              "      <td>0</td>\n",
              "      <td>0</td>\n",
              "      <td>0</td>\n",
              "      <td>0</td>\n",
              "      <td>0</td>\n",
              "      <td>0</td>\n",
              "      <td>0</td>\n",
              "      <td>0</td>\n",
              "      <td>0</td>\n",
              "      <td>0</td>\n",
              "      <td>0</td>\n",
              "      <td>0</td>\n",
              "      <td>0</td>\n",
              "      <td>0</td>\n",
              "      <td>0</td>\n",
              "      <td>0</td>\n",
              "      <td>0</td>\n",
              "      <td>0</td>\n",
              "      <td>0</td>\n",
              "      <td>0</td>\n",
              "      <td>0</td>\n",
              "      <td>0</td>\n",
              "      <td>0</td>\n",
              "      <td>0</td>\n",
              "      <td>0</td>\n",
              "      <td>0</td>\n",
              "      <td>0</td>\n",
              "      <td>0</td>\n",
              "      <td>0</td>\n",
              "      <td>0</td>\n",
              "      <td>0</td>\n",
              "      <td>...</td>\n",
              "      <td>0</td>\n",
              "      <td>0</td>\n",
              "      <td>0</td>\n",
              "      <td>0</td>\n",
              "      <td>0</td>\n",
              "      <td>0</td>\n",
              "      <td>0</td>\n",
              "      <td>0</td>\n",
              "      <td>0</td>\n",
              "      <td>0</td>\n",
              "      <td>0</td>\n",
              "      <td>0</td>\n",
              "      <td>0</td>\n",
              "      <td>0</td>\n",
              "      <td>0</td>\n",
              "      <td>0</td>\n",
              "      <td>0</td>\n",
              "      <td>0</td>\n",
              "      <td>0</td>\n",
              "      <td>0</td>\n",
              "      <td>0</td>\n",
              "      <td>0</td>\n",
              "      <td>0</td>\n",
              "      <td>0</td>\n",
              "      <td>0</td>\n",
              "      <td>0</td>\n",
              "      <td>0</td>\n",
              "      <td>0</td>\n",
              "      <td>0</td>\n",
              "      <td>0</td>\n",
              "      <td>0</td>\n",
              "      <td>0</td>\n",
              "      <td>0</td>\n",
              "      <td>0</td>\n",
              "      <td>0</td>\n",
              "      <td>0</td>\n",
              "      <td>0</td>\n",
              "      <td>0</td>\n",
              "      <td>0</td>\n",
              "      <td>0</td>\n",
              "    </tr>\n",
              "    <tr>\n",
              "      <th>35</th>\n",
              "      <td>100098</td>\n",
              "      <td>0</td>\n",
              "      <td>0</td>\n",
              "      <td>0</td>\n",
              "      <td>0</td>\n",
              "      <td>0</td>\n",
              "      <td>0</td>\n",
              "      <td>0</td>\n",
              "      <td>0</td>\n",
              "      <td>0</td>\n",
              "      <td>0</td>\n",
              "      <td>0</td>\n",
              "      <td>0</td>\n",
              "      <td>0</td>\n",
              "      <td>0</td>\n",
              "      <td>0</td>\n",
              "      <td>0</td>\n",
              "      <td>0</td>\n",
              "      <td>0</td>\n",
              "      <td>0</td>\n",
              "      <td>0</td>\n",
              "      <td>0</td>\n",
              "      <td>0</td>\n",
              "      <td>0</td>\n",
              "      <td>0</td>\n",
              "      <td>0</td>\n",
              "      <td>0</td>\n",
              "      <td>0</td>\n",
              "      <td>0</td>\n",
              "      <td>0</td>\n",
              "      <td>0</td>\n",
              "      <td>0</td>\n",
              "      <td>0</td>\n",
              "      <td>0</td>\n",
              "      <td>0</td>\n",
              "      <td>0</td>\n",
              "      <td>0</td>\n",
              "      <td>0</td>\n",
              "      <td>0</td>\n",
              "      <td>0</td>\n",
              "      <td>...</td>\n",
              "      <td>0</td>\n",
              "      <td>0</td>\n",
              "      <td>0</td>\n",
              "      <td>0</td>\n",
              "      <td>0</td>\n",
              "      <td>0</td>\n",
              "      <td>0</td>\n",
              "      <td>0</td>\n",
              "      <td>0</td>\n",
              "      <td>0</td>\n",
              "      <td>0</td>\n",
              "      <td>0</td>\n",
              "      <td>0</td>\n",
              "      <td>0</td>\n",
              "      <td>0</td>\n",
              "      <td>0</td>\n",
              "      <td>0</td>\n",
              "      <td>0</td>\n",
              "      <td>0</td>\n",
              "      <td>0</td>\n",
              "      <td>0</td>\n",
              "      <td>0</td>\n",
              "      <td>0</td>\n",
              "      <td>0</td>\n",
              "      <td>0</td>\n",
              "      <td>0</td>\n",
              "      <td>0</td>\n",
              "      <td>0</td>\n",
              "      <td>0</td>\n",
              "      <td>0</td>\n",
              "      <td>0</td>\n",
              "      <td>0</td>\n",
              "      <td>0</td>\n",
              "      <td>0</td>\n",
              "      <td>0</td>\n",
              "      <td>0</td>\n",
              "      <td>0</td>\n",
              "      <td>0</td>\n",
              "      <td>0</td>\n",
              "      <td>0</td>\n",
              "    </tr>\n",
              "    <tr>\n",
              "      <th>57</th>\n",
              "      <td>100197</td>\n",
              "      <td>0</td>\n",
              "      <td>0</td>\n",
              "      <td>0</td>\n",
              "      <td>0</td>\n",
              "      <td>0</td>\n",
              "      <td>0</td>\n",
              "      <td>0</td>\n",
              "      <td>0</td>\n",
              "      <td>0</td>\n",
              "      <td>0</td>\n",
              "      <td>0</td>\n",
              "      <td>0</td>\n",
              "      <td>0</td>\n",
              "      <td>0</td>\n",
              "      <td>0</td>\n",
              "      <td>0</td>\n",
              "      <td>0</td>\n",
              "      <td>0</td>\n",
              "      <td>0</td>\n",
              "      <td>0</td>\n",
              "      <td>0</td>\n",
              "      <td>0</td>\n",
              "      <td>0</td>\n",
              "      <td>0</td>\n",
              "      <td>0</td>\n",
              "      <td>0</td>\n",
              "      <td>0</td>\n",
              "      <td>0</td>\n",
              "      <td>0</td>\n",
              "      <td>0</td>\n",
              "      <td>0</td>\n",
              "      <td>0</td>\n",
              "      <td>0</td>\n",
              "      <td>0</td>\n",
              "      <td>0</td>\n",
              "      <td>0</td>\n",
              "      <td>0</td>\n",
              "      <td>0</td>\n",
              "      <td>0</td>\n",
              "      <td>...</td>\n",
              "      <td>0</td>\n",
              "      <td>0</td>\n",
              "      <td>0</td>\n",
              "      <td>0</td>\n",
              "      <td>0</td>\n",
              "      <td>0</td>\n",
              "      <td>0</td>\n",
              "      <td>0</td>\n",
              "      <td>0</td>\n",
              "      <td>0</td>\n",
              "      <td>0</td>\n",
              "      <td>0</td>\n",
              "      <td>0</td>\n",
              "      <td>0</td>\n",
              "      <td>0</td>\n",
              "      <td>0</td>\n",
              "      <td>0</td>\n",
              "      <td>0</td>\n",
              "      <td>0</td>\n",
              "      <td>0</td>\n",
              "      <td>0</td>\n",
              "      <td>0</td>\n",
              "      <td>0</td>\n",
              "      <td>0</td>\n",
              "      <td>0</td>\n",
              "      <td>0</td>\n",
              "      <td>0</td>\n",
              "      <td>0</td>\n",
              "      <td>0</td>\n",
              "      <td>0</td>\n",
              "      <td>0</td>\n",
              "      <td>0</td>\n",
              "      <td>0</td>\n",
              "      <td>0</td>\n",
              "      <td>0</td>\n",
              "      <td>0</td>\n",
              "      <td>0</td>\n",
              "      <td>0</td>\n",
              "      <td>0</td>\n",
              "      <td>0</td>\n",
              "    </tr>\n",
              "    <tr>\n",
              "      <th>65</th>\n",
              "      <td>100223</td>\n",
              "      <td>0</td>\n",
              "      <td>0</td>\n",
              "      <td>0</td>\n",
              "      <td>0</td>\n",
              "      <td>0</td>\n",
              "      <td>0</td>\n",
              "      <td>0</td>\n",
              "      <td>0</td>\n",
              "      <td>0</td>\n",
              "      <td>0</td>\n",
              "      <td>0</td>\n",
              "      <td>0</td>\n",
              "      <td>0</td>\n",
              "      <td>0</td>\n",
              "      <td>0</td>\n",
              "      <td>0</td>\n",
              "      <td>0</td>\n",
              "      <td>0</td>\n",
              "      <td>0</td>\n",
              "      <td>0</td>\n",
              "      <td>0</td>\n",
              "      <td>0</td>\n",
              "      <td>0</td>\n",
              "      <td>0</td>\n",
              "      <td>0</td>\n",
              "      <td>0</td>\n",
              "      <td>0</td>\n",
              "      <td>0</td>\n",
              "      <td>0</td>\n",
              "      <td>0</td>\n",
              "      <td>0</td>\n",
              "      <td>0</td>\n",
              "      <td>0</td>\n",
              "      <td>0</td>\n",
              "      <td>0</td>\n",
              "      <td>0</td>\n",
              "      <td>0</td>\n",
              "      <td>0</td>\n",
              "      <td>0</td>\n",
              "      <td>...</td>\n",
              "      <td>0</td>\n",
              "      <td>0</td>\n",
              "      <td>0</td>\n",
              "      <td>0</td>\n",
              "      <td>0</td>\n",
              "      <td>0</td>\n",
              "      <td>0</td>\n",
              "      <td>0</td>\n",
              "      <td>0</td>\n",
              "      <td>0</td>\n",
              "      <td>0</td>\n",
              "      <td>0</td>\n",
              "      <td>0</td>\n",
              "      <td>0</td>\n",
              "      <td>0</td>\n",
              "      <td>0</td>\n",
              "      <td>0</td>\n",
              "      <td>0</td>\n",
              "      <td>0</td>\n",
              "      <td>0</td>\n",
              "      <td>0</td>\n",
              "      <td>0</td>\n",
              "      <td>0</td>\n",
              "      <td>0</td>\n",
              "      <td>0</td>\n",
              "      <td>0</td>\n",
              "      <td>0</td>\n",
              "      <td>0</td>\n",
              "      <td>0</td>\n",
              "      <td>0</td>\n",
              "      <td>0</td>\n",
              "      <td>0</td>\n",
              "      <td>0</td>\n",
              "      <td>0</td>\n",
              "      <td>0</td>\n",
              "      <td>0</td>\n",
              "      <td>0</td>\n",
              "      <td>0</td>\n",
              "      <td>0</td>\n",
              "      <td>0</td>\n",
              "    </tr>\n",
              "  </tbody>\n",
              "</table>\n",
              "<p>5 rows × 10800 columns</p>\n",
              "</div>"
            ],
            "text/plain": [
              "    HADM_ID  0030  0031  ...  42832+30000  42832+79092  30000+79092\n",
              "23   100061     0     0  ...            0            0            0\n",
              "28   100074     0     0  ...            0            0            0\n",
              "35   100098     0     0  ...            0            0            0\n",
              "57   100197     0     0  ...            0            0            0\n",
              "65   100223     0     0  ...            0            0            0\n",
              "\n",
              "[5 rows x 10800 columns]"
            ]
          },
          "execution_count": 34,
          "metadata": {},
          "output_type": "execute_result"
        }
      ],
      "source": [
        "de_pair1 = de_pair[de_pair['HADM_ID'].isin(who_died)]\n",
        "de_pair1.head(5)"
      ]
    },
    {
      "cell_type": "code",
      "execution_count": null,
      "metadata": {
        "colab": {
          "base_uri": "https://localhost:8080/"
        },
        "id": "aMLcjXvbwptH",
        "outputId": "0a99883d-8521-46a3-f512-7e9cdc7c2e50"
      },
      "outputs": [
        {
          "name": "stdout",
          "output_type": "stream",
          "text": [
            "2093\n"
          ]
        }
      ],
      "source": [
        "leave = 100\n",
        "\n",
        "print(len((who_died.unique())))\n",
        "de_pair1 = de_pair[de_pair['HADM_ID'].isin(who_died)]\n",
        "sums = []\n",
        "for i in list(de_pair1.columns)[5850:]:\n",
        "  sums.append(de_pair1[i].sum())\n",
        "auxdf = pd.DataFrame({\"ColName\": list(de_pair1.columns)[5850:], \"Sum\": sums})\n",
        "auxdf = auxdf.sort_values(by=\"Sum\", ascending=False)\n",
        "auxdf = auxdf.head(leave)\n",
        "leave_these_columns = ['HADM_ID'] + list(auxdf['ColName'])\n"
      ]
    },
    {
      "cell_type": "code",
      "execution_count": null,
      "metadata": {
        "colab": {
          "base_uri": "https://localhost:8080/"
        },
        "id": "k8uUlAejwptH",
        "outputId": "8a238213-8d56-4ecc-bf39-9a6f66748cab"
      },
      "outputs": [
        {
          "data": {
            "text/html": [
              "<div>\n",
              "<style scoped>\n",
              "    .dataframe tbody tr th:only-of-type {\n",
              "        vertical-align: middle;\n",
              "    }\n",
              "\n",
              "    .dataframe tbody tr th {\n",
              "        vertical-align: top;\n",
              "    }\n",
              "\n",
              "    .dataframe thead th {\n",
              "        text-align: right;\n",
              "    }\n",
              "</style>\n",
              "<table border=\"1\" class=\"dataframe\">\n",
              "  <thead>\n",
              "    <tr style=\"text-align: right;\">\n",
              "      <th></th>\n",
              "      <th>HADM_ID</th>\n",
              "      <th>99592+0389</th>\n",
              "      <th>99592+78552</th>\n",
              "      <th>51881+99592</th>\n",
              "      <th>51881+5849</th>\n",
              "      <th>42731+4280</th>\n",
              "      <th>51881+4019</th>\n",
              "      <th>51881+42731</th>\n",
              "      <th>51881+0389</th>\n",
              "      <th>0389+78552</th>\n",
              "      <th>5849+99592</th>\n",
              "      <th>51881+4280</th>\n",
              "      <th>51881+78552</th>\n",
              "      <th>51881+2762</th>\n",
              "      <th>4019+42731</th>\n",
              "      <th>5849+4280</th>\n",
              "      <th>42731+5849</th>\n",
              "      <th>4019+5849</th>\n",
              "      <th>99592+2762</th>\n",
              "      <th>5849+2762</th>\n",
              "      <th>4019+2724</th>\n",
              "      <th>42731+99592</th>\n",
              "      <th>5849+0389</th>\n",
              "      <th>51881+486</th>\n",
              "      <th>99592+4280</th>\n",
              "      <th>4019+25000</th>\n",
              "      <th>51881+25000</th>\n",
              "      <th>5849+78552</th>\n",
              "      <th>4019+99592</th>\n",
              "      <th>40390+5859</th>\n",
              "      <th>4019+4280</th>\n",
              "      <th>42731+2762</th>\n",
              "      <th>2762+0389</th>\n",
              "      <th>51881+V4986</th>\n",
              "      <th>4019+2762</th>\n",
              "      <th>4280+41401</th>\n",
              "      <th>51881+2724</th>\n",
              "      <th>4019+V4986</th>\n",
              "      <th>42731+V5861</th>\n",
              "      <th>42731+2724</th>\n",
              "      <th>...</th>\n",
              "      <th>99592+5845</th>\n",
              "      <th>5849+40390</th>\n",
              "      <th>4280+78552</th>\n",
              "      <th>4019+41401</th>\n",
              "      <th>5849+2724</th>\n",
              "      <th>4280+486</th>\n",
              "      <th>5849+5990</th>\n",
              "      <th>4280+5859</th>\n",
              "      <th>51881+2875</th>\n",
              "      <th>99592+486</th>\n",
              "      <th>42731+486</th>\n",
              "      <th>5849+V4986</th>\n",
              "      <th>5849+5859</th>\n",
              "      <th>5849+41401</th>\n",
              "      <th>2762+5845</th>\n",
              "      <th>51881+4275</th>\n",
              "      <th>42731+40390</th>\n",
              "      <th>4019+78552</th>\n",
              "      <th>V4986+2724</th>\n",
              "      <th>42731+5990</th>\n",
              "      <th>99592+25000</th>\n",
              "      <th>2724+25000</th>\n",
              "      <th>4280+V4986</th>\n",
              "      <th>5849+V667</th>\n",
              "      <th>0389+486</th>\n",
              "      <th>99592+2875</th>\n",
              "      <th>2724+41401</th>\n",
              "      <th>4019+486</th>\n",
              "      <th>51881+40390</th>\n",
              "      <th>4280+V5861</th>\n",
              "      <th>51881+2760</th>\n",
              "      <th>42731+V667</th>\n",
              "      <th>5849+2875</th>\n",
              "      <th>51881+2761</th>\n",
              "      <th>99592+5990</th>\n",
              "      <th>78552+5845</th>\n",
              "      <th>42731+5859</th>\n",
              "      <th>42731+5845</th>\n",
              "      <th>2762+25000</th>\n",
              "      <th>51881+496</th>\n",
              "    </tr>\n",
              "  </thead>\n",
              "  <tbody>\n",
              "    <tr>\n",
              "      <th>0</th>\n",
              "      <td>100001</td>\n",
              "      <td>0</td>\n",
              "      <td>0</td>\n",
              "      <td>0</td>\n",
              "      <td>0</td>\n",
              "      <td>0</td>\n",
              "      <td>0</td>\n",
              "      <td>0</td>\n",
              "      <td>0</td>\n",
              "      <td>0</td>\n",
              "      <td>0</td>\n",
              "      <td>0</td>\n",
              "      <td>0</td>\n",
              "      <td>0</td>\n",
              "      <td>0</td>\n",
              "      <td>0</td>\n",
              "      <td>0</td>\n",
              "      <td>0</td>\n",
              "      <td>0</td>\n",
              "      <td>0</td>\n",
              "      <td>0</td>\n",
              "      <td>0</td>\n",
              "      <td>0</td>\n",
              "      <td>0</td>\n",
              "      <td>0</td>\n",
              "      <td>0</td>\n",
              "      <td>0</td>\n",
              "      <td>0</td>\n",
              "      <td>0</td>\n",
              "      <td>0</td>\n",
              "      <td>0</td>\n",
              "      <td>0</td>\n",
              "      <td>0</td>\n",
              "      <td>0</td>\n",
              "      <td>0</td>\n",
              "      <td>0</td>\n",
              "      <td>0</td>\n",
              "      <td>0</td>\n",
              "      <td>0</td>\n",
              "      <td>0</td>\n",
              "      <td>...</td>\n",
              "      <td>0</td>\n",
              "      <td>1</td>\n",
              "      <td>0</td>\n",
              "      <td>0</td>\n",
              "      <td>0</td>\n",
              "      <td>0</td>\n",
              "      <td>0</td>\n",
              "      <td>0</td>\n",
              "      <td>0</td>\n",
              "      <td>0</td>\n",
              "      <td>0</td>\n",
              "      <td>0</td>\n",
              "      <td>0</td>\n",
              "      <td>0</td>\n",
              "      <td>0</td>\n",
              "      <td>0</td>\n",
              "      <td>0</td>\n",
              "      <td>0</td>\n",
              "      <td>0</td>\n",
              "      <td>0</td>\n",
              "      <td>0</td>\n",
              "      <td>0</td>\n",
              "      <td>0</td>\n",
              "      <td>0</td>\n",
              "      <td>0</td>\n",
              "      <td>0</td>\n",
              "      <td>0</td>\n",
              "      <td>0</td>\n",
              "      <td>0</td>\n",
              "      <td>0</td>\n",
              "      <td>0</td>\n",
              "      <td>0</td>\n",
              "      <td>0</td>\n",
              "      <td>0</td>\n",
              "      <td>0</td>\n",
              "      <td>0</td>\n",
              "      <td>0</td>\n",
              "      <td>0</td>\n",
              "      <td>0</td>\n",
              "      <td>0</td>\n",
              "    </tr>\n",
              "    <tr>\n",
              "      <th>1</th>\n",
              "      <td>100003</td>\n",
              "      <td>0</td>\n",
              "      <td>0</td>\n",
              "      <td>0</td>\n",
              "      <td>0</td>\n",
              "      <td>0</td>\n",
              "      <td>0</td>\n",
              "      <td>0</td>\n",
              "      <td>0</td>\n",
              "      <td>0</td>\n",
              "      <td>0</td>\n",
              "      <td>0</td>\n",
              "      <td>0</td>\n",
              "      <td>0</td>\n",
              "      <td>0</td>\n",
              "      <td>0</td>\n",
              "      <td>0</td>\n",
              "      <td>0</td>\n",
              "      <td>0</td>\n",
              "      <td>0</td>\n",
              "      <td>0</td>\n",
              "      <td>0</td>\n",
              "      <td>0</td>\n",
              "      <td>0</td>\n",
              "      <td>0</td>\n",
              "      <td>0</td>\n",
              "      <td>0</td>\n",
              "      <td>0</td>\n",
              "      <td>0</td>\n",
              "      <td>0</td>\n",
              "      <td>0</td>\n",
              "      <td>0</td>\n",
              "      <td>0</td>\n",
              "      <td>0</td>\n",
              "      <td>0</td>\n",
              "      <td>0</td>\n",
              "      <td>0</td>\n",
              "      <td>0</td>\n",
              "      <td>0</td>\n",
              "      <td>0</td>\n",
              "      <td>...</td>\n",
              "      <td>0</td>\n",
              "      <td>0</td>\n",
              "      <td>0</td>\n",
              "      <td>0</td>\n",
              "      <td>0</td>\n",
              "      <td>0</td>\n",
              "      <td>0</td>\n",
              "      <td>0</td>\n",
              "      <td>0</td>\n",
              "      <td>0</td>\n",
              "      <td>0</td>\n",
              "      <td>0</td>\n",
              "      <td>0</td>\n",
              "      <td>0</td>\n",
              "      <td>0</td>\n",
              "      <td>0</td>\n",
              "      <td>0</td>\n",
              "      <td>0</td>\n",
              "      <td>0</td>\n",
              "      <td>0</td>\n",
              "      <td>0</td>\n",
              "      <td>0</td>\n",
              "      <td>0</td>\n",
              "      <td>0</td>\n",
              "      <td>0</td>\n",
              "      <td>0</td>\n",
              "      <td>0</td>\n",
              "      <td>0</td>\n",
              "      <td>0</td>\n",
              "      <td>0</td>\n",
              "      <td>0</td>\n",
              "      <td>0</td>\n",
              "      <td>0</td>\n",
              "      <td>0</td>\n",
              "      <td>0</td>\n",
              "      <td>0</td>\n",
              "      <td>0</td>\n",
              "      <td>0</td>\n",
              "      <td>0</td>\n",
              "      <td>0</td>\n",
              "    </tr>\n",
              "  </tbody>\n",
              "</table>\n",
              "<p>2 rows × 101 columns</p>\n",
              "</div>"
            ],
            "text/plain": [
              "   HADM_ID  99592+0389  99592+78552  ...  42731+5845  2762+25000  51881+496\n",
              "0   100001           0            0  ...           0           0          0\n",
              "1   100003           0            0  ...           0           0          0\n",
              "\n",
              "[2 rows x 101 columns]"
            ]
          },
          "execution_count": 36,
          "metadata": {},
          "output_type": "execute_result"
        }
      ],
      "source": [
        "de_pair = de_pair[leave_these_columns]\n",
        "de_pair.head(2)\n",
        "#de_pair['99592+0389'].sum()\n"
      ]
    },
    {
      "cell_type": "markdown",
      "metadata": {
        "id": "alep3fdGwptH"
      },
      "source": [
        "## Merging the dataframes and further cleaning:\n"
      ]
    },
    {
      "cell_type": "markdown",
      "metadata": {
        "id": "7INwBU1BbYaP"
      },
      "source": [
        "At this point, we add to the main dataframes the addition information relevant for Death prediction. Later on, we will remove these features and add those pertinent for LOS."
      ]
    },
    {
      "cell_type": "code",
      "execution_count": null,
      "metadata": {
        "colab": {
          "base_uri": "https://localhost:8080/"
        },
        "id": "EOLWwBmbwptH",
        "outputId": "7371d8da-b53f-493a-f7c0-0df3b10ab27e"
      },
      "outputs": [
        {
          "name": "stdout",
          "output_type": "stream",
          "text": [
            "data was: (20885, 52)\n",
            "test_data was: (5221, 47)\n",
            "data now is: (20885, 252)\n",
            "test_data now is: (5221, 247)\n"
          ]
        }
      ],
      "source": [
        "print(\"data was: \" + str(data.shape))\n",
        "print(\"test_data was: \" + str(test_data.shape))\n",
        "data = data.merge(de1, on='HADM_ID', how='left')\n",
        "data = data.merge(de_pair, on='HADM_ID', how='left')\n",
        "\n",
        "test_data = test_data.merge(de1, on='HADM_ID', how='left')\n",
        "test_data = test_data.merge(de_pair, on='HADM_ID', how='left')\n",
        "\n",
        "print(\"data now is: \" + str(data.shape))\n",
        "print(\"test_data now is: \" + str(test_data.shape))"
      ]
    },
    {
      "cell_type": "markdown",
      "metadata": {
        "id": "y4SK_t3qwptH"
      },
      "source": [
        "Since the training data has more columns than the test data, we remove those which do not intersect:"
      ]
    },
    {
      "cell_type": "code",
      "execution_count": null,
      "metadata": {
        "colab": {
          "base_uri": "https://localhost:8080/"
        },
        "id": "gpaHCGtYwptI",
        "outputId": "365d7d62-6ae9-44c2-d691-110da5d24458"
      },
      "outputs": [
        {
          "name": "stdout",
          "output_type": "stream",
          "text": [
            "data was: (20885, 252)\n",
            "test_data was: (5221, 247)\n",
            "data now is: (20885, 249)\n",
            "test_data now is: (5221, 247)\n"
          ]
        }
      ],
      "source": [
        "print(\"data was: \" + str(data.shape))\n",
        "print(\"test_data was: \" + str(test_data.shape))\n",
        "a = list(data.columns)\n",
        "b = list(test_data.columns)\n",
        "all_columns = a + b \n",
        "\n",
        "unique_columns = [i for i in all_columns if all_columns.count(i)==1]\n",
        "\n",
        "unique_columns.remove(\"HOSPITAL_EXPIRE_FLAG\")\n",
        "unique_columns.remove(\"LOS\")\n",
        "data = data.drop(unique_columns, axis=1)\n",
        "\n",
        "print(\"data now is: \" + str(data.shape))\n",
        "print(\"test_data now is: \" + str(test_data.shape))"
      ]
    },
    {
      "cell_type": "markdown",
      "metadata": {
        "id": "xNPzAJSrwptI"
      },
      "source": [
        "We drop some features, from both the training and test data, that are no longer useful:"
      ]
    },
    {
      "cell_type": "code",
      "execution_count": null,
      "metadata": {
        "id": "emcXc1yDwptI"
      },
      "outputs": [],
      "source": [
        "data = data.drop(['subject_id', 'icustay_id', \"DOB\", \"Diff\", \"ADMITTIME\", \"DIAGNOSIS\", \"ICD9_CODE\"], axis=1)\n",
        "test_data = test_data.drop(['subject_id', 'icustay_id', \"DOB\", \"Diff\", \"ADMITTIME\", \"DIAGNOSIS\", \"ICD9_CODE\"], axis=1)"
      ]
    },
    {
      "cell_type": "markdown",
      "metadata": {
        "id": "23TOaCNLwptI"
      },
      "source": [
        "<a name=\"further\"></a>\n",
        "# <font color='blue'> Further data processing:</font>\n",
        "\n",
        "<font color='red'>*You can skip this section and directly load the prepared data*\n",
        "\n",
        "In this group of blocks, we deal with:\n",
        "\n",
        "- Missing data\n",
        "- Categorical features"
      ]
    },
    {
      "cell_type": "markdown",
      "metadata": {
        "id": "rmhkspj8wptI"
      },
      "source": [
        "## Dealing with missing data (NAs):"
      ]
    },
    {
      "cell_type": "markdown",
      "metadata": {
        "id": "m9QiegeCwptI"
      },
      "source": [
        "We check for null values in data and test_data:"
      ]
    },
    {
      "cell_type": "code",
      "execution_count": null,
      "metadata": {
        "colab": {
          "base_uri": "https://localhost:8080/"
        },
        "id": "xN2p9wjnwptI",
        "outputId": "6cf45410-1acd-49d0-8ecb-ab8abc66652c"
      },
      "outputs": [
        {
          "name": "stdout",
          "output_type": "stream",
          "text": [
            "HOSPITAL_EXPIRE_FLAG       0\n",
            "HADM_ID                    0\n",
            "HeartRate_Min           2187\n",
            "HeartRate_Max           2187\n",
            "HeartRate_Mean          2187\n",
            "                        ... \n",
            "78552+5845                 0\n",
            "42731+5859                 0\n",
            "42731+5845                 0\n",
            "2762+25000                 0\n",
            "51881+496                  0\n",
            "Length: 242, dtype: int64\n",
            "HADM_ID             0\n",
            "HeartRate_Min     545\n",
            "HeartRate_Max     545\n",
            "HeartRate_Mean    545\n",
            "SysBP_Min         551\n",
            "                 ... \n",
            "78552+5845          0\n",
            "42731+5859          0\n",
            "42731+5845          0\n",
            "2762+25000          0\n",
            "51881+496           0\n",
            "Length: 240, dtype: int64\n"
          ]
        }
      ],
      "source": [
        "Nulls = data.isnull().sum()\n",
        "print(Nulls)\n",
        "Nulls1 = test_data.isnull().sum()\n",
        "print(Nulls1)"
      ]
    },
    {
      "cell_type": "markdown",
      "metadata": {
        "id": "OjcAAaomwptI"
      },
      "source": [
        "There are many NAs so we will use placeholders, through Sklearn's SimpleImputer.\n",
        "\n",
        "For numerical missing values, the strategy will be to use the mean. This implies replacing every NA, in every column with one, with the mean of that column.\n",
        "\n",
        "Others stategies (median, mode) were tested but did not yield significant enhancements in performance."
      ]
    },
    {
      "cell_type": "markdown",
      "metadata": {
        "id": "9Z_dhpWnwptI"
      },
      "source": [
        "Split dataframes into 2 (one with numerical cols, one with categorical cols):"
      ]
    },
    {
      "cell_type": "code",
      "execution_count": null,
      "metadata": {
        "id": "2H7I1KKvwptI"
      },
      "outputs": [],
      "source": [
        "numeric_cols = data.select_dtypes(include=np.number).columns.tolist()\n",
        "numeric_cols1 = test_data.select_dtypes(include=np.number).columns.tolist()\n",
        "\n",
        "data_num = data[numeric_cols]\n",
        "#further separation so that the numerical columns in data and test_data are the same\n",
        "data_num1 = data_num[[\"LOS\", \"HOSPITAL_EXPIRE_FLAG\"]]\n",
        "data_num2 = data_num.drop([\"LOS\", \"HOSPITAL_EXPIRE_FLAG\"], axis =1)\n",
        "\n",
        "data_cat = data.drop(numeric_cols, axis=1)\n",
        "\n",
        "\n",
        "test_data_num = test_data[numeric_cols1]\n",
        "\n",
        "test_data_cat = test_data.drop(numeric_cols1, axis=1)"
      ]
    },
    {
      "cell_type": "code",
      "execution_count": null,
      "metadata": {
        "id": "Edee1GzEwptJ"
      },
      "outputs": [],
      "source": [
        "#we store the name of the columns:\n",
        "\n",
        "data_num1_colnames = data_num1.columns\n",
        "data_num2_colnames = data_num2.columns\n",
        "test_data_num_colnames = test_data_num.columns"
      ]
    },
    {
      "cell_type": "markdown",
      "metadata": {
        "id": "_HtJHlaIwptJ"
      },
      "source": [
        "Import, train and apply SimpleImputer:"
      ]
    },
    {
      "cell_type": "code",
      "execution_count": null,
      "metadata": {
        "id": "0osz5DzFwptJ"
      },
      "outputs": [],
      "source": [
        "from sklearn.impute import SimpleImputer\n",
        "imp_mean = SimpleImputer(missing_values=np.nan, strategy='mean')\n",
        "\n",
        "imp_mean.fit(data_num2)\n",
        "\n",
        "data_num2 = pd.DataFrame(imp_mean.transform(data_num2)) \n",
        "test_data_num = pd.DataFrame(imp_mean.transform(test_data_num))"
      ]
    },
    {
      "cell_type": "markdown",
      "metadata": {
        "id": "Wpvf_8SFwptJ"
      },
      "source": [
        "Note how we apply the same fitted imputer -with df.data- to data and test_data.\n",
        "\n",
        "We reassign names to the columns:\n",
        "\n"
      ]
    },
    {
      "cell_type": "code",
      "execution_count": null,
      "metadata": {
        "colab": {
          "base_uri": "https://localhost:8080/",
          "height": 161
        },
        "id": "OycTkpxAwptJ",
        "outputId": "0d9df320-554c-4fca-d142-639c0380680e"
      },
      "outputs": [
        {
          "data": {
            "text/html": [
              "<div>\n",
              "<style scoped>\n",
              "    .dataframe tbody tr th:only-of-type {\n",
              "        vertical-align: middle;\n",
              "    }\n",
              "\n",
              "    .dataframe tbody tr th {\n",
              "        vertical-align: top;\n",
              "    }\n",
              "\n",
              "    .dataframe thead th {\n",
              "        text-align: right;\n",
              "    }\n",
              "</style>\n",
              "<table border=\"1\" class=\"dataframe\">\n",
              "  <thead>\n",
              "    <tr style=\"text-align: right;\">\n",
              "      <th></th>\n",
              "      <th>HOSPITAL_EXPIRE_FLAG</th>\n",
              "      <th>HADM_ID</th>\n",
              "      <th>HeartRate_Min</th>\n",
              "      <th>HeartRate_Max</th>\n",
              "      <th>HeartRate_Mean</th>\n",
              "      <th>SysBP_Min</th>\n",
              "      <th>SysBP_Max</th>\n",
              "      <th>SysBP_Mean</th>\n",
              "      <th>DiasBP_Min</th>\n",
              "      <th>DiasBP_Max</th>\n",
              "      <th>DiasBP_Mean</th>\n",
              "      <th>MeanBP_Min</th>\n",
              "      <th>MeanBP_Max</th>\n",
              "      <th>MeanBP_Mean</th>\n",
              "      <th>RespRate_Min</th>\n",
              "      <th>RespRate_Max</th>\n",
              "      <th>RespRate_Mean</th>\n",
              "      <th>TempC_Min</th>\n",
              "      <th>TempC_Max</th>\n",
              "      <th>TempC_Mean</th>\n",
              "      <th>SpO2_Min</th>\n",
              "      <th>SpO2_Max</th>\n",
              "      <th>SpO2_Mean</th>\n",
              "      <th>Glucose_Min</th>\n",
              "      <th>Glucose_Max</th>\n",
              "      <th>Glucose_Mean</th>\n",
              "      <th>LOS</th>\n",
              "      <th>Age</th>\n",
              "      <th>ADM_year</th>\n",
              "      <th>ADM_month</th>\n",
              "      <th>ADM_weekday</th>\n",
              "      <th>ADM_hour</th>\n",
              "      <th>repeat</th>\n",
              "      <th>SEQ_NUM</th>\n",
              "      <th>51881</th>\n",
              "      <th>4019</th>\n",
              "      <th>42731</th>\n",
              "      <th>5849</th>\n",
              "      <th>99592</th>\n",
              "      <th>4280</th>\n",
              "      <th>...</th>\n",
              "      <th>99592+5845</th>\n",
              "      <th>5849+40390</th>\n",
              "      <th>4280+78552</th>\n",
              "      <th>4019+41401</th>\n",
              "      <th>5849+2724</th>\n",
              "      <th>4280+486</th>\n",
              "      <th>5849+5990</th>\n",
              "      <th>4280+5859</th>\n",
              "      <th>51881+2875</th>\n",
              "      <th>99592+486</th>\n",
              "      <th>42731+486</th>\n",
              "      <th>5849+V4986</th>\n",
              "      <th>5849+5859</th>\n",
              "      <th>5849+41401</th>\n",
              "      <th>2762+5845</th>\n",
              "      <th>51881+4275</th>\n",
              "      <th>42731+40390</th>\n",
              "      <th>4019+78552</th>\n",
              "      <th>V4986+2724</th>\n",
              "      <th>42731+5990</th>\n",
              "      <th>99592+25000</th>\n",
              "      <th>2724+25000</th>\n",
              "      <th>4280+V4986</th>\n",
              "      <th>5849+V667</th>\n",
              "      <th>0389+486</th>\n",
              "      <th>99592+2875</th>\n",
              "      <th>2724+41401</th>\n",
              "      <th>4019+486</th>\n",
              "      <th>51881+40390</th>\n",
              "      <th>4280+V5861</th>\n",
              "      <th>51881+2760</th>\n",
              "      <th>42731+V667</th>\n",
              "      <th>5849+2875</th>\n",
              "      <th>51881+2761</th>\n",
              "      <th>99592+5990</th>\n",
              "      <th>78552+5845</th>\n",
              "      <th>42731+5859</th>\n",
              "      <th>42731+5845</th>\n",
              "      <th>2762+25000</th>\n",
              "      <th>51881+496</th>\n",
              "    </tr>\n",
              "  </thead>\n",
              "  <tbody>\n",
              "    <tr>\n",
              "      <th>0</th>\n",
              "      <td>0</td>\n",
              "      <td>195768</td>\n",
              "      <td>89.0</td>\n",
              "      <td>145.0</td>\n",
              "      <td>121.043478</td>\n",
              "      <td>74.0</td>\n",
              "      <td>127.0</td>\n",
              "      <td>106.586957</td>\n",
              "      <td>42.0</td>\n",
              "      <td>90.0</td>\n",
              "      <td>61.173913</td>\n",
              "      <td>59.0</td>\n",
              "      <td>94.0</td>\n",
              "      <td>74.543478</td>\n",
              "      <td>15.0</td>\n",
              "      <td>30.0</td>\n",
              "      <td>22.347826</td>\n",
              "      <td>35.111111</td>\n",
              "      <td>36.944444</td>\n",
              "      <td>36.080247</td>\n",
              "      <td>90.0</td>\n",
              "      <td>99.0</td>\n",
              "      <td>95.739130</td>\n",
              "      <td>111.0</td>\n",
              "      <td>230.0</td>\n",
              "      <td>160.777778</td>\n",
              "      <td>4.5761</td>\n",
              "      <td>69.557495</td>\n",
              "      <td>2008</td>\n",
              "      <td>6</td>\n",
              "      <td>6</td>\n",
              "      <td>15</td>\n",
              "      <td>0</td>\n",
              "      <td>17.0</td>\n",
              "      <td>1</td>\n",
              "      <td>0</td>\n",
              "      <td>1</td>\n",
              "      <td>0</td>\n",
              "      <td>0</td>\n",
              "      <td>1</td>\n",
              "      <td>...</td>\n",
              "      <td>0</td>\n",
              "      <td>0</td>\n",
              "      <td>0</td>\n",
              "      <td>0</td>\n",
              "      <td>0</td>\n",
              "      <td>0</td>\n",
              "      <td>0</td>\n",
              "      <td>0</td>\n",
              "      <td>0</td>\n",
              "      <td>0</td>\n",
              "      <td>0</td>\n",
              "      <td>0</td>\n",
              "      <td>0</td>\n",
              "      <td>0</td>\n",
              "      <td>0</td>\n",
              "      <td>0</td>\n",
              "      <td>1</td>\n",
              "      <td>0</td>\n",
              "      <td>0</td>\n",
              "      <td>0</td>\n",
              "      <td>0</td>\n",
              "      <td>0</td>\n",
              "      <td>0</td>\n",
              "      <td>0</td>\n",
              "      <td>0</td>\n",
              "      <td>0</td>\n",
              "      <td>0</td>\n",
              "      <td>0</td>\n",
              "      <td>1</td>\n",
              "      <td>0</td>\n",
              "      <td>0</td>\n",
              "      <td>0</td>\n",
              "      <td>0</td>\n",
              "      <td>0</td>\n",
              "      <td>0</td>\n",
              "      <td>0</td>\n",
              "      <td>0</td>\n",
              "      <td>0</td>\n",
              "      <td>0</td>\n",
              "      <td>0</td>\n",
              "    </tr>\n",
              "    <tr>\n",
              "      <th>1</th>\n",
              "      <td>0</td>\n",
              "      <td>126136</td>\n",
              "      <td>63.0</td>\n",
              "      <td>110.0</td>\n",
              "      <td>79.117647</td>\n",
              "      <td>89.0</td>\n",
              "      <td>121.0</td>\n",
              "      <td>106.733333</td>\n",
              "      <td>49.0</td>\n",
              "      <td>74.0</td>\n",
              "      <td>64.733333</td>\n",
              "      <td>58.0</td>\n",
              "      <td>84.0</td>\n",
              "      <td>74.800000</td>\n",
              "      <td>13.0</td>\n",
              "      <td>21.0</td>\n",
              "      <td>16.058824</td>\n",
              "      <td>36.333333</td>\n",
              "      <td>36.611111</td>\n",
              "      <td>36.472222</td>\n",
              "      <td>98.0</td>\n",
              "      <td>100.0</td>\n",
              "      <td>99.058824</td>\n",
              "      <td>103.0</td>\n",
              "      <td>103.0</td>\n",
              "      <td>103.000000</td>\n",
              "      <td>0.7582</td>\n",
              "      <td>42.073922</td>\n",
              "      <td>2010</td>\n",
              "      <td>12</td>\n",
              "      <td>0</td>\n",
              "      <td>18</td>\n",
              "      <td>0</td>\n",
              "      <td>3.0</td>\n",
              "      <td>0</td>\n",
              "      <td>0</td>\n",
              "      <td>0</td>\n",
              "      <td>0</td>\n",
              "      <td>0</td>\n",
              "      <td>0</td>\n",
              "      <td>...</td>\n",
              "      <td>0</td>\n",
              "      <td>0</td>\n",
              "      <td>0</td>\n",
              "      <td>0</td>\n",
              "      <td>0</td>\n",
              "      <td>0</td>\n",
              "      <td>0</td>\n",
              "      <td>0</td>\n",
              "      <td>0</td>\n",
              "      <td>0</td>\n",
              "      <td>0</td>\n",
              "      <td>0</td>\n",
              "      <td>0</td>\n",
              "      <td>0</td>\n",
              "      <td>0</td>\n",
              "      <td>0</td>\n",
              "      <td>0</td>\n",
              "      <td>0</td>\n",
              "      <td>0</td>\n",
              "      <td>0</td>\n",
              "      <td>0</td>\n",
              "      <td>0</td>\n",
              "      <td>0</td>\n",
              "      <td>0</td>\n",
              "      <td>0</td>\n",
              "      <td>0</td>\n",
              "      <td>0</td>\n",
              "      <td>0</td>\n",
              "      <td>0</td>\n",
              "      <td>0</td>\n",
              "      <td>0</td>\n",
              "      <td>0</td>\n",
              "      <td>0</td>\n",
              "      <td>0</td>\n",
              "      <td>0</td>\n",
              "      <td>0</td>\n",
              "      <td>0</td>\n",
              "      <td>0</td>\n",
              "      <td>0</td>\n",
              "      <td>0</td>\n",
              "    </tr>\n",
              "  </tbody>\n",
              "</table>\n",
              "<p>2 rows × 234 columns</p>\n",
              "</div>"
            ],
            "text/plain": [
              "   HOSPITAL_EXPIRE_FLAG  HADM_ID  ...  2762+25000  51881+496\n",
              "0                     0   195768  ...           0          0\n",
              "1                     0   126136  ...           0          0\n",
              "\n",
              "[2 rows x 234 columns]"
            ]
          },
          "execution_count": 44,
          "metadata": {},
          "output_type": "execute_result"
        }
      ],
      "source": [
        "data_num1.columns = data_num1_colnames\n",
        "data_num2.columns = data_num2_colnames\n",
        "test_data_num.columns = test_data_num_colnames\n",
        "data_num.head(2)"
      ]
    },
    {
      "cell_type": "markdown",
      "metadata": {
        "id": "cBJqEbLbwptJ"
      },
      "source": [
        "Now we rejoin each dataframe:"
      ]
    },
    {
      "cell_type": "code",
      "execution_count": null,
      "metadata": {
        "id": "OPBx8JwCwptJ"
      },
      "outputs": [],
      "source": [
        "data_num = pd.concat([data_num1, data_num2], axis=1, join=\"inner\")\n",
        "data = pd.concat([data_cat, data_num], axis=1, join=\"inner\")\n",
        "test_data = pd.concat([test_data_cat, test_data_num], axis=1, join=\"inner\")"
      ]
    },
    {
      "cell_type": "code",
      "execution_count": null,
      "metadata": {
        "colab": {
          "base_uri": "https://localhost:8080/",
          "height": 179
        },
        "id": "c2KgPVXmwptJ",
        "outputId": "cbd39af9-92c6-49bb-ee94-9d78d381b3e9"
      },
      "outputs": [
        {
          "data": {
            "text/html": [
              "<div>\n",
              "<style scoped>\n",
              "    .dataframe tbody tr th:only-of-type {\n",
              "        vertical-align: middle;\n",
              "    }\n",
              "\n",
              "    .dataframe tbody tr th {\n",
              "        vertical-align: top;\n",
              "    }\n",
              "\n",
              "    .dataframe thead th {\n",
              "        text-align: right;\n",
              "    }\n",
              "</style>\n",
              "<table border=\"1\" class=\"dataframe\">\n",
              "  <thead>\n",
              "    <tr style=\"text-align: right;\">\n",
              "      <th></th>\n",
              "      <th>GENDER</th>\n",
              "      <th>ADMISSION_TYPE</th>\n",
              "      <th>INSURANCE</th>\n",
              "      <th>RELIGION</th>\n",
              "      <th>MARITAL_STATUS</th>\n",
              "      <th>ETHNICITY</th>\n",
              "      <th>FIRST_CAREUNIT</th>\n",
              "      <th>ADM_season</th>\n",
              "      <th>LOS</th>\n",
              "      <th>HOSPITAL_EXPIRE_FLAG</th>\n",
              "      <th>HADM_ID</th>\n",
              "      <th>HeartRate_Min</th>\n",
              "      <th>HeartRate_Max</th>\n",
              "      <th>HeartRate_Mean</th>\n",
              "      <th>SysBP_Min</th>\n",
              "      <th>SysBP_Max</th>\n",
              "      <th>SysBP_Mean</th>\n",
              "      <th>DiasBP_Min</th>\n",
              "      <th>DiasBP_Max</th>\n",
              "      <th>DiasBP_Mean</th>\n",
              "      <th>MeanBP_Min</th>\n",
              "      <th>MeanBP_Max</th>\n",
              "      <th>MeanBP_Mean</th>\n",
              "      <th>RespRate_Min</th>\n",
              "      <th>RespRate_Max</th>\n",
              "      <th>RespRate_Mean</th>\n",
              "      <th>TempC_Min</th>\n",
              "      <th>TempC_Max</th>\n",
              "      <th>TempC_Mean</th>\n",
              "      <th>SpO2_Min</th>\n",
              "      <th>SpO2_Max</th>\n",
              "      <th>SpO2_Mean</th>\n",
              "      <th>Glucose_Min</th>\n",
              "      <th>Glucose_Max</th>\n",
              "      <th>Glucose_Mean</th>\n",
              "      <th>Age</th>\n",
              "      <th>ADM_year</th>\n",
              "      <th>ADM_month</th>\n",
              "      <th>ADM_weekday</th>\n",
              "      <th>ADM_hour</th>\n",
              "      <th>...</th>\n",
              "      <th>99592+5845</th>\n",
              "      <th>5849+40390</th>\n",
              "      <th>4280+78552</th>\n",
              "      <th>4019+41401</th>\n",
              "      <th>5849+2724</th>\n",
              "      <th>4280+486</th>\n",
              "      <th>5849+5990</th>\n",
              "      <th>4280+5859</th>\n",
              "      <th>51881+2875</th>\n",
              "      <th>99592+486</th>\n",
              "      <th>42731+486</th>\n",
              "      <th>5849+V4986</th>\n",
              "      <th>5849+5859</th>\n",
              "      <th>5849+41401</th>\n",
              "      <th>2762+5845</th>\n",
              "      <th>51881+4275</th>\n",
              "      <th>42731+40390</th>\n",
              "      <th>4019+78552</th>\n",
              "      <th>V4986+2724</th>\n",
              "      <th>42731+5990</th>\n",
              "      <th>99592+25000</th>\n",
              "      <th>2724+25000</th>\n",
              "      <th>4280+V4986</th>\n",
              "      <th>5849+V667</th>\n",
              "      <th>0389+486</th>\n",
              "      <th>99592+2875</th>\n",
              "      <th>2724+41401</th>\n",
              "      <th>4019+486</th>\n",
              "      <th>51881+40390</th>\n",
              "      <th>4280+V5861</th>\n",
              "      <th>51881+2760</th>\n",
              "      <th>42731+V667</th>\n",
              "      <th>5849+2875</th>\n",
              "      <th>51881+2761</th>\n",
              "      <th>99592+5990</th>\n",
              "      <th>78552+5845</th>\n",
              "      <th>42731+5859</th>\n",
              "      <th>42731+5845</th>\n",
              "      <th>2762+25000</th>\n",
              "      <th>51881+496</th>\n",
              "    </tr>\n",
              "  </thead>\n",
              "  <tbody>\n",
              "    <tr>\n",
              "      <th>0</th>\n",
              "      <td>F</td>\n",
              "      <td>EMERGENCY</td>\n",
              "      <td>Medicare</td>\n",
              "      <td>PROTESTANT QUAKER</td>\n",
              "      <td>SINGLE</td>\n",
              "      <td>WHITE</td>\n",
              "      <td>MICU</td>\n",
              "      <td>Spring</td>\n",
              "      <td>4.5761</td>\n",
              "      <td>0</td>\n",
              "      <td>195768.0</td>\n",
              "      <td>89.0</td>\n",
              "      <td>145.0</td>\n",
              "      <td>121.043478</td>\n",
              "      <td>74.0</td>\n",
              "      <td>127.0</td>\n",
              "      <td>106.586957</td>\n",
              "      <td>42.0</td>\n",
              "      <td>90.0</td>\n",
              "      <td>61.173913</td>\n",
              "      <td>59.0</td>\n",
              "      <td>94.0</td>\n",
              "      <td>74.543478</td>\n",
              "      <td>15.0</td>\n",
              "      <td>30.0</td>\n",
              "      <td>22.347826</td>\n",
              "      <td>35.111111</td>\n",
              "      <td>36.944444</td>\n",
              "      <td>36.080247</td>\n",
              "      <td>90.0</td>\n",
              "      <td>99.0</td>\n",
              "      <td>95.739130</td>\n",
              "      <td>111.0</td>\n",
              "      <td>230.0</td>\n",
              "      <td>160.777778</td>\n",
              "      <td>69.557495</td>\n",
              "      <td>2008.0</td>\n",
              "      <td>6.0</td>\n",
              "      <td>6.0</td>\n",
              "      <td>15.0</td>\n",
              "      <td>...</td>\n",
              "      <td>0.0</td>\n",
              "      <td>0.0</td>\n",
              "      <td>0.0</td>\n",
              "      <td>0.0</td>\n",
              "      <td>0.0</td>\n",
              "      <td>0.0</td>\n",
              "      <td>0.0</td>\n",
              "      <td>0.0</td>\n",
              "      <td>0.0</td>\n",
              "      <td>0.0</td>\n",
              "      <td>0.0</td>\n",
              "      <td>0.0</td>\n",
              "      <td>0.0</td>\n",
              "      <td>0.0</td>\n",
              "      <td>0.0</td>\n",
              "      <td>0.0</td>\n",
              "      <td>1.0</td>\n",
              "      <td>0.0</td>\n",
              "      <td>0.0</td>\n",
              "      <td>0.0</td>\n",
              "      <td>0.0</td>\n",
              "      <td>0.0</td>\n",
              "      <td>0.0</td>\n",
              "      <td>0.0</td>\n",
              "      <td>0.0</td>\n",
              "      <td>0.0</td>\n",
              "      <td>0.0</td>\n",
              "      <td>0.0</td>\n",
              "      <td>1.0</td>\n",
              "      <td>0.0</td>\n",
              "      <td>0.0</td>\n",
              "      <td>0.0</td>\n",
              "      <td>0.0</td>\n",
              "      <td>0.0</td>\n",
              "      <td>0.0</td>\n",
              "      <td>0.0</td>\n",
              "      <td>0.0</td>\n",
              "      <td>0.0</td>\n",
              "      <td>0.0</td>\n",
              "      <td>0.0</td>\n",
              "    </tr>\n",
              "    <tr>\n",
              "      <th>1</th>\n",
              "      <td>F</td>\n",
              "      <td>EMERGENCY</td>\n",
              "      <td>Private</td>\n",
              "      <td>UNOBTAINABLE</td>\n",
              "      <td>MARRIED</td>\n",
              "      <td>WHITE</td>\n",
              "      <td>MICU</td>\n",
              "      <td>Autumn</td>\n",
              "      <td>0.7582</td>\n",
              "      <td>0</td>\n",
              "      <td>126136.0</td>\n",
              "      <td>63.0</td>\n",
              "      <td>110.0</td>\n",
              "      <td>79.117647</td>\n",
              "      <td>89.0</td>\n",
              "      <td>121.0</td>\n",
              "      <td>106.733333</td>\n",
              "      <td>49.0</td>\n",
              "      <td>74.0</td>\n",
              "      <td>64.733333</td>\n",
              "      <td>58.0</td>\n",
              "      <td>84.0</td>\n",
              "      <td>74.800000</td>\n",
              "      <td>13.0</td>\n",
              "      <td>21.0</td>\n",
              "      <td>16.058824</td>\n",
              "      <td>36.333333</td>\n",
              "      <td>36.611111</td>\n",
              "      <td>36.472222</td>\n",
              "      <td>98.0</td>\n",
              "      <td>100.0</td>\n",
              "      <td>99.058824</td>\n",
              "      <td>103.0</td>\n",
              "      <td>103.0</td>\n",
              "      <td>103.000000</td>\n",
              "      <td>42.073922</td>\n",
              "      <td>2010.0</td>\n",
              "      <td>12.0</td>\n",
              "      <td>0.0</td>\n",
              "      <td>18.0</td>\n",
              "      <td>...</td>\n",
              "      <td>0.0</td>\n",
              "      <td>0.0</td>\n",
              "      <td>0.0</td>\n",
              "      <td>0.0</td>\n",
              "      <td>0.0</td>\n",
              "      <td>0.0</td>\n",
              "      <td>0.0</td>\n",
              "      <td>0.0</td>\n",
              "      <td>0.0</td>\n",
              "      <td>0.0</td>\n",
              "      <td>0.0</td>\n",
              "      <td>0.0</td>\n",
              "      <td>0.0</td>\n",
              "      <td>0.0</td>\n",
              "      <td>0.0</td>\n",
              "      <td>0.0</td>\n",
              "      <td>0.0</td>\n",
              "      <td>0.0</td>\n",
              "      <td>0.0</td>\n",
              "      <td>0.0</td>\n",
              "      <td>0.0</td>\n",
              "      <td>0.0</td>\n",
              "      <td>0.0</td>\n",
              "      <td>0.0</td>\n",
              "      <td>0.0</td>\n",
              "      <td>0.0</td>\n",
              "      <td>0.0</td>\n",
              "      <td>0.0</td>\n",
              "      <td>0.0</td>\n",
              "      <td>0.0</td>\n",
              "      <td>0.0</td>\n",
              "      <td>0.0</td>\n",
              "      <td>0.0</td>\n",
              "      <td>0.0</td>\n",
              "      <td>0.0</td>\n",
              "      <td>0.0</td>\n",
              "      <td>0.0</td>\n",
              "      <td>0.0</td>\n",
              "      <td>0.0</td>\n",
              "      <td>0.0</td>\n",
              "    </tr>\n",
              "  </tbody>\n",
              "</table>\n",
              "<p>2 rows × 242 columns</p>\n",
              "</div>"
            ],
            "text/plain": [
              "  GENDER ADMISSION_TYPE INSURANCE  ... 42731+5845 2762+25000 51881+496\n",
              "0      F      EMERGENCY  Medicare  ...        0.0        0.0       0.0\n",
              "1      F      EMERGENCY   Private  ...        0.0        0.0       0.0\n",
              "\n",
              "[2 rows x 242 columns]"
            ]
          },
          "execution_count": 46,
          "metadata": {},
          "output_type": "execute_result"
        }
      ],
      "source": [
        "data.head(2)"
      ]
    },
    {
      "cell_type": "code",
      "execution_count": null,
      "metadata": {
        "colab": {
          "base_uri": "https://localhost:8080/"
        },
        "id": "4WsdzMRNwptJ",
        "outputId": "16fbc482-fd12-4dc6-c032-4c2a892023ef"
      },
      "outputs": [
        {
          "name": "stdout",
          "output_type": "stream",
          "text": [
            "722\n"
          ]
        }
      ],
      "source": [
        "#check for nulls:\n",
        "Nulls = sum(data.isnull().sum())\n",
        "print(Nulls)"
      ]
    },
    {
      "cell_type": "markdown",
      "metadata": {
        "id": "8jXQGHrcwptK"
      },
      "source": [
        "Dealing with Marital Status' NAs:\n",
        "\n",
        "We reclassify NAs as the category \"UNKNOWN (DEFAULT)\":"
      ]
    },
    {
      "cell_type": "code",
      "execution_count": null,
      "metadata": {
        "colab": {
          "base_uri": "https://localhost:8080/"
        },
        "id": "Yoq8dzmgwptK",
        "outputId": "1f114d33-a792-469d-912b-28f0b0b415ec"
      },
      "outputs": [
        {
          "data": {
            "text/plain": [
              "array(['SINGLE', 'MARRIED', 'SEPARATED', 'WIDOWED', 'DIVORCED', nan,\n",
              "       'UNKNOWN (DEFAULT)', 'LIFE PARTNER'], dtype=object)"
            ]
          },
          "execution_count": 48,
          "metadata": {},
          "output_type": "execute_result"
        }
      ],
      "source": [
        "data['MARITAL_STATUS'].unique()"
      ]
    },
    {
      "cell_type": "code",
      "execution_count": null,
      "metadata": {
        "colab": {
          "base_uri": "https://localhost:8080/"
        },
        "id": "F7-kI5U-wptK",
        "outputId": "20951fb4-9e4d-417c-8640-c4844d49bcf2"
      },
      "outputs": [
        {
          "data": {
            "text/plain": [
              "array(['SINGLE', 'MARRIED', 'SEPARATED', 'WIDOWED', 'DIVORCED',\n",
              "       'UNKNOWN (DEFAULT)', 'LIFE PARTNER'], dtype=object)"
            ]
          },
          "execution_count": 49,
          "metadata": {},
          "output_type": "execute_result"
        }
      ],
      "source": [
        "data.MARITAL_STATUS.fillna('UNKNOWN (DEFAULT)', inplace=True)\n",
        "data['MARITAL_STATUS'].unique()"
      ]
    },
    {
      "cell_type": "markdown",
      "metadata": {
        "id": "LACKHAITwptK"
      },
      "source": [
        "We check if there are any more NAs in the \"data\" dataframe:"
      ]
    },
    {
      "cell_type": "code",
      "execution_count": null,
      "metadata": {
        "colab": {
          "base_uri": "https://localhost:8080/"
        },
        "id": "lvF22p-SwptK",
        "outputId": "d3f03e6e-e6ba-4758-9c8d-846909a696b3"
      },
      "outputs": [
        {
          "name": "stdout",
          "output_type": "stream",
          "text": [
            "0\n"
          ]
        }
      ],
      "source": [
        "Nulls = data.isnull().sum()\n",
        "print(sum(Nulls))"
      ]
    },
    {
      "cell_type": "markdown",
      "metadata": {
        "id": "vWdqBwJKwptK"
      },
      "source": [
        "Solving the NA problem for the test_data. This is the same process as above:"
      ]
    },
    {
      "cell_type": "code",
      "execution_count": null,
      "metadata": {
        "colab": {
          "base_uri": "https://localhost:8080/"
        },
        "id": "3gXEF8TvwptK",
        "outputId": "c6a263a3-976f-4891-9ea5-32f91a640523"
      },
      "outputs": [
        {
          "data": {
            "text/plain": [
              "array(['MARRIED', 'WIDOWED', 'SINGLE', 'DIVORCED', 'UNKNOWN (DEFAULT)',\n",
              "       'SEPARATED', 'LIFE PARTNER'], dtype=object)"
            ]
          },
          "execution_count": 51,
          "metadata": {},
          "output_type": "execute_result"
        }
      ],
      "source": [
        "test_data.MARITAL_STATUS.fillna('UNKNOWN (DEFAULT)', inplace=True)\n",
        "test_data['MARITAL_STATUS'].unique()"
      ]
    },
    {
      "cell_type": "code",
      "execution_count": null,
      "metadata": {
        "colab": {
          "base_uri": "https://localhost:8080/"
        },
        "id": "sd_SRU7PwptK",
        "outputId": "348cdb6c-35a7-4c86-bf19-5ae8514c07b3"
      },
      "outputs": [
        {
          "data": {
            "text/plain": [
              "0"
            ]
          },
          "execution_count": 52,
          "metadata": {},
          "output_type": "execute_result"
        }
      ],
      "source": [
        "#check it worked:\n",
        "sum(test_data.isnull().sum())"
      ]
    },
    {
      "cell_type": "markdown",
      "metadata": {
        "id": "2LFLsn-BwptK"
      },
      "source": [
        "##Dealing with categorical features:"
      ]
    },
    {
      "cell_type": "markdown",
      "metadata": {
        "id": "e78lGGx2wptK"
      },
      "source": [
        "We analyze the nature of the following categorical features:\n",
        "- GENDER\n",
        "- ADMISSION_TYPE\n",
        "- INSURANCE\n",
        "- RELIGION\n",
        "- MARITAL STATUS\n",
        "- ETHNICITY\n",
        "- DIAGNOSIS\n",
        "- FIRST_CAREUNIT\n",
        "\n",
        "We check if few categories gather most of the cases, if they are binary or multiclass, etc."
      ]
    },
    {
      "cell_type": "code",
      "execution_count": null,
      "metadata": {
        "colab": {
          "base_uri": "https://localhost:8080/"
        },
        "id": "RoSLDctXwptK",
        "outputId": "67e5fc5b-1690-442a-85eb-49e5e92cc7ad"
      },
      "outputs": [
        {
          "name": "stdout",
          "output_type": "stream",
          "text": [
            "['F' 'M']\n",
            "['EMERGENCY' 'ELECTIVE' 'URGENT']\n",
            "['Medicare' 'Private' 'Medicaid' 'Self Pay' 'Government']\n",
            "['PROTESTANT QUAKER' 'UNOBTAINABLE' 'NOT SPECIFIED' 'JEWISH' 'CATHOLIC'\n",
            " 'OTHER' 'BUDDHIST' 'EPISCOPALIAN' 'ROMANIAN EAST. ORTH' 'GREEK ORTHODOX'\n",
            " \"JEHOVAH'S WITNESS\" 'MUSLIM' 'CHRISTIAN SCIENTIST' 'HINDU'\n",
            " '7TH DAY ADVENTIST' 'UNITARIAN-UNIVERSALIST' 'HEBREW']\n",
            "['SINGLE' 'MARRIED' 'SEPARATED' 'WIDOWED' 'DIVORCED' 'UNKNOWN (DEFAULT)'\n",
            " 'LIFE PARTNER']\n",
            "['WHITE' 'BLACK/AFRICAN AMERICAN' 'BLACK/CAPE VERDEAN'\n",
            " 'UNKNOWN/NOT SPECIFIED' 'PATIENT DECLINED TO ANSWER'\n",
            " 'ASIAN - ASIAN INDIAN' 'OTHER' 'HISPANIC/LATINO - PUERTO RICAN' 'ASIAN'\n",
            " 'HISPANIC OR LATINO' 'UNABLE TO OBTAIN' 'BLACK/HAITIAN'\n",
            " 'WHITE - OTHER EUROPEAN' 'NATIVE HAWAIIAN OR OTHER PACIFIC ISLANDER'\n",
            " 'WHITE - RUSSIAN' 'WHITE - EASTERN EUROPEAN' 'ASIAN - CHINESE'\n",
            " 'HISPANIC/LATINO - CUBAN' 'ASIAN - VIETNAMESE' 'MULTI RACE ETHNICITY'\n",
            " 'AMERICAN INDIAN/ALASKA NATIVE' 'MIDDLE EASTERN' 'ASIAN - KOREAN'\n",
            " 'CARIBBEAN ISLAND' 'PORTUGUESE' 'HISPANIC/LATINO - SALVADORAN'\n",
            " 'ASIAN - FILIPINO' 'HISPANIC/LATINO - GUATEMALAN' 'ASIAN - CAMBODIAN'\n",
            " 'HISPANIC/LATINO - DOMINICAN' 'WHITE - BRAZILIAN'\n",
            " 'HISPANIC/LATINO - CENTRAL AMERICAN (OTHER)' 'HISPANIC/LATINO - HONDURAN'\n",
            " 'HISPANIC/LATINO - MEXICAN' 'BLACK/AFRICAN' 'ASIAN - JAPANESE'\n",
            " 'HISPANIC/LATINO - COLOMBIAN'\n",
            " 'AMERICAN INDIAN/ALASKA NATIVE FEDERALLY RECOGNIZED TRIBE'\n",
            " 'ASIAN - OTHER' 'SOUTH AMERICAN' 'ASIAN - THAI']\n",
            "['MICU' 'SICU' 'TSICU' 'CSRU' 'CCU']\n"
          ]
        }
      ],
      "source": [
        "list = ['GENDER', 'ADMISSION_TYPE','INSURANCE', 'RELIGION','MARITAL_STATUS',\n",
        "                        'ETHNICITY', 'FIRST_CAREUNIT']\n",
        "for i in list:\n",
        "  print(data[i].unique())"
      ]
    },
    {
      "cell_type": "markdown",
      "metadata": {
        "id": "j3f0nWbMwptK"
      },
      "source": [
        "Many plots like the following were used to see how to deal with multiclass variables:"
      ]
    },
    {
      "cell_type": "code",
      "execution_count": null,
      "metadata": {
        "colab": {
          "base_uri": "https://localhost:8080/",
          "height": 605
        },
        "id": "26nhBnQPwptL",
        "outputId": "cb7a99c3-1f0d-478d-bd12-9b5e526d7330"
      },
      "outputs": [
        {
          "data": {
            "text/plain": [
              "<matplotlib.axes._subplots.AxesSubplot at 0x7f5e9f796950>"
            ]
          },
          "execution_count": 54,
          "metadata": {},
          "output_type": "execute_result"
        },
        {
          "data": {
            "image/png": "[encoded data removed]",
            "text/plain": [
              "<Figure size 432x288 with 1 Axes>"
            ]
          },
          "metadata": {
            "needs_background": "light"
          },
          "output_type": "display_data"
        }
      ],
      "source": [
        "data.ETHNICITY.value_counts().plot(kind=\"bar\") "
      ]
    },
    {
      "cell_type": "markdown",
      "metadata": {
        "id": "cnHd5G-dwptL"
      },
      "source": [
        "For instance, it seems like a good idea to bundle some of the classes in the \"Ethnicity\" feature as \"Other\"."
      ]
    },
    {
      "cell_type": "markdown",
      "metadata": {
        "id": "lSWp5lHXwptL"
      },
      "source": [
        "Through the previous analysis, we classify the features as:\n",
        "\n",
        "- Binary: just get dummy.\n",
        "    - GENDER\n",
        "- Multiclass, with all classes present. Get dummies. \n",
        "    - ADMISSION_TYPE\n",
        "    - INSURANCE\n",
        "    - MARITAL STATUS\n",
        "    - FIRST_CAREUNIT\n",
        "    - SEASON\n",
        "    - YEAR\n",
        "    - WEEKDAY\n",
        "    - HOUR\n",
        "- Multiclass, with some classes that can be bundled together under \"Other\":\n",
        "    - RELIGION\n",
        "    - ETHNICITY\n"
      ]
    },
    {
      "cell_type": "code",
      "execution_count": null,
      "metadata": {
        "id": "zVtKNYfNfQqK"
      },
      "outputs": [],
      "source": [
        "data = data.drop([\"ADM_month\"], axis=1)\n",
        "data = pd.get_dummies(data, prefix=['Season'], columns=['ADM_season'], drop_first = True)\n",
        "data = pd.get_dummies(data, prefix=['y'], columns=['ADM_year'], drop_first = True)\n",
        "data = pd.get_dummies(data, prefix=['wd'], columns=['ADM_weekday'], drop_first = True)\n",
        "data = pd.get_dummies(data, prefix=['h'], columns=['ADM_hour'], drop_first = True)\n",
        "\n"
      ]
    },
    {
      "cell_type": "code",
      "execution_count": null,
      "metadata": {
        "id": "RL6UFF7ogdHT"
      },
      "outputs": [],
      "source": [
        "test_data = test_data.drop([\"ADM_month\"], axis=1)\n",
        "test_data = pd.get_dummies(test_data, prefix=['Season'], columns=['ADM_season'], drop_first = True)\n",
        "test_data = pd.get_dummies(test_data, prefix=['y'], columns=['ADM_year'], drop_first = True)\n",
        "test_data = pd.get_dummies(test_data, prefix=['wd'], columns=['ADM_weekday'], drop_first = True)\n",
        "test_data = pd.get_dummies(test_data, prefix=['h'], columns=['ADM_hour'], drop_first = True)\n"
      ]
    },
    {
      "cell_type": "code",
      "execution_count": null,
      "metadata": {
        "id": "cYvhihgfwptL"
      },
      "outputs": [],
      "source": [
        "# for the data:\n",
        "data = pd.get_dummies(data = data, columns=['GENDER'], drop_first = True)\n",
        "\n",
        "data = pd.get_dummies(data, prefix=['ADM_TYPE'], columns=['ADMISSION_TYPE'], drop_first = True)\n",
        "\n",
        "eth_list = []\n",
        "for j in data['ETHNICITY']:\n",
        "  if j == \"WHITE\":\n",
        "    eth_list.append(\"WHITE\")\n",
        "  elif j == \"BLACK/AFRICAN AMERICAN\":\n",
        "    eth_list.append(\"BLACK/AFRICAN AMERICAN\")\n",
        "  else:\n",
        "    eth_list.append(\"OTHER\")\n",
        "data = data.drop([\"ETHNICITY\"], axis=1)\n",
        "data[\"ETHNICITY\"] = eth_list\n",
        "data = pd.get_dummies(data, prefix=['ETH'], columns=['ETHNICITY'], drop_first = True)\n",
        "\n",
        "data = pd.get_dummies(data, prefix=['MARITAL'], columns=['MARITAL_STATUS'], drop_first = True)\n",
        "\n",
        "rel = []\n",
        "for k in data['RELIGION']:\n",
        "  if k == \"CATHOLIC\":\n",
        "    rel.append(\"CATHOLIC\")\n",
        "  elif k == \"PROTESTANT QUAKER\":\n",
        "    rel.append(\"PROTESTANT QUAKER\")\n",
        "  elif k == \"JEWISH\":\n",
        "    rel.append(\"JEWISH\")\n",
        "  else:\n",
        "    rel.append(\"OTHER\")\n",
        "data = data.drop([\"RELIGION\"], axis=1)\n",
        "data[\"RELIGION\"] = rel\n",
        "data = pd.get_dummies(data, prefix=['REL'], columns=['RELIGION'], drop_first = True)\n",
        "\n",
        "data = pd.get_dummies(data, prefix=['INS'], columns=['INSURANCE'], drop_first = True)\n",
        "\n",
        "data = pd.get_dummies(data, prefix=['CAREUNIT'], columns=['FIRST_CAREUNIT'], drop_first = True)\n",
        "\n",
        "#data = data.drop([\"DIAGNOSIS\"], axis=1)\n",
        "#data = data.drop([\"ICD9_CODE\"], axis=1)"
      ]
    },
    {
      "cell_type": "code",
      "execution_count": null,
      "metadata": {
        "id": "_3vI446CwptL"
      },
      "outputs": [],
      "source": [
        "# for the test_data\n",
        "test_data = pd.get_dummies(data = test_data, columns=['GENDER'], drop_first = True)\n",
        "\n",
        "test_data = pd.get_dummies(test_data, prefix=['ADM_TYPE'], columns=['ADMISSION_TYPE'], drop_first = True)\n",
        "\n",
        "eth_list = []\n",
        "for j in test_data['ETHNICITY']:\n",
        "  if j == \"WHITE\":\n",
        "    eth_list.append(\"WHITE\")\n",
        "  elif j == \"BLACK/AFRICAN AMERICAN\":\n",
        "    eth_list.append(\"BLACK/AFRICAN AMERICAN\")\n",
        "  else:\n",
        "    eth_list.append(\"OTHER\")\n",
        "test_data = test_data.drop([\"ETHNICITY\"], axis=1)\n",
        "test_data[\"ETHNICITY\"] = eth_list\n",
        "test_data = pd.get_dummies(test_data, prefix=['ETH'], columns=['ETHNICITY'], drop_first = True)\n",
        "\n",
        "test_data = pd.get_dummies(test_data, prefix=['MARITAL'], columns=['MARITAL_STATUS'], drop_first = True)\n",
        "\n",
        "rel = []\n",
        "for k in test_data['RELIGION']:\n",
        "  if k == \"CATHOLIC\":\n",
        "    rel.append(\"CATHOLIC\")\n",
        "  elif k == \"PROTESTANT QUAKER\":\n",
        "    rel.append(\"PROTESTANT QUAKER\")\n",
        "  elif k == \"JEWISH\":\n",
        "    rel.append(\"JEWISH\")\n",
        "  else:\n",
        "    rel.append(\"OTHER\")\n",
        "test_data = test_data.drop([\"RELIGION\"], axis=1)\n",
        "test_data[\"RELIGION\"] = rel\n",
        "test_data = pd.get_dummies(test_data, prefix=['REL'], columns=['RELIGION'], drop_first = True)\n",
        "\n",
        "test_data = pd.get_dummies(test_data, prefix=['INS'], columns=['INSURANCE'], drop_first = True)\n",
        "\n",
        "test_data = pd.get_dummies(test_data, prefix=['CAREUNIT'], columns=['FIRST_CAREUNIT'], drop_first = True)\n",
        "\n",
        "#test_data = test_data.drop([\"DIAGNOSIS\"], axis=1)\n",
        "#test_data = test_data.drop([\"ICD9_CODE\"], axis=1)"
      ]
    },
    {
      "cell_type": "markdown",
      "metadata": {
        "id": "oADgvHdOwptL"
      },
      "source": [
        "We check final dimensions:"
      ]
    },
    {
      "cell_type": "code",
      "execution_count": null,
      "metadata": {
        "colab": {
          "base_uri": "https://localhost:8080/"
        },
        "id": "S7yTO7mdwptL",
        "outputId": "a09b796d-0950-48c1-dfd2-3f8f6215040f"
      },
      "outputs": [
        {
          "name": "stdout",
          "output_type": "stream",
          "text": [
            "(20885, 289)\n",
            "(5221, 287)\n"
          ]
        }
      ],
      "source": [
        "print(data.shape)\n",
        "print(test_data.shape)"
      ]
    },
    {
      "cell_type": "code",
      "execution_count": null,
      "metadata": {
        "colab": {
          "base_uri": "https://localhost:8080/",
          "height": 179
        },
        "id": "hFCu0PBaPgP_",
        "outputId": "82cc06a6-1de9-4879-8aaf-d98a22696492"
      },
      "outputs": [
        {
          "data": {
            "text/html": [
              "<div>\n",
              "<style scoped>\n",
              "    .dataframe tbody tr th:only-of-type {\n",
              "        vertical-align: middle;\n",
              "    }\n",
              "\n",
              "    .dataframe tbody tr th {\n",
              "        vertical-align: top;\n",
              "    }\n",
              "\n",
              "    .dataframe thead th {\n",
              "        text-align: right;\n",
              "    }\n",
              "</style>\n",
              "<table border=\"1\" class=\"dataframe\">\n",
              "  <thead>\n",
              "    <tr style=\"text-align: right;\">\n",
              "      <th></th>\n",
              "      <th>LOS</th>\n",
              "      <th>HOSPITAL_EXPIRE_FLAG</th>\n",
              "      <th>HADM_ID</th>\n",
              "      <th>HeartRate_Min</th>\n",
              "      <th>HeartRate_Max</th>\n",
              "      <th>HeartRate_Mean</th>\n",
              "      <th>SysBP_Min</th>\n",
              "      <th>SysBP_Max</th>\n",
              "      <th>SysBP_Mean</th>\n",
              "      <th>DiasBP_Min</th>\n",
              "      <th>DiasBP_Max</th>\n",
              "      <th>DiasBP_Mean</th>\n",
              "      <th>MeanBP_Min</th>\n",
              "      <th>MeanBP_Max</th>\n",
              "      <th>MeanBP_Mean</th>\n",
              "      <th>RespRate_Min</th>\n",
              "      <th>RespRate_Max</th>\n",
              "      <th>RespRate_Mean</th>\n",
              "      <th>TempC_Min</th>\n",
              "      <th>TempC_Max</th>\n",
              "      <th>TempC_Mean</th>\n",
              "      <th>SpO2_Min</th>\n",
              "      <th>SpO2_Max</th>\n",
              "      <th>SpO2_Mean</th>\n",
              "      <th>Glucose_Min</th>\n",
              "      <th>Glucose_Max</th>\n",
              "      <th>Glucose_Mean</th>\n",
              "      <th>Age</th>\n",
              "      <th>repeat</th>\n",
              "      <th>SEQ_NUM</th>\n",
              "      <th>51881</th>\n",
              "      <th>4019</th>\n",
              "      <th>42731</th>\n",
              "      <th>5849</th>\n",
              "      <th>99592</th>\n",
              "      <th>4280</th>\n",
              "      <th>2762</th>\n",
              "      <th>0389</th>\n",
              "      <th>V4986</th>\n",
              "      <th>78552</th>\n",
              "      <th>...</th>\n",
              "      <th>h_6.0</th>\n",
              "      <th>h_7.0</th>\n",
              "      <th>h_8.0</th>\n",
              "      <th>h_9.0</th>\n",
              "      <th>h_10.0</th>\n",
              "      <th>h_11.0</th>\n",
              "      <th>h_12.0</th>\n",
              "      <th>h_13.0</th>\n",
              "      <th>h_14.0</th>\n",
              "      <th>h_15.0</th>\n",
              "      <th>h_16.0</th>\n",
              "      <th>h_17.0</th>\n",
              "      <th>h_18.0</th>\n",
              "      <th>h_19.0</th>\n",
              "      <th>h_20.0</th>\n",
              "      <th>h_21.0</th>\n",
              "      <th>h_22.0</th>\n",
              "      <th>h_23.0</th>\n",
              "      <th>GENDER_M</th>\n",
              "      <th>ADM_TYPE_EMERGENCY</th>\n",
              "      <th>ADM_TYPE_URGENT</th>\n",
              "      <th>ETH_OTHER</th>\n",
              "      <th>ETH_WHITE</th>\n",
              "      <th>MARITAL_LIFE PARTNER</th>\n",
              "      <th>MARITAL_MARRIED</th>\n",
              "      <th>MARITAL_SEPARATED</th>\n",
              "      <th>MARITAL_SINGLE</th>\n",
              "      <th>MARITAL_UNKNOWN (DEFAULT)</th>\n",
              "      <th>MARITAL_WIDOWED</th>\n",
              "      <th>REL_JEWISH</th>\n",
              "      <th>REL_OTHER</th>\n",
              "      <th>REL_PROTESTANT QUAKER</th>\n",
              "      <th>INS_Medicaid</th>\n",
              "      <th>INS_Medicare</th>\n",
              "      <th>INS_Private</th>\n",
              "      <th>INS_Self Pay</th>\n",
              "      <th>CAREUNIT_CSRU</th>\n",
              "      <th>CAREUNIT_MICU</th>\n",
              "      <th>CAREUNIT_SICU</th>\n",
              "      <th>CAREUNIT_TSICU</th>\n",
              "    </tr>\n",
              "  </thead>\n",
              "  <tbody>\n",
              "    <tr>\n",
              "      <th>0</th>\n",
              "      <td>4.5761</td>\n",
              "      <td>0</td>\n",
              "      <td>195768.0</td>\n",
              "      <td>89.0</td>\n",
              "      <td>145.0</td>\n",
              "      <td>121.043478</td>\n",
              "      <td>74.0</td>\n",
              "      <td>127.0</td>\n",
              "      <td>106.586957</td>\n",
              "      <td>42.0</td>\n",
              "      <td>90.0</td>\n",
              "      <td>61.173913</td>\n",
              "      <td>59.0</td>\n",
              "      <td>94.0</td>\n",
              "      <td>74.543478</td>\n",
              "      <td>15.0</td>\n",
              "      <td>30.0</td>\n",
              "      <td>22.347826</td>\n",
              "      <td>35.111111</td>\n",
              "      <td>36.944444</td>\n",
              "      <td>36.080247</td>\n",
              "      <td>90.0</td>\n",
              "      <td>99.0</td>\n",
              "      <td>95.739130</td>\n",
              "      <td>111.0</td>\n",
              "      <td>230.0</td>\n",
              "      <td>160.777778</td>\n",
              "      <td>69.557495</td>\n",
              "      <td>0.0</td>\n",
              "      <td>17.0</td>\n",
              "      <td>1.0</td>\n",
              "      <td>0.0</td>\n",
              "      <td>1.0</td>\n",
              "      <td>0.0</td>\n",
              "      <td>0.0</td>\n",
              "      <td>1.0</td>\n",
              "      <td>0.0</td>\n",
              "      <td>0.0</td>\n",
              "      <td>0.0</td>\n",
              "      <td>0.0</td>\n",
              "      <td>...</td>\n",
              "      <td>0</td>\n",
              "      <td>0</td>\n",
              "      <td>0</td>\n",
              "      <td>0</td>\n",
              "      <td>0</td>\n",
              "      <td>0</td>\n",
              "      <td>0</td>\n",
              "      <td>0</td>\n",
              "      <td>0</td>\n",
              "      <td>1</td>\n",
              "      <td>0</td>\n",
              "      <td>0</td>\n",
              "      <td>0</td>\n",
              "      <td>0</td>\n",
              "      <td>0</td>\n",
              "      <td>0</td>\n",
              "      <td>0</td>\n",
              "      <td>0</td>\n",
              "      <td>0</td>\n",
              "      <td>1</td>\n",
              "      <td>0</td>\n",
              "      <td>0</td>\n",
              "      <td>1</td>\n",
              "      <td>0</td>\n",
              "      <td>0</td>\n",
              "      <td>0</td>\n",
              "      <td>1</td>\n",
              "      <td>0</td>\n",
              "      <td>0</td>\n",
              "      <td>0</td>\n",
              "      <td>0</td>\n",
              "      <td>1</td>\n",
              "      <td>0</td>\n",
              "      <td>1</td>\n",
              "      <td>0</td>\n",
              "      <td>0</td>\n",
              "      <td>0</td>\n",
              "      <td>1</td>\n",
              "      <td>0</td>\n",
              "      <td>0</td>\n",
              "    </tr>\n",
              "    <tr>\n",
              "      <th>1</th>\n",
              "      <td>0.7582</td>\n",
              "      <td>0</td>\n",
              "      <td>126136.0</td>\n",
              "      <td>63.0</td>\n",
              "      <td>110.0</td>\n",
              "      <td>79.117647</td>\n",
              "      <td>89.0</td>\n",
              "      <td>121.0</td>\n",
              "      <td>106.733333</td>\n",
              "      <td>49.0</td>\n",
              "      <td>74.0</td>\n",
              "      <td>64.733333</td>\n",
              "      <td>58.0</td>\n",
              "      <td>84.0</td>\n",
              "      <td>74.800000</td>\n",
              "      <td>13.0</td>\n",
              "      <td>21.0</td>\n",
              "      <td>16.058824</td>\n",
              "      <td>36.333333</td>\n",
              "      <td>36.611111</td>\n",
              "      <td>36.472222</td>\n",
              "      <td>98.0</td>\n",
              "      <td>100.0</td>\n",
              "      <td>99.058824</td>\n",
              "      <td>103.0</td>\n",
              "      <td>103.0</td>\n",
              "      <td>103.000000</td>\n",
              "      <td>42.073922</td>\n",
              "      <td>0.0</td>\n",
              "      <td>3.0</td>\n",
              "      <td>0.0</td>\n",
              "      <td>0.0</td>\n",
              "      <td>0.0</td>\n",
              "      <td>0.0</td>\n",
              "      <td>0.0</td>\n",
              "      <td>0.0</td>\n",
              "      <td>0.0</td>\n",
              "      <td>0.0</td>\n",
              "      <td>0.0</td>\n",
              "      <td>0.0</td>\n",
              "      <td>...</td>\n",
              "      <td>0</td>\n",
              "      <td>0</td>\n",
              "      <td>0</td>\n",
              "      <td>0</td>\n",
              "      <td>0</td>\n",
              "      <td>0</td>\n",
              "      <td>0</td>\n",
              "      <td>0</td>\n",
              "      <td>0</td>\n",
              "      <td>0</td>\n",
              "      <td>0</td>\n",
              "      <td>0</td>\n",
              "      <td>1</td>\n",
              "      <td>0</td>\n",
              "      <td>0</td>\n",
              "      <td>0</td>\n",
              "      <td>0</td>\n",
              "      <td>0</td>\n",
              "      <td>0</td>\n",
              "      <td>1</td>\n",
              "      <td>0</td>\n",
              "      <td>0</td>\n",
              "      <td>1</td>\n",
              "      <td>0</td>\n",
              "      <td>1</td>\n",
              "      <td>0</td>\n",
              "      <td>0</td>\n",
              "      <td>0</td>\n",
              "      <td>0</td>\n",
              "      <td>0</td>\n",
              "      <td>1</td>\n",
              "      <td>0</td>\n",
              "      <td>0</td>\n",
              "      <td>0</td>\n",
              "      <td>1</td>\n",
              "      <td>0</td>\n",
              "      <td>0</td>\n",
              "      <td>1</td>\n",
              "      <td>0</td>\n",
              "      <td>0</td>\n",
              "    </tr>\n",
              "  </tbody>\n",
              "</table>\n",
              "<p>2 rows × 289 columns</p>\n",
              "</div>"
            ],
            "text/plain": [
              "      LOS  HOSPITAL_EXPIRE_FLAG  ...  CAREUNIT_SICU  CAREUNIT_TSICU\n",
              "0  4.5761                     0  ...              0               0\n",
              "1  0.7582                     0  ...              0               0\n",
              "\n",
              "[2 rows x 289 columns]"
            ]
          },
          "execution_count": 60,
          "metadata": {},
          "output_type": "execute_result"
        }
      ],
      "source": [
        "data.head(2)"
      ]
    },
    {
      "cell_type": "markdown",
      "metadata": {
        "id": "XH4XMTblwptL"
      },
      "source": [
        "##Save to csv, for faster code runs in the future:"
      ]
    },
    {
      "cell_type": "code",
      "execution_count": null,
      "metadata": {
        "id": "TwIaGw-XwptL"
      },
      "outputs": [],
      "source": [
        "data.to_csv(path_or_buf='data.csv', index=False)\n",
        "test_data.to_csv(path_or_buf='test_data.csv', index=False)"
      ]
    },
    {
      "cell_type": "markdown",
      "metadata": {
        "id": "w4k0Bw8kwptQ"
      },
      "source": [
        "<a name=\"models\"></a>\n",
        "#<font color='blue'> Models!</font> \n",
        "<font color='red'>*You can quickly load the output of the previous sections here*</font>\n",
        "\n",
        "In this section we fit our models, check accuracy and generate predictions.\n",
        "\n",
        "\n"
      ]
    },
    {
      "cell_type": "markdown",
      "metadata": {
        "id": "bBBtjfzC4XeM"
      },
      "source": [
        "Two main predictions were made:\n",
        "\n",
        "1. Death predictions: we used the HOSPITAL_EXPIRE_FLAG data in our training set to predict if patients in our test set would die. <font color='green'>Classification problem</font>.\n",
        "\n",
        "2. LOS predictions: we used the previous predictions -and all the other pertinent features- to predict lengths of stay. <font color='green'>Regression problem</font>.\n",
        "\n",
        "Many features are shared by both cases, but **most of them are specific to what we want to predict**.\n",
        "\n"
      ]
    },
    {
      "cell_type": "markdown",
      "metadata": {
        "id": "P9X7bTyJGx9-"
      },
      "source": [
        "\n",
        "\n",
        "\n",
        "\n",
        "We use the following models:\n",
        "\n",
        "- Random Forest Classifier.\n",
        "- Balanced Random Forest Classifier.\n",
        "- Stacking:\n",
        "  - Weak learners:\n",
        "    - KNN.\n",
        "    - LinearSVR.\n",
        "    - Random Forest Regressor.\n",
        "  - Meta learner: Extra Trees Regressor\n",
        "- XGBoosting.\n",
        "- Bagged XGBoosters.\n",
        "\n"
      ]
    },
    {
      "cell_type": "code",
      "execution_count": null,
      "metadata": {
        "colab": {
          "base_uri": "https://localhost:8080/"
        },
        "id": "fAo43LDwn4oC",
        "outputId": "b1ab2487-bd9b-4dba-ddc2-ec910778a622"
      },
      "outputs": [
        {
          "name": "stdout",
          "output_type": "stream",
          "text": [
            "Mounted at /content/drive\n"
          ]
        }
      ],
      "source": [
        "#fast data loading:\n",
        "\n",
        "from google.colab import drive\n",
        "drive.mount('/content/drive')\n",
        "\n",
        "import os\n",
        "os.chdir('/content/drive/My Drive/CM1_CM2_learning/CML_materials/ensembles/kaggle')\n",
        "\n",
        "import pandas as pd\n",
        "import numpy as np\n",
        "\n",
        "data = pd.read_csv(\"data.csv\")\n",
        "test_data = pd.read_csv(\"test_data.csv\")"
      ]
    },
    {
      "cell_type": "markdown",
      "metadata": {
        "id": "DQgua29M97tt"
      },
      "source": [
        "## 1. Death prediction:"
      ]
    },
    {
      "cell_type": "markdown",
      "metadata": {
        "id": "8KqCi9leAh96"
      },
      "source": [
        "As we saw in our Quick Analysis section - and as common sense indicates - patients who die disrupt their stay so estimating if a patient will die is a good feature for LOS regressing.\n",
        "\n",
        "We will try a few bagged classifiers to predict the probability of death of patients and add that information to our datasets.\n",
        "\n",
        "Note we do not use the LOS column."
      ]
    },
    {
      "cell_type": "markdown",
      "metadata": {
        "id": "Pbxj7KbI-xHR"
      },
      "source": [
        "###Prepping the data:"
      ]
    },
    {
      "cell_type": "code",
      "execution_count": null,
      "metadata": {
        "colab": {
          "base_uri": "https://localhost:8080/"
        },
        "id": "2aklvVICwptQ",
        "outputId": "2b0a60cf-9843-4588-e94e-f7dba93e23d8"
      },
      "outputs": [
        {
          "name": "stdout",
          "output_type": "stream",
          "text": [
            "(20885, 286)\n"
          ]
        },
        {
          "data": {
            "text/plain": [
              "(5221, 286)"
            ]
          },
          "execution_count": 2,
          "metadata": {},
          "output_type": "execute_result"
        }
      ],
      "source": [
        "X = data.drop([\"HOSPITAL_EXPIRE_FLAG\", \"LOS\", \"HADM_ID\"], axis =1)\n",
        "y = data[\"HOSPITAL_EXPIRE_FLAG\"]\n",
        "X_test = test_data.drop([\"HADM_ID\"], axis =1)\n",
        "print(X.shape)\n",
        "X_test.shape"
      ]
    },
    {
      "cell_type": "markdown",
      "metadata": {
        "id": "jyLX5TOhFNZV"
      },
      "source": [
        "### Models for Classification:"
      ]
    },
    {
      "cell_type": "markdown",
      "metadata": {
        "id": "Ly-OS9JS_IXM"
      },
      "source": [
        "Trying a Random Forest Classifier:"
      ]
    },
    {
      "cell_type": "code",
      "execution_count": null,
      "metadata": {
        "colab": {
          "base_uri": "https://localhost:8080/"
        },
        "id": "RJk588WhCXXn",
        "outputId": "778683f9-f1a8-41f0-c57e-671cfb369790"
      },
      "outputs": [
        {
          "name": "stdout",
          "output_type": "stream",
          "text": [
            "Mean ROC AUC: 0.930 (+/- 0.009)\n"
          ]
        }
      ],
      "source": [
        "from sklearn.ensemble import RandomForestClassifier\n",
        "from sklearn.model_selection import GridSearchCV\n",
        "from sklearn.model_selection import cross_val_score\n",
        "\n",
        "forest = RandomForestClassifier(n_estimators = 150, \n",
        "                                criterion = \"entropy\",\n",
        "                                max_features = \"sqrt\",\n",
        "                                n_jobs = 8,\n",
        "                                verbose = 0,\n",
        "                                class_weight = \"balanced_subsample\") #for class imbalance\n",
        "\n",
        "#Grid Search performed to determine above hyperparameters:\n",
        "\n",
        "#parameters = {'n_estimators': [150],\n",
        "              #'criterion':[\"gini\", \"entropy\"],\n",
        "              #'max_features':[\"sqrt\", \"log2\"],\n",
        "              #'class_weight': [\"balanced\", \"balanced_subsample\"]}\n",
        "\n",
        "#best_rfc = GridSearchCV(forest, parameters, cv=3, scoring='roc_auc', n_jobs = 8, verbose=3, refit=True)\n",
        "#best_rfc.fit(X, y)\n",
        "#best_rfc.best_params_\n",
        "\n",
        "scores = cross_val_score(forest, X, y, scoring='roc_auc', cv=5, n_jobs=-1)\n",
        "\n",
        "print(\"Mean ROC AUC: %0.3f (+/- %0.3f)\" % (scores.mean(), scores.std() * 2))\n"
      ]
    },
    {
      "cell_type": "markdown",
      "metadata": {
        "id": "aja2dUVw_fcB"
      },
      "source": [
        "Note that the RFC's hyperparameters were grid-searched and that the area under the curve of the ROC was the score which we wanted to maximize (since it is a classification problem)."
      ]
    },
    {
      "cell_type": "markdown",
      "metadata": {
        "id": "ltrdILKThpzr"
      },
      "source": [
        "We also tried out another set of models (Balanced RFC), which perform random undersampling of the majority class in each bootstrap sample to deal with the class imbalance:"
      ]
    },
    {
      "cell_type": "code",
      "execution_count": null,
      "metadata": {
        "colab": {
          "base_uri": "https://localhost:8080/"
        },
        "id": "RlVJrzDSMDYh",
        "outputId": "a16b4663-b5c7-44cc-ec68-653deb796308"
      },
      "outputs": [
        {
          "name": "stdout",
          "output_type": "stream",
          "text": [
            "Mean ROC AUC: 0.922 (+/- 0.008)\n"
          ]
        }
      ],
      "source": [
        "from imblearn.ensemble import BalancedRandomForestClassifier \n",
        "model = BalancedRandomForestClassifier(n_estimators = 200,\n",
        "                                        criterion = \"entropy\",\n",
        "                                        max_features = \"sqrt\",\n",
        "                                        n_jobs = 8,\n",
        "                                        verbose = 0)\n",
        "\n",
        "#Grid Search performed to determine above hyperparameters:\n",
        "\n",
        "#parameters = {'n_estimators': [50, 100, 150, 200],\n",
        "              #'criterion':[\"gini\", \"entropy\"],\n",
        "              #'max_features':[\"sqrt\", \"log2\"]}\n",
        "\n",
        "#best_model = GridSearchCV(model, parameters, cv=5, scoring='roc_auc', n_jobs = 8, verbose=3, refit=True)\n",
        "#best_model.fit(X, y)\n",
        "#best_model.best_params_\n",
        "\n",
        "scores = cross_val_score(model, X, y, scoring='roc_auc', cv=5, n_jobs=-1)\n",
        "\n",
        "print(\"Mean ROC AUC: %0.3f (+/- %0.3f)\" % (scores.mean(), scores.std() * 2))"
      ]
    },
    {
      "cell_type": "markdown",
      "metadata": {
        "id": "Gpl357ovEmqQ"
      },
      "source": [
        "Again, the hyperparameters were grid-searched and the accuracy measured with a mean ROC AUC."
      ]
    },
    {
      "cell_type": "markdown",
      "metadata": {
        "id": "Tcei6luKFSGK"
      },
      "source": [
        "### Prediction of death:"
      ]
    },
    {
      "cell_type": "markdown",
      "metadata": {
        "id": "t36NRAmBiSZJ"
      },
      "source": [
        "We will use the Random Forest Classifier since it appears to perform slightly better:"
      ]
    },
    {
      "cell_type": "code",
      "execution_count": null,
      "metadata": {
        "id": "IPzMwCLJiee-"
      },
      "outputs": [],
      "source": [
        "forest.fit(X,y)\n",
        "prob_death = pd.DataFrame(forest.predict_proba(X_test), columns=['Column1', \"HOSPITAL_EXPIRE_FLAG\"]) "
      ]
    },
    {
      "cell_type": "code",
      "execution_count": null,
      "metadata": {
        "colab": {
          "base_uri": "https://localhost:8080/",
          "height": 112
        },
        "id": "zHWfbEYbjeX5",
        "outputId": "22a598e0-6065-452a-dadb-b5838de2b257"
      },
      "outputs": [
        {
          "data": {
            "text/html": [
              "<div>\n",
              "<style scoped>\n",
              "    .dataframe tbody tr th:only-of-type {\n",
              "        vertical-align: middle;\n",
              "    }\n",
              "\n",
              "    .dataframe tbody tr th {\n",
              "        vertical-align: top;\n",
              "    }\n",
              "\n",
              "    .dataframe thead th {\n",
              "        text-align: right;\n",
              "    }\n",
              "</style>\n",
              "<table border=\"1\" class=\"dataframe\">\n",
              "  <thead>\n",
              "    <tr style=\"text-align: right;\">\n",
              "      <th></th>\n",
              "      <th>Column1</th>\n",
              "      <th>HOSPITAL_EXPIRE_FLAG</th>\n",
              "    </tr>\n",
              "  </thead>\n",
              "  <tbody>\n",
              "    <tr>\n",
              "      <th>0</th>\n",
              "      <td>0.980000</td>\n",
              "      <td>0.020000</td>\n",
              "    </tr>\n",
              "    <tr>\n",
              "      <th>1</th>\n",
              "      <td>0.833333</td>\n",
              "      <td>0.166667</td>\n",
              "    </tr>\n",
              "  </tbody>\n",
              "</table>\n",
              "</div>"
            ],
            "text/plain": [
              "    Column1  HOSPITAL_EXPIRE_FLAG\n",
              "0  0.980000              0.020000\n",
              "1  0.833333              0.166667"
            ]
          },
          "execution_count": 67,
          "metadata": {},
          "output_type": "execute_result"
        }
      ],
      "source": [
        "#to see how it looks:\n",
        "prob_death.head(2)"
      ]
    },
    {
      "cell_type": "markdown",
      "metadata": {
        "id": "TfH1ZgfqFezb"
      },
      "source": [
        "##2. LOS prediction:"
      ]
    },
    {
      "cell_type": "markdown",
      "metadata": {
        "id": "_z1lu3rBFxs8"
      },
      "source": [
        "### Prepping the data:"
      ]
    },
    {
      "cell_type": "markdown",
      "metadata": {
        "id": "FAZbHth1J6HU"
      },
      "source": [
        "<font color='red'>*You can skip this section and directly load the prepared data*"
      ]
    },
    {
      "cell_type": "markdown",
      "metadata": {
        "id": "QH0vn_s4nym9"
      },
      "source": [
        "We add our freshly baked probability of death feature to our test set and redefine X and y:"
      ]
    },
    {
      "cell_type": "code",
      "execution_count": null,
      "metadata": {
        "id": "0HwFsKvMlwg1"
      },
      "outputs": [],
      "source": [
        "X = data.drop([\"LOS\"], axis =1)\n",
        "y = data[\"LOS\"]\n",
        "X_test = pd.concat([prob_death[\"HOSPITAL_EXPIRE_FLAG\"], test_data], axis=1)"
      ]
    },
    {
      "cell_type": "markdown",
      "metadata": {
        "id": "0YvB1DutrRDu"
      },
      "source": [
        "We drop all the features that made sense for predicting death, and replace them with the ones that make sense for predicting LOS:\n"
      ]
    },
    {
      "cell_type": "code",
      "execution_count": null,
      "metadata": {
        "colab": {
          "base_uri": "https://localhost:8080/"
        },
        "id": "Gp6aRl_2NpSt",
        "outputId": "9002460c-2d76-4d18-b1b5-631290043c6d"
      },
      "outputs": [
        {
          "name": "stdout",
          "output_type": "stream",
          "text": [
            "initial X:  (20885, 288)\n",
            "initial X_test:  (5221, 288)\n",
            "X after dropping:  (20885, 88)\n",
            "X_test after dropping:  (5221, 88)\n"
          ]
        }
      ],
      "source": [
        "#dropping features for death:\n",
        "print(\"initial X: \", X.shape)\n",
        "print(\"initial X_test: \", X_test.shape)\n",
        "\n",
        "droppable = X.iloc[:, 29:229].columns\n",
        "\n",
        "#this drops the top 100 single comorbidities present in patients who die and \n",
        "#the top 100 pairwise combinations of comorbidities present in patients who die:\n",
        "X = X.drop(droppable, axis=1) \n",
        "\n",
        "#this does the same for the testset:\n",
        "X_test = X_test.drop(droppable, axis=1)\n",
        "\n",
        "\n",
        "print(\"X after dropping: \", X.shape)\n",
        "print(\"X_test after dropping: \", X_test.shape)"
      ]
    },
    {
      "cell_type": "code",
      "execution_count": null,
      "metadata": {
        "colab": {
          "base_uri": "https://localhost:8080/"
        },
        "id": "6p76Lq4SXjX2",
        "outputId": "b9b45d2a-704f-40c2-c017-b6faa8f46bd3"
      },
      "outputs": [
        {
          "name": "stdout",
          "output_type": "stream",
          "text": [
            "X after adding:  (20885, 238)\n",
            "X_test after adding:  (5221, 238)\n"
          ]
        }
      ],
      "source": [
        "#adding features for LOS:\n",
        "top_comorbs_stay.append(\"HADM_ID\")\n",
        "de2 = de[top_comorbs_stay]\n",
        "\n",
        "#this adds the top 150 comorbidities that are distinctly more likely to be present in short and long stay patients: \n",
        "X = X.merge(de2, on='HADM_ID', how='left')\n",
        "X_test = X_test.merge(de2, on='HADM_ID', how='left')\n",
        "\n",
        "print(\"X after adding: \", X.shape)\n",
        "print(\"X_test after adding: \", X_test.shape)"
      ]
    },
    {
      "cell_type": "code",
      "execution_count": null,
      "metadata": {
        "id": "qY65Jz-lX9aW"
      },
      "outputs": [],
      "source": [
        "#this drops HADM_ID which has no use now:\n",
        "X = X.drop([\"HADM_ID\"], axis =1)\n",
        "X_test = X_test.drop([\"HADM_ID\"], axis =1)"
      ]
    },
    {
      "cell_type": "markdown",
      "metadata": {
        "id": "DygynIwrJxbp"
      },
      "source": [
        "Save the output for future runs."
      ]
    },
    {
      "cell_type": "code",
      "execution_count": null,
      "metadata": {
        "id": "gNr1gcpyPfaP"
      },
      "outputs": [],
      "source": [
        "X.to_csv(path_or_buf='X_for_LOS.csv', index=False)\n",
        "X_test.to_csv(path_or_buf='X_test_for_LOS.csv', index=False)\n",
        "y.to_csv(path_or_buf='yfor_LOS.csv', index=False)"
      ]
    },
    {
      "cell_type": "markdown",
      "metadata": {
        "id": "aOmlXTg2qTdC"
      },
      "source": [
        "### Regression Models:\n"
      ]
    },
    {
      "cell_type": "markdown",
      "metadata": {
        "id": "0UGmZCCYLPUt"
      },
      "source": [
        "<font color='red'>*Quickly load the output of the previous section*"
      ]
    },
    {
      "cell_type": "code",
      "execution_count": null,
      "metadata": {
        "colab": {
          "base_uri": "https://localhost:8080/"
        },
        "id": "ojy1jf4-LpIw",
        "outputId": "9eee9e94-4ac8-4977-a836-42a83f42267d"
      },
      "outputs": [
        {
          "name": "stdout",
          "output_type": "stream",
          "text": [
            "(20885, 237)\n",
            "(5221, 237)\n",
            "(20885, 1)\n"
          ]
        }
      ],
      "source": [
        "#quick load\n",
        "\n",
        "X = pd.read_csv('X_for_LOS.csv')\n",
        "X_test = pd.read_csv('X_test_for_LOS.csv')\n",
        "y = pd.read_csv('yfor_LOS.csv')\n",
        "for i in [X, X_test, y]:\n",
        "  print(i.shape)"
      ]
    },
    {
      "cell_type": "markdown",
      "metadata": {
        "id": "eKAgFQ6EffH3"
      },
      "source": [
        "#### Stacking:"
      ]
    },
    {
      "cell_type": "markdown",
      "metadata": {
        "id": "qYXxPgdGfp7b"
      },
      "source": [
        "As weak learners, we used k-Nearest Neighbors, a Support Vector Machine model and a Random Forest."
      ]
    },
    {
      "cell_type": "markdown",
      "metadata": {
        "id": "_n9s3LUegBRW"
      },
      "source": [
        "Pre-requisites:"
      ]
    },
    {
      "cell_type": "code",
      "execution_count": null,
      "metadata": {
        "id": "wDU8FR8cMUxL"
      },
      "outputs": [],
      "source": [
        "# Scale inputs for kNN and SVM\n",
        "\n",
        "from sklearn.preprocessing import StandardScaler\n",
        "scaler = StandardScaler(with_mean=True, with_std=True).fit(X)\n",
        "X = scaler.transform(X)\n",
        "X_test = scaler.transform(X_test)"
      ]
    },
    {
      "cell_type": "code",
      "execution_count": null,
      "metadata": {
        "colab": {
          "base_uri": "https://localhost:8080/"
        },
        "id": "RjD98v1CNv8s",
        "outputId": "5d9b60d7-eee2-4206-81c1-c41520523f07"
      },
      "outputs": [
        {
          "name": "stdout",
          "output_type": "stream",
          "text": [
            "(17752, 237)\n",
            "(3133, 237)\n",
            "(17752, 1)\n",
            "(3133, 1)\n"
          ]
        }
      ],
      "source": [
        "# Split the data in order to measure accuracy of the models, since cross-validation would take too long.\n",
        "\n",
        "from sklearn.model_selection import train_test_split\n",
        "xtrain, xtest, ytrain, ytest = train_test_split(X, y, test_size=0.15, random_state=123)\n",
        "\n",
        "for i in [xtrain, xtest, ytrain, ytest]:\n",
        "  print(i.shape)"
      ]
    },
    {
      "cell_type": "markdown",
      "metadata": {
        "id": "9DhGCH9igKEC"
      },
      "source": [
        "1. KNN Regressor:"
      ]
    },
    {
      "cell_type": "code",
      "execution_count": null,
      "metadata": {
        "colab": {
          "base_uri": "https://localhost:8080/"
        },
        "id": "SecqOkYkYAd4",
        "outputId": "03d12035-ecc7-453b-c984-0df00becda2c"
      },
      "outputs": [
        {
          "name": "stdout",
          "output_type": "stream",
          "text": [
            "RMSE kNN: 5.641\n"
          ]
        }
      ],
      "source": [
        "from sklearn.neighbors import KNeighborsRegressor\n",
        "from sklearn.metrics import mean_squared_error\n",
        "\n",
        "knn = KNeighborsRegressor(n_neighbors=100)\n",
        "knn.fit(xtrain, ytrain)\n",
        "knnPred = knn.predict(xtest)\n",
        "score = mean_squared_error(ytest, knnPred, squared= False)\n",
        "print(\"RMSE kNN:\", \"%.3f\" % (score))"
      ]
    },
    {
      "cell_type": "markdown",
      "metadata": {
        "id": "w2WrCK-SgP5_"
      },
      "source": [
        "2. Linear SVR:"
      ]
    },
    {
      "cell_type": "code",
      "execution_count": null,
      "metadata": {
        "colab": {
          "base_uri": "https://localhost:8080/"
        },
        "id": "dK0JouUUY510",
        "outputId": "0386b136-d59c-4bba-ca07-7d7da79b7f87"
      },
      "outputs": [
        {
          "name": "stdout",
          "output_type": "stream",
          "text": [
            "[LibLinear]"
          ]
        },
        {
          "name": "stderr",
          "output_type": "stream",
          "text": [
            "/usr/local/lib/python3.7/dist-packages/sklearn/utils/validation.py:985: DataConversionWarning: A column-vector y was passed when a 1d array was expected. Please change the shape of y to (n_samples, ), for example using ravel().\n",
            "  y = column_or_1d(y, warn=True)\n"
          ]
        },
        {
          "name": "stdout",
          "output_type": "stream",
          "text": [
            "RMSE SVR: 5.091\n"
          ]
        },
        {
          "name": "stderr",
          "output_type": "stream",
          "text": [
            "/usr/local/lib/python3.7/dist-packages/sklearn/svm/_base.py:1208: ConvergenceWarning: Liblinear failed to converge, increase the number of iterations.\n",
            "  ConvergenceWarning,\n"
          ]
        }
      ],
      "source": [
        "from sklearn.svm import LinearSVR\n",
        "svr = LinearSVR(C=10, verbose = 2) \n",
        "svr.fit(xtrain, ytrain)\n",
        "svrPred = svr.predict(xtest)\n",
        "score = mean_squared_error(ytest, svrPred, squared= False)\n",
        "print(\"RMSE SVR:\", \"%.3f\" % (score))"
      ]
    },
    {
      "cell_type": "markdown",
      "metadata": {
        "id": "1w9HT7aDgUhU"
      },
      "source": [
        "3. Random Forest Regressor:"
      ]
    },
    {
      "cell_type": "code",
      "execution_count": null,
      "metadata": {
        "colab": {
          "base_uri": "https://localhost:8080/"
        },
        "id": "S6SSp7dCZb_B",
        "outputId": "386b7bfa-4b71-4f33-a74b-2fc079d46c1f"
      },
      "outputs": [
        {
          "name": "stderr",
          "output_type": "stream",
          "text": [
            "/usr/local/lib/python3.7/dist-packages/ipykernel_launcher.py:3: DataConversionWarning: A column-vector y was passed when a 1d array was expected. Please change the shape of y to (n_samples,), for example using ravel().\n",
            "  This is separate from the ipykernel package so we can avoid doing imports until\n"
          ]
        },
        {
          "name": "stdout",
          "output_type": "stream",
          "text": [
            "RMSE RF: 4.601\n"
          ]
        }
      ],
      "source": [
        "from sklearn.ensemble import RandomForestRegressor\n",
        "rf = RandomForestRegressor(n_estimators=50, max_features=100, random_state=10) \n",
        "rf.fit(xtrain, ytrain)\n",
        "rfPred = rf.predict(xtest)\n",
        "score = mean_squared_error(ytest, rfPred, squared= False)\n",
        "print(\"RMSE RF:\", \"%.3f\" % (score))"
      ]
    },
    {
      "cell_type": "markdown",
      "metadata": {
        "id": "c1LkA6s7ggtB"
      },
      "source": [
        "We use an Extra Trees Regressor as the meta-learner:"
      ]
    },
    {
      "cell_type": "code",
      "execution_count": null,
      "metadata": {
        "id": "2WAOkTFnb7NM"
      },
      "outputs": [],
      "source": [
        "from sklearn.ensemble import ExtraTreesRegressor\n",
        "meta_learner = ExtraTreesRegressor(\n",
        "    n_estimators=50,\n",
        "    bootstrap=True,\n",
        "    max_features=0.7,\n",
        "    random_state=5)"
      ]
    },
    {
      "cell_type": "markdown",
      "metadata": {
        "id": "8b7YXk2lgopF"
      },
      "source": [
        "Actual stacking:"
      ]
    },
    {
      "cell_type": "code",
      "execution_count": null,
      "metadata": {
        "colab": {
          "base_uri": "https://localhost:8080/"
        },
        "id": "-4CgGC-XcsFi",
        "outputId": "0a606a38-366c-4433-9e80-0de972b07465"
      },
      "outputs": [
        {
          "name": "stdout",
          "output_type": "stream",
          "text": [
            "Collecting mlens\n",
            "  Downloading mlens-0.2.3-py2.py3-none-any.whl (227 kB)\n",
            "\u001b[?25l\r\u001b[K     |█▍                              | 10 kB 21.4 MB/s eta 0:00:01\r\u001b[K     |██▉                             | 20 kB 8.8 MB/s eta 0:00:01\r\u001b[K     |████▎                           | 30 kB 7.3 MB/s eta 0:00:01\r\u001b[K     |█████▊                          | 40 kB 6.8 MB/s eta 0:00:01\r\u001b[K     |███████▏                        | 51 kB 5.1 MB/s eta 0:00:01\r\u001b[K     |████████▋                       | 61 kB 5.2 MB/s eta 0:00:01\r\u001b[K     |██████████                      | 71 kB 5.4 MB/s eta 0:00:01\r\u001b[K     |███████████▌                    | 81 kB 6.0 MB/s eta 0:00:01\r\u001b[K     |█████████████                   | 92 kB 4.7 MB/s eta 0:00:01\r\u001b[K     |██████████████▍                 | 102 kB 5.0 MB/s eta 0:00:01\r\u001b[K     |███████████████▉                | 112 kB 5.0 MB/s eta 0:00:01\r\u001b[K     |█████████████████▎              | 122 kB 5.0 MB/s eta 0:00:01\r\u001b[K     |██████████████████▊             | 133 kB 5.0 MB/s eta 0:00:01\r\u001b[K     |████████████████████▏           | 143 kB 5.0 MB/s eta 0:00:01\r\u001b[K     |█████████████████████▋          | 153 kB 5.0 MB/s eta 0:00:01\r\u001b[K     |███████████████████████         | 163 kB 5.0 MB/s eta 0:00:01\r\u001b[K     |████████████████████████▌       | 174 kB 5.0 MB/s eta 0:00:01\r\u001b[K     |██████████████████████████      | 184 kB 5.0 MB/s eta 0:00:01\r\u001b[K     |███████████████████████████▍    | 194 kB 5.0 MB/s eta 0:00:01\r\u001b[K     |████████████████████████████▉   | 204 kB 5.0 MB/s eta 0:00:01\r\u001b[K     |██████████████████████████████▎ | 215 kB 5.0 MB/s eta 0:00:01\r\u001b[K     |███████████████████████████████▋| 225 kB 5.0 MB/s eta 0:00:01\r\u001b[K     |████████████████████████████████| 227 kB 5.0 MB/s \n",
            "\u001b[?25hRequirement already satisfied: scipy>=0.17 in /usr/local/lib/python3.7/dist-packages (from mlens) (1.4.1)\n",
            "Requirement already satisfied: numpy>=1.11 in /usr/local/lib/python3.7/dist-packages (from mlens) (1.19.5)\n",
            "Installing collected packages: mlens\n",
            "Successfully installed mlens-0.2.3\n",
            "\n",
            "Fitting 2 layers\n"
          ]
        },
        {
          "name": "stderr",
          "output_type": "stream",
          "text": [
            "[MLENS] backend: threading\n"
          ]
        },
        {
          "name": "stdout",
          "output_type": "stream",
          "text": [
            "Processing layer-1             "
          ]
        },
        {
          "name": "stderr",
          "output_type": "stream",
          "text": [
            "/usr/local/lib/python3.7/dist-packages/sklearn/utils/validation.py:985: DataConversionWarning: A column-vector y was passed when a 1d array was expected. Please change the shape of y to (n_samples, ), for example using ravel().\n",
            "  y = column_or_1d(y, warn=True)\n",
            "/usr/local/lib/python3.7/dist-packages/sklearn/utils/validation.py:985: DataConversionWarning: A column-vector y was passed when a 1d array was expected. Please change the shape of y to (n_samples, ), for example using ravel().\n",
            "  y = column_or_1d(y, warn=True)\n",
            "/usr/local/lib/python3.7/dist-packages/sklearn/utils/validation.py:985: DataConversionWarning: A column-vector y was passed when a 1d array was expected. Please change the shape of y to (n_samples, ), for example using ravel().\n",
            "  y = column_or_1d(y, warn=True)\n",
            "/usr/local/lib/python3.7/dist-packages/sklearn/svm/_base.py:1208: ConvergenceWarning: Liblinear failed to converge, increase the number of iterations.\n",
            "  ConvergenceWarning,\n",
            "/usr/local/lib/python3.7/dist-packages/sklearn/utils/validation.py:985: DataConversionWarning: A column-vector y was passed when a 1d array was expected. Please change the shape of y to (n_samples, ), for example using ravel().\n",
            "  y = column_or_1d(y, warn=True)\n",
            "/usr/local/lib/python3.7/dist-packages/sklearn/svm/_base.py:1208: ConvergenceWarning: Liblinear failed to converge, increase the number of iterations.\n",
            "  ConvergenceWarning,\n",
            "/usr/local/lib/python3.7/dist-packages/sklearn/utils/validation.py:985: DataConversionWarning: A column-vector y was passed when a 1d array was expected. Please change the shape of y to (n_samples, ), for example using ravel().\n",
            "  y = column_or_1d(y, warn=True)\n",
            "/usr/local/lib/python3.7/dist-packages/sklearn/svm/_base.py:1208: ConvergenceWarning: Liblinear failed to converge, increase the number of iterations.\n",
            "  ConvergenceWarning,\n",
            "/usr/local/lib/python3.7/dist-packages/sklearn/utils/validation.py:985: DataConversionWarning: A column-vector y was passed when a 1d array was expected. Please change the shape of y to (n_samples, ), for example using ravel().\n",
            "  y = column_or_1d(y, warn=True)\n",
            "/usr/local/lib/python3.7/dist-packages/sklearn/svm/_base.py:1208: ConvergenceWarning: Liblinear failed to converge, increase the number of iterations.\n",
            "  ConvergenceWarning,\n",
            "/usr/local/lib/python3.7/dist-packages/mlens/parallel/learner.py:179: DataConversionWarning: A column-vector y was passed when a 1d array was expected. Please change the shape of y to (n_samples,), for example using ravel().\n",
            "  self.estimator.fit(xtemp, ytemp)\n",
            "/usr/local/lib/python3.7/dist-packages/sklearn/svm/_base.py:1208: ConvergenceWarning: Liblinear failed to converge, increase the number of iterations.\n",
            "  ConvergenceWarning,\n",
            "/usr/local/lib/python3.7/dist-packages/mlens/parallel/learner.py:179: DataConversionWarning: A column-vector y was passed when a 1d array was expected. Please change the shape of y to (n_samples,), for example using ravel().\n",
            "  self.estimator.fit(xtemp, ytemp)\n",
            "/usr/local/lib/python3.7/dist-packages/sklearn/svm/_base.py:1208: ConvergenceWarning: Liblinear failed to converge, increase the number of iterations.\n",
            "  ConvergenceWarning,\n",
            "/usr/local/lib/python3.7/dist-packages/mlens/parallel/learner.py:179: DataConversionWarning: A column-vector y was passed when a 1d array was expected. Please change the shape of y to (n_samples,), for example using ravel().\n",
            "  self.estimator.fit(xtemp, ytemp)\n",
            "/usr/local/lib/python3.7/dist-packages/mlens/parallel/learner.py:179: DataConversionWarning: A column-vector y was passed when a 1d array was expected. Please change the shape of y to (n_samples,), for example using ravel().\n",
            "  self.estimator.fit(xtemp, ytemp)\n",
            "/usr/local/lib/python3.7/dist-packages/mlens/parallel/learner.py:179: DataConversionWarning: A column-vector y was passed when a 1d array was expected. Please change the shape of y to (n_samples,), for example using ravel().\n",
            "  self.estimator.fit(xtemp, ytemp)\n",
            "/usr/local/lib/python3.7/dist-packages/mlens/parallel/learner.py:179: DataConversionWarning: A column-vector y was passed when a 1d array was expected. Please change the shape of y to (n_samples,), for example using ravel().\n",
            "  self.estimator.fit(xtemp, ytemp)\n",
            "/usr/local/lib/python3.7/dist-packages/mlens/parallel/learner.py:179: DataConversionWarning: A column-vector y was passed when a 1d array was expected. Please change the shape of y to (n_samples,), for example using ravel().\n",
            "  self.estimator.fit(xtemp, ytemp)\n"
          ]
        },
        {
          "name": "stdout",
          "output_type": "stream",
          "text": [
            "done | 00:02:47\n",
            "Processing layer-2             done | 00:00:01\n",
            "Fit complete                        | 00:02:49\n",
            "\n",
            "Predicting 2 layers\n",
            "Processing layer-1             done | 00:00:02\n",
            "Processing layer-2             done | 00:00:00\n",
            "Predict complete                    | 00:00:04\n",
            "RMSE SL: 4.763\n"
          ]
        }
      ],
      "source": [
        "!pip install mlens\n",
        "from mlens.ensemble import SuperLearner\n",
        "# Instantiate the ensemble with 5 folds (stacking meta-learner)\n",
        "sl = SuperLearner(\n",
        "    folds=5,\n",
        "    random_state=123,\n",
        "    verbose=2,\n",
        "    backend=\"multiprocessing\",\n",
        "    n_jobs=3\n",
        ")\n",
        "\n",
        "# Add the base learners and the meta learner\n",
        "sl.add([knn, svr, rf])\n",
        "sl.add_meta(meta_learner)\n",
        "\n",
        "# Train the ensemble\n",
        "sl.fit(xtrain, ytrain)\n",
        "\n",
        "# Predict the test set\n",
        "slPred = sl.predict(xtest)\n",
        "score = mean_squared_error(ytest, slPred, squared= False)\n",
        "print(\"RMSE SL:\", \"%.3f\" % (score))"
      ]
    },
    {
      "cell_type": "markdown",
      "metadata": {
        "id": "0xijwZpgiO2m"
      },
      "source": [
        "Not very promising. But we fit the superlearner with all the data:"
      ]
    },
    {
      "cell_type": "code",
      "execution_count": null,
      "metadata": {
        "colab": {
          "base_uri": "https://localhost:8080/"
        },
        "id": "aFl5USn3e9pR",
        "outputId": "a8acf6cc-f2a6-4231-c5f9-f9c5d511719e"
      },
      "outputs": [
        {
          "name": "stdout",
          "output_type": "stream",
          "text": [
            "\n",
            "Fitting 2 layers\n",
            "Processing layer-1             "
          ]
        },
        {
          "name": "stderr",
          "output_type": "stream",
          "text": [
            "/usr/local/lib/python3.7/dist-packages/sklearn/utils/validation.py:985: DataConversionWarning: A column-vector y was passed when a 1d array was expected. Please change the shape of y to (n_samples, ), for example using ravel().\n",
            "  y = column_or_1d(y, warn=True)\n",
            "/usr/local/lib/python3.7/dist-packages/sklearn/utils/validation.py:985: DataConversionWarning: A column-vector y was passed when a 1d array was expected. Please change the shape of y to (n_samples, ), for example using ravel().\n",
            "  y = column_or_1d(y, warn=True)\n",
            "/usr/local/lib/python3.7/dist-packages/sklearn/utils/validation.py:985: DataConversionWarning: A column-vector y was passed when a 1d array was expected. Please change the shape of y to (n_samples, ), for example using ravel().\n",
            "  y = column_or_1d(y, warn=True)\n",
            "/usr/local/lib/python3.7/dist-packages/sklearn/svm/_base.py:1208: ConvergenceWarning: Liblinear failed to converge, increase the number of iterations.\n",
            "  ConvergenceWarning,\n",
            "/usr/local/lib/python3.7/dist-packages/sklearn/utils/validation.py:985: DataConversionWarning: A column-vector y was passed when a 1d array was expected. Please change the shape of y to (n_samples, ), for example using ravel().\n",
            "  y = column_or_1d(y, warn=True)\n",
            "/usr/local/lib/python3.7/dist-packages/sklearn/svm/_base.py:1208: ConvergenceWarning: Liblinear failed to converge, increase the number of iterations.\n",
            "  ConvergenceWarning,\n",
            "/usr/local/lib/python3.7/dist-packages/sklearn/utils/validation.py:985: DataConversionWarning: A column-vector y was passed when a 1d array was expected. Please change the shape of y to (n_samples, ), for example using ravel().\n",
            "  y = column_or_1d(y, warn=True)\n",
            "/usr/local/lib/python3.7/dist-packages/sklearn/svm/_base.py:1208: ConvergenceWarning: Liblinear failed to converge, increase the number of iterations.\n",
            "  ConvergenceWarning,\n",
            "/usr/local/lib/python3.7/dist-packages/sklearn/utils/validation.py:985: DataConversionWarning: A column-vector y was passed when a 1d array was expected. Please change the shape of y to (n_samples, ), for example using ravel().\n",
            "  y = column_or_1d(y, warn=True)\n",
            "/usr/local/lib/python3.7/dist-packages/sklearn/svm/_base.py:1208: ConvergenceWarning: Liblinear failed to converge, increase the number of iterations.\n",
            "  ConvergenceWarning,\n",
            "/usr/local/lib/python3.7/dist-packages/mlens/parallel/learner.py:179: DataConversionWarning: A column-vector y was passed when a 1d array was expected. Please change the shape of y to (n_samples,), for example using ravel().\n",
            "  self.estimator.fit(xtemp, ytemp)\n",
            "/usr/local/lib/python3.7/dist-packages/sklearn/svm/_base.py:1208: ConvergenceWarning: Liblinear failed to converge, increase the number of iterations.\n",
            "  ConvergenceWarning,\n",
            "/usr/local/lib/python3.7/dist-packages/mlens/parallel/learner.py:179: DataConversionWarning: A column-vector y was passed when a 1d array was expected. Please change the shape of y to (n_samples,), for example using ravel().\n",
            "  self.estimator.fit(xtemp, ytemp)\n",
            "/usr/local/lib/python3.7/dist-packages/sklearn/svm/_base.py:1208: ConvergenceWarning: Liblinear failed to converge, increase the number of iterations.\n",
            "  ConvergenceWarning,\n",
            "/usr/local/lib/python3.7/dist-packages/mlens/parallel/learner.py:179: DataConversionWarning: A column-vector y was passed when a 1d array was expected. Please change the shape of y to (n_samples,), for example using ravel().\n",
            "  self.estimator.fit(xtemp, ytemp)\n",
            "/usr/local/lib/python3.7/dist-packages/mlens/parallel/learner.py:179: DataConversionWarning: A column-vector y was passed when a 1d array was expected. Please change the shape of y to (n_samples,), for example using ravel().\n",
            "  self.estimator.fit(xtemp, ytemp)\n",
            "/usr/local/lib/python3.7/dist-packages/mlens/parallel/learner.py:179: DataConversionWarning: A column-vector y was passed when a 1d array was expected. Please change the shape of y to (n_samples,), for example using ravel().\n",
            "  self.estimator.fit(xtemp, ytemp)\n",
            "/usr/local/lib/python3.7/dist-packages/mlens/parallel/learner.py:179: DataConversionWarning: A column-vector y was passed when a 1d array was expected. Please change the shape of y to (n_samples,), for example using ravel().\n",
            "  self.estimator.fit(xtemp, ytemp)\n",
            "/usr/local/lib/python3.7/dist-packages/mlens/parallel/learner.py:179: DataConversionWarning: A column-vector y was passed when a 1d array was expected. Please change the shape of y to (n_samples,), for example using ravel().\n",
            "  self.estimator.fit(xtemp, ytemp)\n"
          ]
        },
        {
          "name": "stdout",
          "output_type": "stream",
          "text": [
            "done | 00:03:23\n",
            "Processing layer-2             [LibLinear][LibLinear][LibLinear][LibLinear]done | 00:00:01\n",
            "Fit complete                        | 00:03:26\n",
            "\n",
            "Predicting 2 layers\n",
            "Processing layer-1             done | 00:00:05\n",
            "Processing layer-2             done | 00:00:00\n",
            "Predict complete                    | 00:00:06\n"
          ]
        }
      ],
      "source": [
        "# Train the ensemble\n",
        "sl.fit(X, y)\n",
        "\n",
        "# Predict the test set\n",
        "slPred = sl.predict(X_test)"
      ]
    },
    {
      "cell_type": "markdown",
      "metadata": {
        "id": "KmzTp9w4P9aJ"
      },
      "source": [
        "We inspect the predictions:"
      ]
    },
    {
      "cell_type": "code",
      "execution_count": null,
      "metadata": {
        "colab": {
          "base_uri": "https://localhost:8080/"
        },
        "id": "xTLB-PRdmXoE",
        "outputId": "6e4fc0c9-f450-4612-b810-2c8b2f905d34"
      },
      "outputs": [
        {
          "data": {
            "text/html": [
              "<div>\n",
              "<style scoped>\n",
              "    .dataframe tbody tr th:only-of-type {\n",
              "        vertical-align: middle;\n",
              "    }\n",
              "\n",
              "    .dataframe tbody tr th {\n",
              "        vertical-align: top;\n",
              "    }\n",
              "\n",
              "    .dataframe thead th {\n",
              "        text-align: right;\n",
              "    }\n",
              "</style>\n",
              "<table border=\"1\" class=\"dataframe\">\n",
              "  <thead>\n",
              "    <tr style=\"text-align: right;\">\n",
              "      <th></th>\n",
              "      <th>0</th>\n",
              "    </tr>\n",
              "  </thead>\n",
              "  <tbody>\n",
              "    <tr>\n",
              "      <th>count</th>\n",
              "      <td>5221.000000</td>\n",
              "    </tr>\n",
              "    <tr>\n",
              "      <th>mean</th>\n",
              "      <td>3.789525</td>\n",
              "    </tr>\n",
              "    <tr>\n",
              "      <th>std</th>\n",
              "      <td>3.503942</td>\n",
              "    </tr>\n",
              "    <tr>\n",
              "      <th>min</th>\n",
              "      <td>0.414092</td>\n",
              "    </tr>\n",
              "    <tr>\n",
              "      <th>25%</th>\n",
              "      <td>1.787720</td>\n",
              "    </tr>\n",
              "    <tr>\n",
              "      <th>50%</th>\n",
              "      <td>2.555444</td>\n",
              "    </tr>\n",
              "    <tr>\n",
              "      <th>75%</th>\n",
              "      <td>4.342220</td>\n",
              "    </tr>\n",
              "    <tr>\n",
              "      <th>max</th>\n",
              "      <td>37.160007</td>\n",
              "    </tr>\n",
              "  </tbody>\n",
              "</table>\n",
              "</div>"
            ],
            "text/plain": [
              "                 0\n",
              "count  5221.000000\n",
              "mean      3.789525\n",
              "std       3.503942\n",
              "min       0.414092\n",
              "25%       1.787720\n",
              "50%       2.555444\n",
              "75%       4.342220\n",
              "max      37.160007"
            ]
          },
          "execution_count": 82,
          "metadata": {},
          "output_type": "execute_result"
        }
      ],
      "source": [
        "pd.DataFrame(slPred).describe()"
      ]
    },
    {
      "cell_type": "markdown",
      "metadata": {
        "id": "7i9b8AKlizPs"
      },
      "source": [
        "####XGBOOST:"
      ]
    },
    {
      "cell_type": "markdown",
      "metadata": {
        "id": "GTMFzpYHMctK"
      },
      "source": [
        "We try out XGBOOST:"
      ]
    },
    {
      "cell_type": "code",
      "execution_count": null,
      "metadata": {
        "id": "Y_ghMjCCt-mL"
      },
      "outputs": [],
      "source": [
        "import xgboost as xgb\n",
        "from sklearn.model_selection import train_test_split\n",
        "from sklearn.model_selection import cross_val_score, KFold\n",
        "from sklearn.metrics import mean_squared_error\n",
        "from sklearn.model_selection import GridSearchCV"
      ]
    },
    {
      "cell_type": "markdown",
      "metadata": {
        "id": "Hu7tQVBTMlX4"
      },
      "source": [
        "Gridsearch suggests very little changes to the default parameters:"
      ]
    },
    {
      "cell_type": "code",
      "execution_count": null,
      "metadata": {
        "id": "xiViVcFdOL9y"
      },
      "outputs": [],
      "source": [
        "xgbr = xgb.XGBRegressor(verbosity = 0, eta = 0.1, max_depth=6, subsample=1)\n",
        "\n",
        "#params = {\"eta\": [0.1, 0.2, 0.3],\n",
        " #         \"max_depth\": [3, 6, 8],\n",
        "  #        \"subsample\": [0.8, 1]}\n",
        "\n",
        "#search = GridSearchCV(xgbr, params, cv=5, n_jobs=8, scoring=\"neg_mean_squared_error\")\n",
        "\n",
        "#search.fit(X, y)\n",
        "\n",
        "#search.best_params_\n",
        "#search.best_score_"
      ]
    },
    {
      "cell_type": "markdown",
      "metadata": {
        "id": "jHj9l4VrLYUG"
      },
      "source": [
        "Nonetheless, the GridSearchCV was not very wide in order to save time. \n",
        "\n",
        "We try a different approach to complement these results: Bayesian Search. This technique uses Bayesian optimization to try to find some structure in the search space, and through it minimizes the search time. \n",
        "\n",
        "It uses the past evaluation results to sample new candidates that are more likely to give better results."
      ]
    },
    {
      "cell_type": "code",
      "execution_count": null,
      "metadata": {
        "colab": {
          "base_uri": "https://localhost:8080/"
        },
        "id": "6bk7H-vIpd-Q",
        "outputId": "7c143cb4-c06d-4299-e734-1bd167ab43d5"
      },
      "outputs": [
        {
          "name": "stdout",
          "output_type": "stream",
          "text": [
            "Collecting scikit-optimize\n",
            "  Downloading scikit_optimize-0.9.0-py2.py3-none-any.whl (100 kB)\n",
            "\u001b[K     |████████████████████████████████| 100 kB 2.9 MB/s \n",
            "\u001b[?25hRequirement already satisfied: scipy>=0.19.1 in /usr/local/lib/python3.7/dist-packages (from scikit-optimize) (1.4.1)\n",
            "Requirement already satisfied: scikit-learn>=0.20.0 in /usr/local/lib/python3.7/dist-packages (from scikit-optimize) (1.0.1)\n",
            "Requirement already satisfied: joblib>=0.11 in /usr/local/lib/python3.7/dist-packages (from scikit-optimize) (1.1.0)\n",
            "Requirement already satisfied: numpy>=1.13.3 in /usr/local/lib/python3.7/dist-packages (from scikit-optimize) (1.19.5)\n",
            "Collecting pyaml>=16.9\n",
            "  Downloading pyaml-21.10.1-py2.py3-none-any.whl (24 kB)\n",
            "Requirement already satisfied: PyYAML in /usr/local/lib/python3.7/dist-packages (from pyaml>=16.9->scikit-optimize) (3.13)\n",
            "Requirement already satisfied: threadpoolctl>=2.0.0 in /usr/local/lib/python3.7/dist-packages (from scikit-learn>=0.20.0->scikit-optimize) (3.0.0)\n",
            "Installing collected packages: pyaml, scikit-optimize\n",
            "Successfully installed pyaml-21.10.1 scikit-optimize-0.9.0\n",
            "[15:25:39] WARNING: /workspace/src/objective/regression_obj.cu:152: reg:linear is now deprecated in favor of reg:squarederror.\n"
          ]
        },
        {
          "data": {
            "text/plain": [
              "-16.90486311041289"
            ]
          },
          "execution_count": 8,
          "metadata": {},
          "output_type": "execute_result"
        }
      ],
      "source": [
        "!pip install scikit-optimize\n",
        "from skopt import BayesSearchCV\n",
        "from skopt.space import Real, Integer\n",
        "\n",
        "xgbr = xgb.XGBRegressor()\n",
        "\n",
        "# we define the space for the parameter. for instance, \"eta\" is a real number between 0.1 and 0.5 and we want a uniform distribution as the prior.\n",
        "# params = {\"eta\": Real(0.1, 0.5, prior = \"uniform\"),\n",
        "  #        \"max_depth\": Integer(2, 8, prior = \"uniform\"),\n",
        "   #       \"subsample\": Real(0.7, 1, prior = \"uniform\")}\n",
        "\n",
        "#search = BayesSearchCV(xgbr, params, cv=5, n_jobs=8, n_iter = 10, scoring=\"neg_mean_squared_error\")\n",
        "\n",
        "#search.fit(X, y)\n",
        "\n",
        "#search.best_params_\n",
        "#search.best_score_\n",
        "\n",
        "#xgbr.fit(X,y)\n",
        "\n",
        "#LOS_pred = pd.DataFrame(xgbr.predict(X_test)) "
      ]
    },
    {
      "cell_type": "markdown",
      "metadata": {
        "id": "EUfVJh_oNurK"
      },
      "source": [
        "Best scores were 4.15 RMSE for our simple grid search and 4.11 RSME for our Bayesian Grid Search. These are more promising than the one we got with Stacking. \n",
        "\n",
        "We use the hyperparameters suggested by BGS, fit our model and make predictions:"
      ]
    },
    {
      "cell_type": "code",
      "execution_count": null,
      "metadata": {
        "colab": {
          "base_uri": "https://localhost:8080/"
        },
        "id": "AFEYEuaqPH7n",
        "outputId": "18a0f4a9-7b30-485a-c244-b2f3425a4d04"
      },
      "outputs": [
        {
          "name": "stdout",
          "output_type": "stream",
          "text": [
            "[16:42:57] WARNING: /workspace/src/objective/regression_obj.cu:152: reg:linear is now deprecated in favor of reg:squarederror.\n"
          ]
        }
      ],
      "source": [
        "xgbr = xgb.XGBRegressor(n_estimators = 200, eta = 0.29748707337902003, max_depth = 5, subsample = 0.7458870482611535)\n",
        "\n",
        "xgbr.fit(X,y)\n",
        "\n",
        "LOS_pred = pd.DataFrame(xgbr.predict(X_test)) "
      ]
    },
    {
      "cell_type": "markdown",
      "metadata": {
        "id": "k_Q6d9MHNIbv"
      },
      "source": [
        "Note that, since we have not set a seed, and due to the fact that we are regressing LOS that are in some cases close to zero, you might get some predictions with negative values. This will be \"manually\" corrected later on.\n",
        "\n",
        "In my experience they are at most 2, out of the 5000+."
      ]
    },
    {
      "cell_type": "markdown",
      "metadata": {
        "id": "zp6ZGjtOzi6Y"
      },
      "source": [
        "####Bagging XGBOOST:"
      ]
    },
    {
      "cell_type": "markdown",
      "metadata": {
        "id": "LS-UbPkmDtFm"
      },
      "source": [
        "If XGBOOST by itself is nice, imagine bagging it. \n",
        "\n",
        "The grid search suggests using the exact default parameters for BaggingRegressor (in terms of bootstrap, bootstrapping features and max_samples). The higher the n_estimators, the better the results (more bootstrapped models aggregated), but also the longer it takes."
      ]
    },
    {
      "cell_type": "code",
      "execution_count": null,
      "metadata": {
        "colab": {
          "base_uri": "https://localhost:8080/"
        },
        "id": "InLOCflMziKT",
        "outputId": "3b4afe38-9b4a-468e-eccb-6588b1759029"
      },
      "outputs": [
        {
          "name": "stderr",
          "output_type": "stream",
          "text": [
            "/usr/local/lib/python3.7/dist-packages/sklearn/ensemble/_bagging.py:429: DataConversionWarning: A column-vector y was passed when a 1d array was expected. Please change the shape of y to (n_samples, ), for example using ravel().\n",
            "  return column_or_1d(y, warn=True)\n",
            "[Parallel(n_jobs=8)]: Using backend LokyBackend with 8 concurrent workers.\n",
            "/usr/local/lib/python3.7/dist-packages/joblib/externals/loky/process_executor.py:705: UserWarning: A worker stopped while some jobs were given to the executor. This can be caused by a too short worker timeout or by a memory leak.\n",
            "  \"timeout or by a memory leak.\", UserWarning\n",
            "[Parallel(n_jobs=8)]: Done   3 out of   8 | elapsed:  9.5min remaining: 15.8min\n",
            "[Parallel(n_jobs=8)]: Done   8 out of   8 | elapsed: 10.8min remaining:    0.0s\n",
            "[Parallel(n_jobs=8)]: Done   8 out of   8 | elapsed: 10.8min finished\n",
            "[Parallel(n_jobs=8)]: Using backend LokyBackend with 8 concurrent workers.\n",
            "[Parallel(n_jobs=8)]: Done   3 out of   8 | elapsed:    0.9s remaining:    1.5s\n",
            "[Parallel(n_jobs=8)]: Done   8 out of   8 | elapsed:    1.2s remaining:    0.0s\n",
            "[Parallel(n_jobs=8)]: Done   8 out of   8 | elapsed:    1.2s finished\n"
          ]
        }
      ],
      "source": [
        "from sklearn.ensemble import BaggingRegressor\n",
        "\n",
        "baggedXGB = BaggingRegressor(base_estimator = xgbr, n_estimators = 20, verbose=2, bootstrap=True, bootstrap_features=False, max_samples=1.0, n_jobs = 8)\n",
        "\n",
        "#Grid Search:\n",
        "#baggedXGB = BaggingRegressor(base_estimator = xgbr, n_estimators = 5, verbose=2, n_jobs = 8)\n",
        "#params = {\"max_samples\": [0.8, 1.0],\n",
        "#        \"bootstrap\": [True],\n",
        "#        \"bootstrap_features\": [True, False]}\n",
        "\n",
        "\n",
        "#search = GridSearchCV(baggedXGB, params, cv=3, n_jobs=8, scoring=\"neg_mean_squared_error\")\n",
        "\n",
        "#search.fit(X, y)\n",
        "\n",
        "#search.best_params_\n",
        "#search.best_score_\n",
        "\n",
        "baggedXGB.fit(X,y)\n",
        "LOS_baggedXBG = baggedXGB.predict(X_test)"
      ]
    },
    {
      "cell_type": "markdown",
      "metadata": {
        "id": "-GZWZAPrREjJ"
      },
      "source": [
        "Best score was 4.09 RMSE, which is only slightly better than the one we got with a single XBGR model, but only 5 estimators were built to keep runtimes short. \n",
        "\n",
        "The more estimators used, the higher the reduction in variance, since conceptually you are training your model with many different datasets making it less data-specific and more general. Of course, the more n_estimators, the more expensive in computational times our model becomes.\n",
        "\n",
        "We end up fitting the optimally hyperparameterized model with 20 estimators."
      ]
    },
    {
      "cell_type": "code",
      "execution_count": null,
      "metadata": {
        "colab": {
          "base_uri": "https://localhost:8080/",
          "height": 300
        },
        "id": "6eTAK_FK6m8h",
        "outputId": "aa6dd5fb-f9b3-42e2-e722-9b60b5cad458"
      },
      "outputs": [
        {
          "data": {
            "text/html": [
              "<div>\n",
              "<style scoped>\n",
              "    .dataframe tbody tr th:only-of-type {\n",
              "        vertical-align: middle;\n",
              "    }\n",
              "\n",
              "    .dataframe tbody tr th {\n",
              "        vertical-align: top;\n",
              "    }\n",
              "\n",
              "    .dataframe thead th {\n",
              "        text-align: right;\n",
              "    }\n",
              "</style>\n",
              "<table border=\"1\" class=\"dataframe\">\n",
              "  <thead>\n",
              "    <tr style=\"text-align: right;\">\n",
              "      <th></th>\n",
              "      <th>0</th>\n",
              "    </tr>\n",
              "  </thead>\n",
              "  <tbody>\n",
              "    <tr>\n",
              "      <th>count</th>\n",
              "      <td>5221.000000</td>\n",
              "    </tr>\n",
              "    <tr>\n",
              "      <th>mean</th>\n",
              "      <td>3.748377</td>\n",
              "    </tr>\n",
              "    <tr>\n",
              "      <th>std</th>\n",
              "      <td>3.242283</td>\n",
              "    </tr>\n",
              "    <tr>\n",
              "      <th>min</th>\n",
              "      <td>-0.737201</td>\n",
              "    </tr>\n",
              "    <tr>\n",
              "      <th>25%</th>\n",
              "      <td>1.813054</td>\n",
              "    </tr>\n",
              "    <tr>\n",
              "      <th>50%</th>\n",
              "      <td>2.624174</td>\n",
              "    </tr>\n",
              "    <tr>\n",
              "      <th>75%</th>\n",
              "      <td>4.389837</td>\n",
              "    </tr>\n",
              "    <tr>\n",
              "      <th>max</th>\n",
              "      <td>34.612198</td>\n",
              "    </tr>\n",
              "  </tbody>\n",
              "</table>\n",
              "</div>"
            ],
            "text/plain": [
              "                 0\n",
              "count  5221.000000\n",
              "mean      3.748377\n",
              "std       3.242283\n",
              "min      -0.737201\n",
              "25%       1.813054\n",
              "50%       2.624174\n",
              "75%       4.389837\n",
              "max      34.612198"
            ]
          },
          "execution_count": 29,
          "metadata": {},
          "output_type": "execute_result"
        }
      ],
      "source": [
        "pd.DataFrame(LOS_baggedXBG).describe()"
      ]
    },
    {
      "cell_type": "markdown",
      "metadata": {
        "id": "PIcHRRFewptR"
      },
      "source": [
        "## To Kaggle"
      ]
    },
    {
      "cell_type": "markdown",
      "metadata": {
        "id": "BEUrdZdq7iK-"
      },
      "source": [
        "Since our Bagged Extreme Gradient Booster model shows the most promise, it is the one we end up coding for the kaggle submission.\n",
        "\n",
        "The other predictions were also uploaded but did worse.\n",
        "\n",
        "As stated before, some predictions might be negative, which makes sense for a regression model predicting values close to 0. We add a constraint that sets all negative values to 0.1.\n",
        "\n",
        "This does not affect significantly the kaggle score, since it is only for 1 or 2 predictions out of 5000+, and for values very close to 0."
      ]
    },
    {
      "cell_type": "code",
      "execution_count": null,
      "metadata": {
        "colab": {
          "base_uri": "https://localhost:8080/",
          "height": 424
        },
        "id": "rAxEC847Z2AD",
        "outputId": "29774cf1-b24d-403d-dd21-21ea574d688f"
      },
      "outputs": [
        {
          "data": {
            "text/html": [
              "<div>\n",
              "<style scoped>\n",
              "    .dataframe tbody tr th:only-of-type {\n",
              "        vertical-align: middle;\n",
              "    }\n",
              "\n",
              "    .dataframe tbody tr th {\n",
              "        vertical-align: top;\n",
              "    }\n",
              "\n",
              "    .dataframe thead th {\n",
              "        text-align: right;\n",
              "    }\n",
              "</style>\n",
              "<table border=\"1\" class=\"dataframe\">\n",
              "  <thead>\n",
              "    <tr style=\"text-align: right;\">\n",
              "      <th></th>\n",
              "      <th>icustay_id</th>\n",
              "      <th>LOS</th>\n",
              "    </tr>\n",
              "  </thead>\n",
              "  <tbody>\n",
              "    <tr>\n",
              "      <th>0</th>\n",
              "      <td>208169</td>\n",
              "      <td>5.189625</td>\n",
              "    </tr>\n",
              "    <tr>\n",
              "      <th>1</th>\n",
              "      <td>251754</td>\n",
              "      <td>9.675256</td>\n",
              "    </tr>\n",
              "    <tr>\n",
              "      <th>2</th>\n",
              "      <td>242171</td>\n",
              "      <td>2.821512</td>\n",
              "    </tr>\n",
              "    <tr>\n",
              "      <th>3</th>\n",
              "      <td>263035</td>\n",
              "      <td>3.666711</td>\n",
              "    </tr>\n",
              "    <tr>\n",
              "      <th>4</th>\n",
              "      <td>279388</td>\n",
              "      <td>10.368161</td>\n",
              "    </tr>\n",
              "    <tr>\n",
              "      <th>...</th>\n",
              "      <td>...</td>\n",
              "      <td>...</td>\n",
              "    </tr>\n",
              "    <tr>\n",
              "      <th>5216</th>\n",
              "      <td>278087</td>\n",
              "      <td>7.519275</td>\n",
              "    </tr>\n",
              "    <tr>\n",
              "      <th>5217</th>\n",
              "      <td>266914</td>\n",
              "      <td>12.749612</td>\n",
              "    </tr>\n",
              "    <tr>\n",
              "      <th>5218</th>\n",
              "      <td>213413</td>\n",
              "      <td>1.310329</td>\n",
              "    </tr>\n",
              "    <tr>\n",
              "      <th>5219</th>\n",
              "      <td>286384</td>\n",
              "      <td>1.794740</td>\n",
              "    </tr>\n",
              "    <tr>\n",
              "      <th>5220</th>\n",
              "      <td>280741</td>\n",
              "      <td>1.443170</td>\n",
              "    </tr>\n",
              "  </tbody>\n",
              "</table>\n",
              "<p>5221 rows × 2 columns</p>\n",
              "</div>"
            ],
            "text/plain": [
              "      icustay_id        LOS\n",
              "0         208169   5.189625\n",
              "1         251754   9.675256\n",
              "2         242171   2.821512\n",
              "3         263035   3.666711\n",
              "4         279388  10.368161\n",
              "...          ...        ...\n",
              "5216      278087   7.519275\n",
              "5217      266914  12.749612\n",
              "5218      213413   1.310329\n",
              "5219      286384   1.794740\n",
              "5220      280741   1.443170\n",
              "\n",
              "[5221 rows x 2 columns]"
            ]
          },
          "execution_count": 30,
          "metadata": {},
          "output_type": "execute_result"
        }
      ],
      "source": [
        "test_data = pd.read_csv('mimic_test_los.csv')\n",
        "submit = pd.DataFrame(test_data[\"icustay_id\"])\n",
        "submit[\"LOS\"] = LOS_baggedXBG #LOS_pred #slPred\n",
        "\n",
        "#regression can offer some negative values for LOS if the model predicts they will be very low. We correct that here:\n",
        "submit['LOS'] = submit['LOS'].apply(lambda x: 0.1 if x < 0 else x)\n",
        "\n",
        "#generate file to upload to kaggle\n",
        "submit.to_csv(path_or_buf='submit.csv', index=False)\n",
        "\n",
        "#show dataframe\n",
        "submit"
      ]
    }
  ],
  "metadata": {
    "colab": {
      "collapsed_sections": [
        "JSYuwqlVxLMy",
        "DAIjfH7YwptA",
        "iunVvv5SwptE",
        "1T8J6WJAF3Is",
        "23TOaCNLwptI"
      ],
      "name": "Juan Picciotti - Decision Trees.ipynb",
      "provenance": []
    },
    "kernelspec": {
      "display_name": "Python 3",
      "language": "python",
      "name": "python3"
    },
    "language_info": {
      "codemirror_mode": {
        "name": "ipython",
        "version": 3
      },
      "file_extension": ".py",
      "mimetype": "text/x-python",
      "name": "python",
      "nbconvert_exporter": "python",
      "pygments_lexer": "ipython3",
      "version": "3.8.8"
    },
    "toc": {
      "base_numbering": 1,
      "nav_menu": {},
      "number_sections": true,
      "sideBar": true,
      "skip_h1_title": false,
      "title_cell": "Table of Contents",
      "title_sidebar": "Contents",
      "toc_cell": false,
      "toc_position": {},
      "toc_section_display": true,
      "toc_window_display": true
    }
  },
  "nbformat": 4,
  "nbformat_minor": 0
}
